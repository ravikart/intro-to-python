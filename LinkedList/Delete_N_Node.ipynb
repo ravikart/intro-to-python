{
 "cells": [
  {
   "cell_type": "code",
   "execution_count": 1,
   "metadata": {},
   "outputs": [
    {
     "name": "stdout",
     "output_type": "stream",
     "text": [
      "1 2 3 4 5 6 7 8 9 -1\n",
      "2\n",
      "2\n",
      "1 2 5 6 9 \n"
     ]
    }
   ],
   "source": [
    "class Node:\n",
    "    def __init__(self, data):\n",
    "        self.data = data\n",
    "        self.next = None\n",
    "\n",
    "def skipMdeleteN(head, M, N):\n",
    "    if head is None:\n",
    "        return head\n",
    "    if M == 0:\n",
    "        return None\n",
    "    temp = head\n",
    "    prev = None\n",
    "    cnt = 0\n",
    "    while temp is not None:\n",
    "        if(cnt == M):\n",
    "            break\n",
    "        cnt += 1\n",
    "        prev = temp\n",
    "        temp = temp.next\n",
    "    cnt = 0\n",
    "    while temp is not None:\n",
    "        if(cnt == N):\n",
    "            break\n",
    "        cnt += 1\n",
    "        temp = temp.next\n",
    "        \n",
    "    prev.next = skipMdeleteN(temp, M, N)\n",
    "    return head\n",
    "    \n",
    "def ll(arr):\n",
    "    if len(arr)==0:\n",
    "        return None\n",
    "    head = Node(arr[0])\n",
    "    last = head\n",
    "    for data in arr[1:]:\n",
    "        last.next = Node(data)\n",
    "        last = last.next\n",
    "    return head\n",
    "\n",
    "def printll(head):\n",
    "    while head:\n",
    "        print(head.data, end=' ')\n",
    "        head = head.next\n",
    "    print()\n",
    "\n",
    "\n",
    "arr=list(int(i) for i in input().strip().split(' '))\n",
    "\n",
    "l = ll(arr[:-1])\n",
    "m=int(input())\n",
    "n=int(input())\n",
    "\n",
    "l = skipMdeleteN(l, m, n)\n",
    "printll(l)"
   ]
  }
 ],
 "metadata": {
  "kernelspec": {
   "display_name": "Python 3",
   "language": "python",
   "name": "python3"
  },
  "language_info": {
   "codemirror_mode": {
    "name": "ipython",
    "version": 3
   },
   "file_extension": ".py",
   "mimetype": "text/x-python",
   "name": "python",
   "nbconvert_exporter": "python",
   "pygments_lexer": "ipython3",
   "version": "3.7.3"
  }
 },
 "nbformat": 4,
 "nbformat_minor": 2
}
