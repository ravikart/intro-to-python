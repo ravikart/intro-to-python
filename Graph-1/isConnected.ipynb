{
 "cells": [
  {
   "cell_type": "code",
   "execution_count": 3,
   "metadata": {},
   "outputs": [
    {
     "name": "stdout",
     "output_type": "stream",
     "text": [
      "4 3\n",
      "0 1\n",
      "1 3\n",
      "0 3\n",
      "true\n"
     ]
    }
   ],
   "source": [
    "import queue\n",
    "\n",
    "class Graph:\n",
    "    def __init__(self,nVertices):\n",
    "        self.nVertices = nVertices\n",
    "        self.adjMatrix = [[ 0 for i in range(nVertices)] for j in range(nVertices)]\n",
    "        self.vertexList = [i for i in range(nVertices)]\n",
    "        \n",
    "    def addEdge(self,v1,v2):\n",
    "        self.adjMatrix[v1][v2] = 1\n",
    "        self.adjMatrix[v2][v1] = 1\n",
    "        \n",
    "        \n",
    "    def removeEdge(self,v1,v2):\n",
    "        if self.containEdge(v1,v2) is False:\n",
    "            return\n",
    "        \n",
    "        self.adjMatrix[v1][v2] = 0\n",
    "        self.adjMatrix[v2][v1] = 0\n",
    "        \n",
    "    def containEdge(self,v1,v2):\n",
    "        return True if self.adjMatrix[v1][v2] > 0 else False\n",
    "    \n",
    "    def __bfshelper(self,sv,visited):\n",
    "        q = queue.Queue();\n",
    "        q.put(sv)\n",
    "        visited[sv] = True\n",
    "        while q.empty() is False:\n",
    "            u = q.get()\n",
    "            #print(u,end=\" \")\n",
    "            for i in range(self.nVertices):\n",
    "                if visited[i] is False and self.adjMatrix[u][i] > 0:\n",
    "                    q.put(i)\n",
    "                    visited[i] = True\n",
    "                    \n",
    "                    \n",
    "    def bfs(self):\n",
    "        visited = [False for i in range(self.nVertices)]\n",
    "        self.__bfshelper(0,visited)\n",
    "        return visited\n",
    "                \n",
    "                \n",
    "    def isConnected(self):\n",
    "        visitedArray = self.bfs()\n",
    "        for i in visitedArray:\n",
    "            if i is False:\n",
    "                return False\n",
    "            \n",
    "        return True\n",
    "                    \n",
    "                    \n",
    "                    \n",
    "veData = [int(i) for i in input().split()]\n",
    "g = Graph(veData[0])\n",
    "for i in range(veData[1]):\n",
    "    datalist = [int(j) for j in input().split()]\n",
    "    g.addEdge(datalist[0],datalist[1])\n",
    "    \n",
    "if g.isConnected() is True:\n",
    "    print('true')\n",
    "else:\n",
    "    print('false')\n"
   ]
  }
 ],
 "metadata": {
  "kernelspec": {
   "display_name": "Python 3",
   "language": "python",
   "name": "python3"
  },
  "language_info": {
   "codemirror_mode": {
    "name": "ipython",
    "version": 3
   },
   "file_extension": ".py",
   "mimetype": "text/x-python",
   "name": "python",
   "nbconvert_exporter": "python",
   "pygments_lexer": "ipython3",
   "version": "3.7.6"
  }
 },
 "nbformat": 4,
 "nbformat_minor": 4
}
