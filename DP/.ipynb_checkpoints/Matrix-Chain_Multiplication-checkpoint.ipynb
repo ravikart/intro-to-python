{
 "cells": [
  {
   "cell_type": "code",
   "execution_count": null,
   "metadata": {},
   "outputs": [],
   "source": [
    "import sys\n",
    "\n",
    "def matrixChainMultiplication(p,i,j,dp):\n",
    "    \n",
    "    if j == i:\n",
    "        return 0\n",
    "    \n",
    "    minValue = sys.maxsize\n",
    "    for k in range(i,j):\n",
    "        if dp[i][k] == -1:\n",
    "            ans1 = matrixChainMultiplication(p,i,k,dp)\n",
    "            dp[i][k] = ans1\n",
    "        else:\n",
    "            ans1 = dp[i][k]\n",
    "            \n",
    "        if dp[k+1][j] == -1:\n",
    "            ans2 = matrixChainMultiplication(p,k+1,j,dp)\n",
    "            dp[k+1][j] = ans2\n",
    "        else:\n",
    "            ans2 = dp[k+1][j]\n",
    "        \n",
    "        mCost = p[i-1]*p[k]*p[j]\n",
    "        currentValue = ans1 + ans2 + mCost\n",
    "        minValue = min(currentValue,minValue)\n",
    "        \n",
    "    return minValue\n",
    "        \n",
    "\n",
    "size = int(input())\n",
    "p = [int(x) for x in input().split()]\n",
    "n = len(p) - 1\n",
    "dp = [[-1 for i in range(n+1)] for j in range(n+1)]\n",
    "ans = matrixChainMultiplication(p,1,n,dp)\n",
    "print(ans)"
   ]
  }
 ],
 "metadata": {
  "kernelspec": {
   "display_name": "Python 3",
   "language": "python",
   "name": "python3"
  },
  "language_info": {
   "codemirror_mode": {
    "name": "ipython",
    "version": 3
   },
   "file_extension": ".py",
   "mimetype": "text/x-python",
   "name": "python",
   "nbconvert_exporter": "python",
   "pygments_lexer": "ipython3",
   "version": "3.7.6"
  }
 },
 "nbformat": 4,
 "nbformat_minor": 4
}
