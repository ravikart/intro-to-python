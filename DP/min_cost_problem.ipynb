{
 "cells": [
  {
   "cell_type": "code",
   "execution_count": 3,
   "metadata": {},
   "outputs": [
    {
     "name": "stdout",
     "output_type": "stream",
     "text": [
      "3 4 \n",
      "3 4 1 2\n",
      "2 1 8 9\n",
      "4 7 8 1\n",
      "[[3, 4, 1, 2], [2, 1, 8, 9], [4, 7, 8, 1]]\n",
      "13\n"
     ]
    }
   ],
   "source": [
    "import sys\n",
    "\n",
    "def minCostIterative(cost,n,m):\n",
    "    dp = [[sys.maxsize for j in range(m+1)] for i in range(n+1)]\n",
    "    #print(dp)\n",
    "    for i in range(n-1,-1,-1):\n",
    "        for j in range(m-1,-1,-1):\n",
    "            if i == n-1 and j==m-1:\n",
    "                dp[i][j] = cost[i][j]\n",
    "            else:\n",
    "                ans1 = dp[i+1][j]\n",
    "                ans2 = dp[i][j+1]\n",
    "                ans3 = dp[i+1][j+1]\n",
    "                dp[i][j] = cost[i][j] + min(ans1,ans2,ans3)\n",
    "    #print(dp)\n",
    "    return dp[0][0]\n",
    "\n",
    "sizeList = [int(i) for i in input().split()]\n",
    "m,n = sizeList[0],sizeList[1]\n",
    "dataList = list()\n",
    "for i in range(m):\n",
    "    rowValue = [int(x) for x in input().split()]\n",
    "    dataList.append(rowValue)\n",
    "#print(dataList)\n",
    "ans = minCostIterative(dataList,m,n)\n",
    "print(ans)"
   ]
  }
 ],
 "metadata": {
  "kernelspec": {
   "display_name": "Python 3",
   "language": "python",
   "name": "python3"
  },
  "language_info": {
   "codemirror_mode": {
    "name": "ipython",
    "version": 3
   },
   "file_extension": ".py",
   "mimetype": "text/x-python",
   "name": "python",
   "nbconvert_exporter": "python",
   "pygments_lexer": "ipython3",
   "version": "3.7.3"
  }
 },
 "nbformat": 4,
 "nbformat_minor": 2
}
