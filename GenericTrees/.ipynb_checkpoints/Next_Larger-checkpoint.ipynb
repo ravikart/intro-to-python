{
 "cells": [
  {
   "cell_type": "code",
   "execution_count": 10,
   "metadata": {},
   "outputs": [
    {
     "name": "stdout",
     "output_type": "stream",
     "text": [
      "80\n",
      "1 3 20 3 40 1 90 2 50 6 1 100 1 150 17 1000 2000 3000 4000 5000 6000 7000 85 86 87 88 89 92 93 94 95 96 1 80 1 83 0 0 0 0 0 0 0 0 0 0 0 0 0 0 0 0 0 0 0 0\n",
      "<__main__.treeNode object at 0x0000012F7F5F6630>\n",
      "<__main__.treeNode object at 0x0000012F7F5F64A8>\n",
      "None\n",
      "<__main__.treeNode object at 0x0000012F7F5F62B0>\n",
      "<__main__.treeNode object at 0x0000012F7F5F60F0>\n",
      "<__main__.treeNode object at 0x0000012F7F5F6470>\n",
      "<__main__.treeNode object at 0x0000012F7F5F6B70>\n",
      "<__main__.treeNode object at 0x0000012F7F5EF2B0>\n",
      "<__main__.treeNode object at 0x0000012F7F5EF400>\n",
      "<__main__.treeNode object at 0x0000012F7F5EF160>\n",
      "<__main__.treeNode object at 0x0000012F7F5EF0F0>\n",
      "<__main__.treeNode object at 0x0000012F7F5EF080>\n",
      "<__main__.treeNode object at 0x0000012F7F5EFCC0>\n",
      "<__main__.treeNode object at 0x0000012F7F5EF748>\n",
      "<__main__.treeNode object at 0x0000012F7F56A320>\n",
      "<__main__.treeNode object at 0x0000012F7F56A048>\n",
      "<__main__.treeNode object at 0x0000012F7F56A278>\n",
      "<__main__.treeNode object at 0x0000012F7F56A358>\n",
      "<__main__.treeNode object at 0x0000012F7F56A198>\n",
      "<__main__.treeNode object at 0x0000012F7F56A240>\n",
      "None\n",
      "None\n",
      "None\n",
      "None\n",
      "<__main__.treeNode object at 0x0000012F7F56A668>\n",
      "<__main__.treeNode object at 0x0000012F7F56A668>\n",
      "None\n"
     ]
    },
    {
     "ename": "AttributeError",
     "evalue": "'NoneType' object has no attribute 'data'",
     "output_type": "error",
     "traceback": [
      "\u001b[1;31m---------------------------------------------------------------------------\u001b[0m",
      "\u001b[1;31mAttributeError\u001b[0m                            Traceback (most recent call last)",
      "\u001b[1;32m<ipython-input-10-3677715dfc25>\u001b[0m in \u001b[0;36m<module>\u001b[1;34m\u001b[0m\n\u001b[0;32m     43\u001b[0m \u001b[0marr\u001b[0m \u001b[1;33m=\u001b[0m \u001b[0mlist\u001b[0m\u001b[1;33m(\u001b[0m\u001b[0mint\u001b[0m\u001b[1;33m(\u001b[0m\u001b[0mx\u001b[0m\u001b[1;33m)\u001b[0m \u001b[1;32mfor\u001b[0m \u001b[0mx\u001b[0m \u001b[1;32min\u001b[0m \u001b[0minput\u001b[0m\u001b[1;33m(\u001b[0m\u001b[1;33m)\u001b[0m\u001b[1;33m.\u001b[0m\u001b[0mstrip\u001b[0m\u001b[1;33m(\u001b[0m\u001b[1;33m)\u001b[0m\u001b[1;33m.\u001b[0m\u001b[0msplit\u001b[0m\u001b[1;33m(\u001b[0m\u001b[1;34m' '\u001b[0m\u001b[1;33m)\u001b[0m\u001b[1;33m)\u001b[0m\u001b[1;33m\u001b[0m\u001b[1;33m\u001b[0m\u001b[0m\n\u001b[0;32m     44\u001b[0m \u001b[0mtree\u001b[0m \u001b[1;33m=\u001b[0m \u001b[0mcreateLevelWiseTree\u001b[0m\u001b[1;33m(\u001b[0m\u001b[0marr\u001b[0m\u001b[1;33m)\u001b[0m\u001b[1;33m\u001b[0m\u001b[1;33m\u001b[0m\u001b[0m\n\u001b[1;32m---> 45\u001b[1;33m \u001b[0mprint\u001b[0m\u001b[1;33m(\u001b[0m\u001b[0mnextLargest\u001b[0m\u001b[1;33m(\u001b[0m\u001b[0mtree\u001b[0m\u001b[1;33m,\u001b[0m \u001b[0mn\u001b[0m\u001b[1;33m)\u001b[0m\u001b[1;33m.\u001b[0m\u001b[0mdata\u001b[0m\u001b[1;33m)\u001b[0m\u001b[1;33m\u001b[0m\u001b[1;33m\u001b[0m\u001b[0m\n\u001b[0m",
      "\u001b[1;31mAttributeError\u001b[0m: 'NoneType' object has no attribute 'data'"
     ]
    }
   ],
   "source": [
    "class treeNode:\n",
    "    def __init__(self, data):\n",
    "        self.data = data\n",
    "        self.children = []\n",
    "\n",
    "import queue        \n",
    "def nextLargest(tree, n):\n",
    "    if tree is None:\n",
    "        return \n",
    "    nextLarger = None\n",
    "    if tree.data > n:\n",
    "        nextLarger = tree\n",
    "    else:\n",
    "        nextLarger = None\n",
    "        \n",
    "    for child in tree.children:\n",
    "        childNextLarger = nextLargest(child,n)\n",
    "        print(childNextLarger)\n",
    "        if childNextLarger is not None:\n",
    "            if childNextLarger.data > n and childNextLarger.data < tree.data:\n",
    "                nextLarger = childNextLarger\n",
    "        else:\n",
    "            nextLarger = tree\n",
    "    \n",
    "    return nextLarger\n",
    "\n",
    "def createLevelWiseTree(arr):\n",
    "    root = treeNode(int(arr[0]))\n",
    "    q = [root]\n",
    "    size = len(arr)\n",
    "    i = 1\n",
    "    while i<size:\n",
    "        parent = q.pop(0)\n",
    "        childCount = int(arr[i])\n",
    "        i += 1\n",
    "        for j in range(0,childCount):\n",
    "            temp = treeNode(int(arr[i+j]))\n",
    "            parent.children.append(temp)\n",
    "            q.append(temp)\n",
    "        i += childCount\n",
    "    return root\n",
    "\n",
    "# Main\n",
    "n = int(input())\n",
    "arr = list(int(x) for x in input().strip().split(' '))\n",
    "tree = createLevelWiseTree(arr)\n",
    "print(nextLargest(tree, n).data)\n"
   ]
  }
 ],
 "metadata": {
  "kernelspec": {
   "display_name": "Python 3",
   "language": "python",
   "name": "python3"
  },
  "language_info": {
   "codemirror_mode": {
    "name": "ipython",
    "version": 3
   },
   "file_extension": ".py",
   "mimetype": "text/x-python",
   "name": "python",
   "nbconvert_exporter": "python",
   "pygments_lexer": "ipython3",
   "version": "3.7.3"
  }
 },
 "nbformat": 4,
 "nbformat_minor": 2
}
