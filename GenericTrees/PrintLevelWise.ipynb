{
 "cells": [
  {
   "cell_type": "code",
   "execution_count": 6,
   "metadata": {},
   "outputs": [
    {
     "name": "stdout",
     "output_type": "stream",
     "text": [
      "1 3 20 3 40 1 90 2 50 6 1 100 1 150 17 1000 2000 3000 4000 5000 6000 7000 85 86 87 88 89 92 93 94 95 96 1 80 1 83 0 0 0 0 0 0 0 0 0 0 0 0 0 0 0 0 0 0 0 0\n",
      "1 :20,3,40,\n",
      "20 :90,\n",
      "3 :50,6,\n",
      "40 :100,\n",
      "90 :150,\n",
      "50 :1000,2000,3000,4000,5000,6000,7000,85,86,87,88,89,92,93,94,95,96,\n",
      "6 :80,\n",
      "100 :83,\n",
      "150 :\n",
      "1000 :\n",
      "2000 :\n",
      "3000 :\n",
      "4000 :\n",
      "5000 :\n",
      "6000 :\n",
      "7000 :\n",
      "85 :\n",
      "86 :\n",
      "87 :\n",
      "88 :\n",
      "89 :\n",
      "92 :\n",
      "93 :\n",
      "94 :\n",
      "95 :\n",
      "96 :\n",
      "80 :\n",
      "83 :\n"
     ]
    }
   ],
   "source": [
    "import queue\n",
    "class treeNode:\n",
    "    def __init__(self, data):\n",
    "        self.data = data\n",
    "        self.children = []\n",
    "    def __str__(self):\n",
    "        return str(self.data)\n",
    "\n",
    "def printLevelWiseTree(tree):\n",
    "    q = queue.Queue()\n",
    "    if tree == None:\n",
    "        return\n",
    "    q.put(tree)\n",
    "    \n",
    "    while (not(q.empty())):\n",
    "        current_node = q.get()\n",
    "        print(current_node,\":\",end=\"\")\n",
    "        for child in current_node.children:\n",
    "            q.put(child)\n",
    "            print(child.data, end = \",\")\n",
    "        print()    \n",
    "    \n",
    "    \n",
    "def createLevelWiseTree(arr):\n",
    "    root = treeNode(int(arr[0]))\n",
    "    q = [root]\n",
    "    size = len(arr)\n",
    "    i = 1\n",
    "    while i<size:\n",
    "        parent = q.pop(0)\n",
    "        childCount = int(arr[i])\n",
    "        i += 1\n",
    "        for j in range(0,childCount):\n",
    "            temp = treeNode(int(arr[i+j]))\n",
    "            parent.children.append(temp)\n",
    "            q.append(temp)\n",
    "        i += childCount\n",
    "    return root\n",
    "\n",
    "# Main\n",
    "arr = list(int(x) for x in input().strip().split(' '))\n",
    "tree = createLevelWiseTree(arr)\n",
    "printLevelWiseTree(tree)\n"
   ]
  }
 ],
 "metadata": {
  "kernelspec": {
   "display_name": "Python 3",
   "language": "python",
   "name": "python3"
  },
  "language_info": {
   "codemirror_mode": {
    "name": "ipython",
    "version": 3
   },
   "file_extension": ".py",
   "mimetype": "text/x-python",
   "name": "python",
   "nbconvert_exporter": "python",
   "pygments_lexer": "ipython3",
   "version": "3.7.3"
  }
 },
 "nbformat": 4,
 "nbformat_minor": 2
}
