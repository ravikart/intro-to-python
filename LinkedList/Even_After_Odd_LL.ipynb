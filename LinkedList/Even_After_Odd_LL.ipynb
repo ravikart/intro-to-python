{
 "cells": [
  {
   "cell_type": "code",
   "execution_count": 1,
   "metadata": {},
   "outputs": [
    {
     "name": "stdout",
     "output_type": "stream",
     "text": [
      "1 2 3 5 4 6 9 8 -1\n",
      "1 3 5 9 2 4 6 8 \n"
     ]
    }
   ],
   "source": [
    "# Problem ID 331 even after odd in a LL\n",
    "class Node:\n",
    "    def __init__(self, data):\n",
    "        self.data = data\n",
    "        self.next = None\n",
    "\n",
    "def arrange_LinkedList(head):\n",
    "    if head is None:\n",
    "        return head\n",
    "    curr = head\n",
    "    \n",
    "    head1 = None\n",
    "    head2 = None\n",
    "    \n",
    "    while curr is not None:\n",
    "        if curr.data &1:\n",
    "            if head1 is None:\n",
    "                head1 = curr\n",
    "                tail1 = curr\n",
    "            else:\n",
    "                tail1.next = curr\n",
    "                tail1 = tail1.next\n",
    "        else:\n",
    "            if head2 is None:\n",
    "                head2 = curr\n",
    "                tail2 = curr\n",
    "            else:\n",
    "                tail2.next = curr\n",
    "                tail2 = tail2.next\n",
    "                        \n",
    "        curr = curr.next\n",
    "        \n",
    "    if head1 is None or head2 is None:     # If you get an entire even list or entire odd list\n",
    "        return head\n",
    "    \n",
    "    tail2.next = None        \n",
    "    tail1.next = head2\n",
    "        \n",
    "    return head1                    \n",
    "    \n",
    "    \n",
    "\n",
    "def ll(arr):\n",
    "    if len(arr)==0:\n",
    "        return None\n",
    "    head = Node(arr[0])\n",
    "    last = head\n",
    "    for data in arr[1:]:\n",
    "        last.next = Node(data)\n",
    "        last = last.next\n",
    "    return head\n",
    "\n",
    "def printll(head):\n",
    "    while head:\n",
    "        print(head.data, end=' ')\n",
    "        head = head.next\n",
    "    print()\n",
    "\n",
    "# Main\n",
    "# Read the link list elements including -1\n",
    "arr=list(int(i) for i in input().strip().split(' '))\n",
    "# Create a Linked list after removing -1 from list\n",
    "l = ll(arr[:-1])\n",
    "l = arrange_LinkedList(l)\n",
    "printll(l)\n"
   ]
  }
 ],
 "metadata": {
  "kernelspec": {
   "display_name": "Python 3",
   "language": "python",
   "name": "python3"
  },
  "language_info": {
   "codemirror_mode": {
    "name": "ipython",
    "version": 3
   },
   "file_extension": ".py",
   "mimetype": "text/x-python",
   "name": "python",
   "nbconvert_exporter": "python",
   "pygments_lexer": "ipython3",
   "version": "3.7.3"
  }
 },
 "nbformat": 4,
 "nbformat_minor": 2
}
