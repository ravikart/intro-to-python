{
 "cells": [
  {
   "cell_type": "code",
   "execution_count": 3,
   "metadata": {},
   "outputs": [
    {
     "name": "stdout",
     "output_type": "stream",
     "text": [
      "abedgjc\n",
      "bmdgsc\n",
      "3\n"
     ]
    }
   ],
   "source": [
    "def lcs(str1,str2,i,j):\n",
    "    \n",
    "    if (i >= len(str1)) or (j >= len(str2)):\n",
    "        return 0\n",
    "    \n",
    "    if str1[i] == str2[j]:\n",
    "        ans = 1 + lcs(str1,str2,i+i,j+1)\n",
    "    else:\n",
    "        ans1 = lcs(str1,str2,i+1,j)\n",
    "        ans2 = lcs(str1,str2,i,j+1)\n",
    "        ans = max(ans1,ans2)\n",
    "        \n",
    "    return ans\n",
    "\n",
    "\n",
    "str1 = input()\n",
    "str2 = input()\n",
    "ans = lcs(str1,str2,0,0)\n",
    "print(ans)"
   ]
  },
  {
   "cell_type": "code",
   "execution_count": 6,
   "metadata": {},
   "outputs": [
    {
     "name": "stdout",
     "output_type": "stream",
     "text": [
      "abedgjc\n",
      "bmdgsc\n",
      "4\n"
     ]
    }
   ],
   "source": [
    "def lcs(str1,str2):\n",
    "    n = len(str1)\n",
    "    m = len(str2)\n",
    "    \n",
    "    dp = [[0 for i in range(m+1)] for j in range(n+1)]\n",
    "    \n",
    "    for i in range(n-1,-1,-1):\n",
    "        for j in range(m-1,-1,-1):\n",
    "            if str1[i] == str2[j]:\n",
    "                dp[i][j] = 1 + dp[i+1][j+1]\n",
    "            else:\n",
    "                dp[i][j] = max(dp[i+1][j],dp[i][j+1])\n",
    "                \n",
    "    return dp[0][0]\n",
    "\n",
    "\n",
    "str1 = input()\n",
    "str2 = input()\n",
    "ans = lcs(str1,str2)\n",
    "print(ans)"
   ]
  }
 ],
 "metadata": {
  "kernelspec": {
   "display_name": "Python 3",
   "language": "python",
   "name": "python3"
  },
  "language_info": {
   "codemirror_mode": {
    "name": "ipython",
    "version": 3
   },
   "file_extension": ".py",
   "mimetype": "text/x-python",
   "name": "python",
   "nbconvert_exporter": "python",
   "pygments_lexer": "ipython3",
   "version": "3.7.6"
  }
 },
 "nbformat": 4,
 "nbformat_minor": 2
}
