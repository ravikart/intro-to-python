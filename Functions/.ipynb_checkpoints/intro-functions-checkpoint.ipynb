{
 "cells": [
  {
   "cell_type": "code",
   "execution_count": 7,
   "metadata": {},
   "outputs": [
    {
     "name": "stdout",
     "output_type": "stream",
     "text": [
      "5\n",
      "2\n",
      "5\n",
      "1\n",
      "2\n",
      "1\n",
      "3\n",
      "1\n"
     ]
    }
   ],
   "source": [
    "#Introduction to functions \n",
    "\n",
    "nValue = int(input())\n",
    "rValue = int(input())\n",
    "\n",
    "def findFactorial(number):\n",
    "    print(number);\n",
    "    n_factorial = 1;\n",
    "    for iterator in range(1,number+1):\n",
    "        n_factorial = n_factorial * iterator;\n",
    "    return n_factorial;\n",
    "\n",
    "print(findFactorial(nValue))\n",
    "print(findFactorial(rValue))\n",
    "print(findFactorial(nValue - rValue))\n",
    "    "
   ]
  },
  {
   "cell_type": "code",
   "execution_count": 4,
   "metadata": {},
   "outputs": [
    {
     "data": {
      "text/plain": [
       "1"
      ]
     },
     "execution_count": 4,
     "metadata": {},
     "output_type": "execute_result"
    }
   ],
   "source": []
  }
 ],
 "metadata": {
  "kernelspec": {
   "display_name": "Python 3",
   "language": "python",
   "name": "python3"
  },
  "language_info": {
   "codemirror_mode": {
    "name": "ipython",
    "version": 3
   },
   "file_extension": ".py",
   "mimetype": "text/x-python",
   "name": "python",
   "nbconvert_exporter": "python",
   "pygments_lexer": "ipython3",
   "version": "3.7.3"
  }
 },
 "nbformat": 4,
 "nbformat_minor": 2
}
