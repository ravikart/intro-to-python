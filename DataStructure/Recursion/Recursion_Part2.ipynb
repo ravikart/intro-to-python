{
 "cells": [
  {
   "cell_type": "code",
   "execution_count": 6,
   "metadata": {},
   "outputs": [
    {
     "name": "stdout",
     "output_type": "stream",
     "text": [
      "xaxb\n",
      "xaxb\n",
      "axb\n",
      "xb\n",
      "b\n",
      "\n"
     ]
    },
    {
     "data": {
      "text/plain": [
       "'ab'"
      ]
     },
     "execution_count": 6,
     "metadata": {},
     "output_type": "execute_result"
    }
   ],
   "source": [
    "#Remove X\n",
    "\n",
    "def removeX(inputString,modifiedString):\n",
    "    length = len(inputString)\n",
    "    if length == 0:\n",
    "        return modifiedString\n",
    "    \n",
    "    if(inputString[0] != 'x'):\n",
    "        modifiedString = modifiedString + inputString[0]\n",
    "        \n",
    "    return removeX(inputString[1:],modifiedString)\n",
    "    \n",
    "userString = input()\n",
    "removeX(userString,\"\")"
   ]
  },
  {
   "cell_type": "code",
   "execution_count": 9,
   "metadata": {},
   "outputs": [
    {
     "name": "stdout",
     "output_type": "stream",
     "text": [
      "aabccba\n",
      "a\n",
      "ab\n",
      "abc\n",
      "abcb\n",
      "abcba\n"
     ]
    }
   ],
   "source": [
    "def removeDuplicates(inputString,result):\n",
    "    if len(inputString) == 0 or len(inputString) == 1:\n",
    "        return result + inputString[0]\n",
    "    \n",
    "    if inputString[0] == inputString[1]:\n",
    "        return removeDuplicates(inputString[1:],result)\n",
    "    \n",
    "    result = result + inputString[0]\n",
    "    return removeDuplicates(inputString[1:],result)\n",
    "    \n",
    "    \n",
    "    \n",
    "userString = input()\n",
    "print(removeDuplicates(userString,\"\"))"
   ]
  }
 ],
 "metadata": {
  "kernelspec": {
   "display_name": "Python 3",
   "language": "python",
   "name": "python3"
  },
  "language_info": {
   "codemirror_mode": {
    "name": "ipython",
    "version": 3
   },
   "file_extension": ".py",
   "mimetype": "text/x-python",
   "name": "python",
   "nbconvert_exporter": "python",
   "pygments_lexer": "ipython3",
   "version": "3.7.3"
  }
 },
 "nbformat": 4,
 "nbformat_minor": 2
}
