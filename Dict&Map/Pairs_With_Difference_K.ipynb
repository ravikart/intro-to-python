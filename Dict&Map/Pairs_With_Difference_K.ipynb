{
 "cells": [
  {
   "cell_type": "code",
   "execution_count": 35,
   "metadata": {},
   "outputs": [
    {
     "name": "stdout",
     "output_type": "stream",
     "text": [
      "5\n",
      "0 0 0 0 0\n",
      "0\n",
      "0 0\n",
      "0 0\n",
      "0 0\n",
      "0 0\n",
      "0 0\n",
      "0 0\n",
      "0 0\n",
      "0 0\n",
      "0 0\n",
      "0 0\n"
     ]
    }
   ],
   "source": [
    "def printPairDiffK(l, k):\n",
    "    if k < 0:\n",
    "        k = k * -1\n",
    "    \n",
    "    m = {}\n",
    "    for num in l:\n",
    "        if num+k in m:\n",
    "            for i in range(0,m[num+k]):\n",
    "                print(num,num+k)\n",
    "        if k!=0 and num-k in m:\n",
    "            for i in range(0,m[num-k]):\n",
    "                print(num-k,num)\n",
    "        if num in m:\n",
    "            m[num] = m[num] + 1\n",
    "        else:\n",
    "            m[num] = 1\n",
    "            \n",
    "n=int(input())\n",
    "l=list(int(i) for i in input().strip().split(' '))\n",
    "#l.sort()\n",
    "k=int(input())\n",
    "printPairDiffK(l, k)"
   ]
  }
 ],
 "metadata": {
  "kernelspec": {
   "display_name": "Python 3",
   "language": "python",
   "name": "python3"
  },
  "language_info": {
   "codemirror_mode": {
    "name": "ipython",
    "version": 3
   },
   "file_extension": ".py",
   "mimetype": "text/x-python",
   "name": "python",
   "nbconvert_exporter": "python",
   "pygments_lexer": "ipython3",
   "version": "3.7.3"
  }
 },
 "nbformat": 4,
 "nbformat_minor": 2
}
