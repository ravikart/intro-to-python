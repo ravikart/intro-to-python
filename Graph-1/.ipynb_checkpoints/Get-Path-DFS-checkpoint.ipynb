{
 "cells": [
  {
   "cell_type": "code",
   "execution_count": 5,
   "metadata": {},
   "outputs": [
    {
     "name": "stdout",
     "output_type": "stream",
     "text": [
      "6 3\n",
      "5 3\n",
      "0 1\n",
      "3 4\n",
      "0 3\n",
      "[0]\n"
     ]
    }
   ],
   "source": [
    "class Graph:\n",
    "    def __init__(self, nVertices):\n",
    "        self.nVertices = nVertices\n",
    "        self.adjMatrix = [[0 for i in range(nVertices)] for j in range(nVertices)]\n",
    "       \n",
    "    \n",
    "    def addEdge(self, v1, v2):\n",
    "        self.adjMatrix[v1][v2] = 1\n",
    "        self.adjMatrix[v2][v1] = 1\n",
    "        \n",
    "        \n",
    "    def removeEdge(self, v1, v2):\n",
    "        if self.containEdge(v1, v2) is False:\n",
    "            return\n",
    "        self.adjMatrix[v1][v2] = 0\n",
    "        self.adjMatrix[v2][v1] = 0\n",
    "        \n",
    "        \n",
    "    def containsEdge(self, v1, v2):\n",
    "        return True if self.adjMatrix[v1][v2] > 0 else False\n",
    "        \n",
    "    def __str__(self):\n",
    "        return str(self.adjMatrix)\n",
    "    \n",
    "    def __dfsHelper(self, source,destination,visited,path):\n",
    "        \n",
    "        if(self.adjMatrix[source][destination] > 0):\n",
    "                path.append(destination)\n",
    "                return True\n",
    "            \n",
    "        visited[source] = True\n",
    "        for i in range(self.nVertices):\n",
    "            if self.adjMatrix[source][i] > 0 and visited[i] is False:\n",
    "                 if (self.__dfsHelper(i,destination,visited,path) is True):\n",
    "                        path.append(i)\n",
    "                        return True\n",
    "                \n",
    "        return False\n",
    "        \n",
    "    \n",
    "    def dfs(self,source,destination):\n",
    "        path = list()\n",
    "        visited = [False for i in range(self.nVertices)]\n",
    "        if (self.__dfsHelper(source, destination, visited,path)):\n",
    "            path.append(source)\n",
    "        return path        \n",
    "                \n",
    "                \n",
    "                \n",
    "veData = [int(i) for i in input().split()]\n",
    "g = Graph(veData[0])\n",
    "for i in range(veData[1]):\n",
    "    datalist = [int(j) for j in input().split()]\n",
    "    g.addEdge(datalist[0],datalist[1])\n",
    "    \n",
    "vertexSource = [int(i) for i in input().split()]\n",
    "value = g.dfs(vertexSource[0],vertexSource[1])\n",
    "print(value)"
   ]
  }
 ],
 "metadata": {
  "kernelspec": {
   "display_name": "Python 3",
   "language": "python",
   "name": "python3"
  },
  "language_info": {
   "codemirror_mode": {
    "name": "ipython",
    "version": 3
   },
   "file_extension": ".py",
   "mimetype": "text/x-python",
   "name": "python",
   "nbconvert_exporter": "python",
   "pygments_lexer": "ipython3",
   "version": "3.7.6"
  }
 },
 "nbformat": 4,
 "nbformat_minor": 4
}
