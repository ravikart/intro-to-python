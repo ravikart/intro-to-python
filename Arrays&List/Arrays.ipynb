{
 "cells": [
  {
   "cell_type": "code",
   "execution_count": 1,
   "metadata": {},
   "outputs": [],
   "source": [
    "li = []"
   ]
  },
  {
   "cell_type": "code",
   "execution_count": 7,
   "metadata": {},
   "outputs": [
    {
     "name": "stdout",
     "output_type": "stream",
     "text": [
      "[1, 2, 3]\n",
      "[5, 2, 3]\n"
     ]
    }
   ],
   "source": [
    "li = [1,2,3]\n",
    "print(li)\n",
    "type(li)\n",
    "\n",
    "li[0] = 5\n",
    "print(li)"
   ]
  },
  {
   "cell_type": "code",
   "execution_count": 11,
   "metadata": {},
   "outputs": [
    {
     "name": "stdout",
     "output_type": "stream",
     "text": [
      "['abcd', 'def', 5]\n"
     ]
    }
   ],
   "source": [
    "dir(li)\n",
    "li =['abcd','def']\n",
    "li.insert(4,5)\n",
    "print(li)"
   ]
  },
  {
   "cell_type": "code",
   "execution_count": 12,
   "metadata": {},
   "outputs": [
    {
     "name": "stdout",
     "output_type": "stream",
     "text": [
      "[5, 2, 8]\n"
     ]
    }
   ],
   "source": [
    "li = [5,2,6,8]\n",
    "li.pop(2)\n",
    "print(li)"
   ]
  },
  {
   "cell_type": "code",
   "execution_count": 14,
   "metadata": {},
   "outputs": [
    {
     "name": "stdout",
     "output_type": "stream",
     "text": [
      "140710382965856\n",
      "140710382965856\n"
     ]
    }
   ],
   "source": [
    "a = 10\n",
    "li[0] = 10\n",
    "print(id(a))\n",
    "print(id(li[0]))\n"
   ]
  },
  {
   "cell_type": "code",
   "execution_count": 17,
   "metadata": {},
   "outputs": [
    {
     "name": "stdout",
     "output_type": "stream",
     "text": [
      "1 2 3.5 RAVI 5 8 9 10 "
     ]
    }
   ],
   "source": [
    "#Looping on List\n",
    "\n",
    "li = [1,2,3.5,'RAVI',5,8,9,10]\n",
    "\n",
    "for i in range(len(li)):\n",
    "    print(li[i],end=\" \")"
   ]
  },
  {
   "cell_type": "code",
   "execution_count": 21,
   "metadata": {},
   "outputs": [
    {
     "name": "stdout",
     "output_type": "stream",
     "text": [
      "2 3 4 "
     ]
    }
   ],
   "source": [
    "li = [1,2,3,4,5]\n",
    "for i in li[1:4]:\n",
    "    print(i,end= \" \")"
   ]
  },
  {
   "cell_type": "code",
   "execution_count": 11,
   "metadata": {},
   "outputs": [
    {
     "name": "stdout",
     "output_type": "stream",
     "text": [
      "622\n",
      "14 -3 20 7 1 29 -19 3 27 -11 24 2 20 -10 -14 -18 5 18 -25 22 19 4 -18 8 4 14 4 -18 -24 -12 -29 -5 5 -26 28 -7 16 -12 -12 27 11 9 29 -26 24 -11 -16 24 -5 4 -5 -5 -1 13 30 -2 8 8 -25 12 -22 16 9 14 -4 4 -25 3 29 -14 30 -27 22 -28 15 8 20 4 20 29 -8 8 -14 9 -14 -5 7 -19 -27 -15 5 30 -6 -15 2 3 -9 3 -12 15 -4 2 -5 -10 7 8 3 -6 -20 -1 -20 23 12 18 -24 15 -18 -6 -6 9 -4 -9 -26 24 -1 -23 1 -22 27 -1 -15 -23 -13 3 8 -12 20 27 13 -21 28 -7 16 -7 13 -29 -18 -19 -24 -28 -4 -20 20 18 2 1 -1 23 -1 -11 11 -25 -27 9 4 -24 16 -21 13 -20 23 0 -24 9 -24 26 5 -4 -11 7 -29 -9 -5 18 17 -4 21 -28 22 27 -10 10 -14 30 -1 15 -11 16 -12 11 3 7 -4 -20 9 -19 -24 1 3 15 -5 -26 -24 -18 2 26 23 -16 27 7 4 7 -11 17 -1 21 0 22 -27 19 12 3 20 -1 -7 6 11 -26 -17 5 -19 13 17 -15 3 19 15 -29 -9 9 -23 9 -14 -4 6 30 -22 -12 18 10 -16 -12 -13 3 3 25 -13 14 -19 -7 1 -15 -24 -25 -9 -14 26 -4 -13 10 -28 -12 12 -18 -28 9 30 -19 -9 5 26 -19 -4 -3 -10 -4 13 -19 -1 -19 -13 1 -23 24 16 -1 -13 1 14 -9 -12 30 6 16 30 13 -20 -26 -25 21 -29 -21 -6 -4 -17 -18 -5 17 -18 -17 14 -3 12 -2 19 20 11 24 16 18 -25 -23 26 -26 23 16 -7 28 -14 -26 -6 4 4 8 -25 -24 17 -27 -28 -22 18 -7 23 8 0 3 -25 -15 14 -18 -23 14 19 -29 -1 17 13 3 10 -13 6 22 -23 2 26 -27 -25 7 -3 -16 -3 0 2 -1 23 -20 -28 -13 -18 3 14 22 -22 -8 15 16 28 25 12 1 16 28 10 -25 14 -3 23 -17 -1 -3 8 28 18 29 -17 29 -26 27 -21 4 10 19 -2 -17 4 -21 -19 1 16 -7 2 -24 5 -25 -29 1 -21 10 -5 -4 13 1 29 -21 -2 13 -17 1 12 7 11 -25 21 -2 8 4 -27 30 13 -26 8 20 -9 20 -21 -10 -6 -21 28 0 3 -2 23 -24 18 -25 10 -28 7 11 11 -14 -22 28 27 -8 -10 24 -20 15 -13 -10 27 -5 -5 21 30 -12 -23 -1 30 22 -8 13 4 15 12 14 -12 27 -5 30 5 -24 9 14 -21 28 7 9 11 16 -9 -24 -19 22 -21 -6 18 23 -1 -26 -20 -21 -21 9 12 6 -4 27 -25 15 -20 -17 25 9 -12 -6 -28 21 -3 16 -15 22 4 26 9 18 -20 20 -12 -25 22 -15 -7 -12 -29 2 17 25 -20 -25 25 28 13 16 9 -26 -5 24 -15 -3 14 -27 -23 -6 -6 -1 -4 -18 21 6 -8 21 4 -16 29 -15 2 -9 -7 18 17 24 -5 3 -9 1 27 11 -5 17 \n",
      "['14', '-3', '20', '7', '1', '29', '-19', '3', '27', '-11', '24', '2', '20', '-10', '-14', '-18', '5', '18', '-25', '22', '19', '4', '-18', '8', '4', '14', '4', '-18', '-24', '-12', '-29', '-5', '5', '-26', '28', '-7', '16', '-12', '-12', '27', '11', '9', '29', '-26', '24', '-11', '-16', '24', '-5', '4', '-5', '-5', '-1', '13', '30', '-2', '8', '8', '-25', '12', '-22', '16', '9', '14', '-4', '4', '-25', '3', '29', '-14', '30', '-27', '22', '-28', '15', '8', '20', '4', '20', '29', '-8', '8', '-14', '9', '-14', '-5', '7', '-19', '-27', '-15', '5', '30', '-6', '-15', '2', '3', '-9', '3', '-12', '15', '-4', '2', '-5', '-10', '7', '8', '3', '-6', '-20', '-1', '-20', '23', '12', '18', '-24', '15', '-18', '-6', '-6', '9', '-4', '-9', '-26', '24', '-1', '-23', '1', '-22', '27', '-1', '-15', '-23', '-13', '3', '8', '-12', '20', '27', '13', '-21', '28', '-7', '16', '-7', '13', '-29', '-18', '-19', '-24', '-28', '-4', '-20', '20', '18', '2', '1', '-1', '23', '-1', '-11', '11', '-25', '-27', '9', '4', '-24', '16', '-21', '13', '-20', '23', '0', '-24', '9', '-24', '26', '5', '-4', '-11', '7', '-29', '-9', '-5', '18', '17', '-4', '21', '-28', '22', '27', '-10', '10', '-14', '30', '-1', '15', '-11', '16', '-12', '11', '3', '7', '-4', '-20', '9', '-19', '-24', '1', '3', '15', '-5', '-26', '-24', '-18', '2', '26', '23', '-16', '27', '7', '4', '7', '-11', '17', '-1', '21', '0', '22', '-27', '19', '12', '3', '20', '-1', '-7', '6', '11', '-26', '-17', '5', '-19', '13', '17', '-15', '3', '19', '15', '-29', '-9', '9', '-23', '9', '-14', '-4', '6', '30', '-22', '-12', '18', '10', '-16', '-12', '-13', '3', '3', '25', '-13', '14', '-19', '-7', '1', '-15', '-24', '-25', '-9', '-14', '26', '-4', '-13', '10', '-28', '-12', '12', '-18', '-28', '9', '30', '-19', '-9', '5', '26', '-19', '-4', '-3', '-10', '-4', '13', '-19', '-1', '-19', '-13', '1', '-23', '24', '16', '-1', '-13', '1', '14', '-9', '-12', '30', '6', '16', '30', '13', '-20', '-26', '-25', '21', '-29', '-21', '-6', '-4', '-17', '-18', '-5', '17', '-18', '-17', '14', '-3', '12', '-2', '19', '20', '11', '24', '16', '18', '-25', '-23', '26', '-26', '23', '16', '-7', '28', '-14', '-26', '-6', '4', '4', '8', '-25', '-24', '17', '-27', '-28', '-22', '18', '-7', '23', '8', '0', '3', '-25', '-15', '14', '-18', '-23', '14', '19', '-29', '-1', '17', '13', '3', '10', '-13', '6', '22', '-23', '2', '26', '-27', '-25', '7', '-3', '-16', '-3', '0', '2', '-1', '23', '-20', '-28', '-13', '-18', '3', '14', '22', '-22', '-8', '15', '16', '28', '25', '12', '1', '16', '28', '10', '-25', '14', '-3', '23', '-17', '-1', '-3', '8', '28', '18', '29', '-17', '29', '-26', '27', '-21', '4', '10', '19', '-2', '-17', '4', '-21', '-19', '1', '16', '-7', '2', '-24', '5', '-25', '-29', '1', '-21', '10', '-5', '-4', '13', '1', '29', '-21', '-2', '13', '-17', '1', '12', '7', '11', '-25', '21', '-2', '8', '4', '-27', '30', '13', '-26', '8', '20', '-9', '20', '-21', '-10', '-6', '-21', '28', '0', '3', '-2', '23', '-24', '18', '-25', '10', '-28', '7', '11', '11', '-14', '-22', '28', '27', '-8', '-10', '24', '-20', '15', '-13', '-10', '27', '-5', '-5', '21', '30', '-12', '-23', '-1', '30', '22', '-8', '13', '4', '15', '12', '14', '-12', '27', '-5', '30', '5', '-24', '9', '14', '-21', '28', '7', '9', '11', '16', '-9', '-24', '-19', '22', '-21', '-6', '18', '23', '-1', '-26', '-20', '-21', '-21', '9', '12', '6', '-4', '27', '-25', '15', '-20', '-17', '25', '9', '-12', '-6', '-28', '21', '-3', '16', '-15', '22', '4', '26', '9', '18', '-20', '20', '-12', '-25', '22', '-15', '-7', '-12', '-29', '2', '17', '25', '-20', '-25', '25', '28', '13', '16', '9', '-26', '-5', '24', '-15', '-3', '14', '-27', '-23', '-6', '-6', '-1', '-4', '-18', '21', '6', '-8', '21', '4', '-16', '29', '-15', '2', '-9', '-7', '18', '17', '24', '-5', '3', '-9', '1', '27', '11', '-5', '17', '']\n"
     ]
    }
   ],
   "source": [
    "## Read input as specified in the question.\n",
    "def sumOfArray(dataList):\n",
    "    result = 0;\n",
    "    for element in dataList:\n",
    "        if element != '':\n",
    "            result = result + int(element);\n",
    "    return result;\n",
    "\n",
    "userData = int(input());\n",
    "value = str(input());\n",
    "print(sumOfArray(value.split(\" \"))); "
   ]
  },
  {
   "cell_type": "code",
   "execution_count": 27,
   "metadata": {},
   "outputs": [
    {
     "data": {
      "text/plain": [
       "[9, 5, 3, 2, 0]"
      ]
     },
     "execution_count": 27,
     "metadata": {},
     "output_type": "execute_result"
    }
   ],
   "source": [
    "listValue = [0,2,3,5,9]\n",
    "listValue[-1]\n",
    "\n",
    "listValue[:-6:-1]"
   ]
  },
  {
   "cell_type": "markdown",
   "metadata": {},
   "source": [
    "# Getting List from User"
   ]
  },
  {
   "cell_type": "code",
   "execution_count": 1,
   "metadata": {},
   "outputs": [
    {
     "name": "stdout",
     "output_type": "stream",
     "text": [
      "5\n",
      "1\n",
      "2\n",
      "3\n",
      "5\n",
      "6\n",
      "['1', '2', '3', '5', '6']\n"
     ]
    }
   ],
   "source": [
    "numberValue = int(input())\n",
    "li = []\n",
    "for i in range(numberValue):\n",
    "    li.append(input())\n",
    "print(li)"
   ]
  },
  {
   "cell_type": "code",
   "execution_count": 4,
   "metadata": {},
   "outputs": [
    {
     "name": "stdout",
     "output_type": "stream",
     "text": [
      "5\n",
      "1 2 3 5 9\n",
      "[1, 2, 3, 5, 9]\n"
     ]
    }
   ],
   "source": [
    "numberValue  = int(input())\n",
    "userData = [int(x) for x in input().split()]\n",
    "print(userData)\n"
   ]
  },
  {
   "cell_type": "code",
   "execution_count": 6,
   "metadata": {},
   "outputs": [
    {
     "name": "stdout",
     "output_type": "stream",
     "text": [
      "1 3 6 8\n",
      "['1', '3', '6', '8']\n"
     ]
    }
   ],
   "source": [
    "li = [x for x in input().split()]\n",
    "print(li)"
   ]
  },
  {
   "cell_type": "markdown",
   "metadata": {},
   "source": [
    "# Linear Search"
   ]
  },
  {
   "cell_type": "code",
   "execution_count": 8,
   "metadata": {},
   "outputs": [
    {
     "name": "stdout",
     "output_type": "stream",
     "text": [
      "2 5 6 4 8 1\n",
      "[2, 5, 6, 4, 8, 1]\n",
      "3\n",
      "-1\n"
     ]
    }
   ],
   "source": [
    "userData = [int(x) for x in input().split()]\n",
    "print(userData)\n",
    "searchElement = int(input())\n",
    "\n",
    "for iterator in range(len(userData)):\n",
    "    if userData[iterator] == searchElement:\n",
    "        print(iterator)\n",
    "        break\n",
    "else:\n",
    "    print(-1)"
   ]
  },
  {
   "cell_type": "code",
   "execution_count": 7,
   "metadata": {},
   "outputs": [
    {
     "name": "stdout",
     "output_type": "stream",
     "text": [
      "140710389912448\n",
      "140710389912480\n",
      "[3, 2, 5, 6, 8]\n",
      "[3, 2, 5, 6, 8]\n"
     ]
    }
   ],
   "source": [
    "##Mutable and Immutable\n",
    "x = 3\n",
    "print(id(x))\n",
    "x = 4\n",
    "print(id(x)) #Reference has changed\n",
    "\n",
    "#Immutable\n",
    "listOne  = [1,2,5,6,8]\n",
    "listTwo = listOne\n",
    "listTwo[0] = 3\n",
    "print(listTwo)\n",
    "print(listOne)"
   ]
  },
  {
   "cell_type": "code",
   "execution_count": 11,
   "metadata": {},
   "outputs": [
    {
     "name": "stdout",
     "output_type": "stream",
     "text": [
      "[1, 2, 3, 4, 5]\n",
      "[1, 2, 3, 4, 5, 0]\n"
     ]
    }
   ],
   "source": [
    "#passing variables to function\n",
    "def addingValue(listValue):\n",
    "    listValue.append(0);\n",
    "    return;\n",
    "\n",
    "listValue = [1,2,3,4,5];\n",
    "print(listValue)\n",
    "addingValue(listValue)\n",
    "print(listValue)"
   ]
  },
  {
   "cell_type": "code",
   "execution_count": 12,
   "metadata": {},
   "outputs": [
    {
     "name": "stdout",
     "output_type": "stream",
     "text": [
      "[1, 4, 3, 4, 5]\n"
     ]
    }
   ],
   "source": [
    "def change(li):\n",
    "    li[1] = li[1] + 2\n",
    "li = [1,2,3,4,5]\n",
    "change(li)\n",
    "print(li)"
   ]
  },
  {
   "cell_type": "code",
   "execution_count": 14,
   "metadata": {},
   "outputs": [
    {
     "name": "stdout",
     "output_type": "stream",
     "text": [
      "[1, 4, 3, 4, 5]\n",
      "[3, 3, 3, 4, 5]\n",
      "[1, 4, 3, 4, 5]\n"
     ]
    }
   ],
   "source": [
    "def change(li):\n",
    "    li[1] = li[1] + 2\n",
    "    print(li)\n",
    "    li = [3,3,3,4,5]\n",
    "    print(li)\n",
    "li = [1,2,3,4,5]\n",
    "change(li)\n",
    "print(li)"
   ]
  },
  {
   "cell_type": "code",
   "execution_count": 20,
   "metadata": {},
   "outputs": [
    {
     "name": "stdout",
     "output_type": "stream",
     "text": [
      "[6, 5, 4, 3, 2, 1]\n"
     ]
    }
   ],
   "source": [
    "#Reversing a List\n",
    "listValue =  [1,2,3,4,5,6]\n",
    "listValue = listValue[::-1]\n",
    "print(listValue)"
   ]
  },
  {
   "cell_type": "code",
   "execution_count": 27,
   "metadata": {},
   "outputs": [
    {
     "name": "stdout",
     "output_type": "stream",
     "text": [
      "5\n",
      "2 5 6 8 9\n",
      "[5, 2, 8, 6, 9]\n"
     ]
    }
   ],
   "source": [
    "#Swap Alternate\n",
    "def swappingTheList(listValue,size):\n",
    "    for iterator in range(0,size-1,2):\n",
    "        listValue[iterator],listValue[iterator+1] = listValue[iterator+1],listValue[iterator]  \n",
    "sizeOfList = int(input())\n",
    "listValue = [ int(x) for x in input().split()]\n",
    "swappingTheList(listValue,sizeOfList)\n",
    "print(listValue)"
   ]
  },
  {
   "cell_type": "code",
   "execution_count": 35,
   "metadata": {},
   "outputs": [
    {
     "name": "stdout",
     "output_type": "stream",
     "text": [
      "7\n",
      "2 3 1 6 3 6 2\n",
      "1\n"
     ]
    }
   ],
   "source": [
    "sizeOfList = int(input());\n",
    "listValue = [ int(x) for x in input().split()]\n",
    "\n",
    "def getUniqueElement(listValue,sizeOfList):\n",
    "    dummyList = [];\n",
    "    for value in listValue:\n",
    "        if listValue.count(value) > 1:\n",
    "            return value;\n",
    "        \n",
    "    return lastAddedValue;\n",
    "\n",
    "print(getUniqueElement(listValue,sizeOfList));\n",
    "\n"
   ]
  },
  {
   "cell_type": "code",
   "execution_count": 47,
   "metadata": {},
   "outputs": [
    {
     "name": "stdout",
     "output_type": "stream",
     "text": [
      "4\n",
      "2 6 1 2\n",
      "5\n",
      "1 2 3 4 2\n",
      "None\n",
      "None\n",
      "None\n",
      "2\n",
      "1\n",
      "2\n"
     ]
    }
   ],
   "source": [
    "firstArrayValue = int(input())\n",
    "firstArrayList = [ int(x) for x in input().split()]\n",
    "secondArrayValue = int(input())\n",
    "secondArrayList = [ int(x) for x in input().split()]\n",
    "\n",
    "def findCommonPoint(listOne,listTwo):\n",
    "    result = []\n",
    "    for iterator in listOne:\n",
    "        if iterator in listTwo:\n",
    "            result.append(iterator)\n",
    "    return result\n",
    "\n",
    "for iterator in findCommonPoint(firstArrayList,secondArrayList):\n",
    "    print(iterator)\n",
    "    "
   ]
  },
  {
   "cell_type": "code",
   "execution_count": 73,
   "metadata": {},
   "outputs": [
    {
     "name": "stdout",
     "output_type": "stream",
     "text": [
      "9\n",
      "1 3 6 2 5 4 3 2 4\n",
      "7\n",
      "2 5\n",
      "2 5\n",
      "3 4\n",
      "3 4\n",
      "3 4\n",
      "3 4\n",
      "1 6\n"
     ]
    }
   ],
   "source": [
    "sizeValue = int(input())\n",
    "listValue = [ int(x) for x in input().split()]\n",
    "sumValue = int(input())\n",
    "listValue.sort()\n",
    "\n",
    "\n",
    "uniqueElements = [];\n",
    "duplicateElements = []\n",
    "for iterator in listValue:\n",
    "    if listValue.count(iterator) == 1:\n",
    "        uniqueElements.append(iterator);\n",
    "    else:\n",
    "        duplicateElements.append(iterator);\n",
    "\n",
    "def formatCurrentString(firstValue,secondValue):\n",
    "    currentString = ''\n",
    "    if firstValue < secondValue:\n",
    "        currentString = str(firstValue) + ' ' + str(secondValue);\n",
    "    else:\n",
    "        currentString = str(secondValue) + ' ' + str(firstValue);\n",
    "    return currentString;\n",
    "\n",
    "def getPairSumResult(uniqueElements,duplicateElements,sumValue):\n",
    "    result = [];\n",
    "    currentResult = '';\n",
    "    for element in duplicateElements:\n",
    "        pairValue = sumValue - element;\n",
    "        if pairValue in duplicateElements:\n",
    "            currentResult = formatCurrentString(pairValue,element);\n",
    "            result.append(currentResult)\n",
    "        elif pairValue in uniqueElements:\n",
    "            currentResult = formatCurrentString(pairValue,element);\n",
    "            result.append(currentResult)\n",
    "        else:\n",
    "            pass;\n",
    "        \n",
    "    for elementValue in uniqueElements:\n",
    "        pair = sumValue - elementValue;\n",
    "        if (pair in uniqueElements) and (not(pair in duplicateElements)):\n",
    "            currentResult = formatCurrentString(pair,elementValue);\n",
    "            if currentResult not in result:\n",
    "                result.append(currentResult)\n",
    "        else:\n",
    "            pass;\n",
    "    return result;\n",
    "\n",
    "result = getPairSumResult(uniqueElements,duplicateElements,sumValue);\n",
    "\n",
    "for iterator in result:\n",
    "    print(iterator)"
   ]
  },
  {
   "cell_type": "code",
   "execution_count": 57,
   "metadata": {},
   "outputs": [
    {
     "name": "stdout",
     "output_type": "stream",
     "text": [
      "7\n",
      "0 0 1 0 1 0 1\n",
      "[0, 0, 0, 0, 1, 1, 1]\n",
      "0 0 0 0 1 1 1 "
     ]
    }
   ],
   "source": [
    "sizeOfArray = int(input())\n",
    "listValue = [ int(x) for x in input().split()]\n",
    "listValue.sort()\n",
    "for iterator in listValue:\n",
    "    print(iterator,end=\" \")"
   ]
  },
  {
   "cell_type": "code",
   "execution_count": 2,
   "metadata": {},
   "outputs": [
    {
     "name": "stdout",
     "output_type": "stream",
     "text": [
      "9\n",
      "1 3 6 2 5 4 3 2 4\n",
      "7\n",
      "1 6\n",
      "3 4\n",
      "3 4\n",
      "2 5\n",
      "2 5\n",
      "3 4\n",
      "3 4\n"
     ]
    }
   ],
   "source": [
    "def pair_sum(li,Sum):\n",
    "    for i in range(len(li)):\n",
    "        for j in range(i+1,len(li)):\n",
    "            if li[i]+li[j]==Sum:\n",
    "                if li[i]<li[j]:\n",
    "                    print(li[i],li[j],sep=\" \")\n",
    "                else :\n",
    "                    print(li[j],li[i],sep=\" \")\n",
    "n=int(input())\n",
    "li=[int(x) for x in input().split()]\n",
    "Sum= int(input())\n",
    "pair_sum(li,Sum)"
   ]
  },
  {
   "cell_type": "code",
   "execution_count": 13,
   "metadata": {},
   "outputs": [
    {
     "name": "stdout",
     "output_type": "stream",
     "text": [
      "7\n",
      "1 2 3 4 5 6 7\n",
      "12\n",
      "1 4 7\n",
      "1 5 6\n",
      "2 3 7\n",
      "2 4 6\n",
      "3 4 5\n"
     ]
    }
   ],
   "source": [
    "def pair_sum(li,Sum):\n",
    "    for i in range(len(li)):\n",
    "        for j in range(i+1,len(li)):\n",
    "            for k in range(j+1,len(li)):\n",
    "                if li[i]+li[j]+li[k]==Sum:\n",
    "                    resultList = []\n",
    "                    resultList.append(li[i])\n",
    "                    resultList.append(li[j])\n",
    "                    resultList.append(li[k])\n",
    "                    print(*resultList)\n",
    "n=int(input())\n",
    "li=[int(x) for x in input().split()]\n",
    "Sum= int(input())\n",
    "pair_sum(li,Sum)"
   ]
  },
  {
   "cell_type": "code",
   "execution_count": 11,
   "metadata": {},
   "outputs": [
    {
     "name": "stdout",
     "output_type": "stream",
     "text": [
      "[1, 2, 3]\n",
      "[1, 2, 3, 4, 5, 8]\n"
     ]
    }
   ],
   "source": [
    "listValue = [1,2,3,4,5,8]\n",
    "i = 0\n",
    "k = 4\n",
    "print(listValue[i:(k-1)])\n",
    "print(listValue)"
   ]
  }
 ],
 "metadata": {
  "kernelspec": {
   "display_name": "Python 3",
   "language": "python",
   "name": "python3"
  },
  "language_info": {
   "codemirror_mode": {
    "name": "ipython",
    "version": 3
   },
   "file_extension": ".py",
   "mimetype": "text/x-python",
   "name": "python",
   "nbconvert_exporter": "python",
   "pygments_lexer": "ipython3",
   "version": "3.7.3"
  }
 },
 "nbformat": 4,
 "nbformat_minor": 2
}
