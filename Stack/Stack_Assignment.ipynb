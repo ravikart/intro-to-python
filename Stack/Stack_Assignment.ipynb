{
 "cells": [
  {
   "cell_type": "code",
   "execution_count": 8,
   "metadata": {},
   "outputs": [
    {
     "name": "stdout",
     "output_type": "stream",
     "text": [
      "}}}{\n",
      "1\n"
     ]
    }
   ],
   "source": [
    "def minimumReversal(userString):\n",
    "    openCount = 0\n",
    "    closeCount = 0\n",
    "    for element in userString:\n",
    "        if element == '{':\n",
    "            openCount = openCount + 1\n",
    "        else:\n",
    "            closeCount = closeCount + 1\n",
    "            \n",
    "    difference = abs(openCount - closeCount)\n",
    "    if difference % 2 == 1:\n",
    "        return -1\n",
    "    else:\n",
    "        return difference//2\n",
    "\n",
    "userString  = input()\n",
    "print(minimumReversal(userString))"
   ]
  },
  {
   "cell_type": "code",
   "execution_count": 10,
   "metadata": {},
   "outputs": [
    {
     "name": "stdout",
     "output_type": "stream",
     "text": [
      "}}}{\n",
      "{\n",
      "}\n",
      "0\n",
      "}\n",
      "}\n",
      "2\n",
      "3\n"
     ]
    }
   ],
   "source": [
    "def countBracketReversals(string):\n",
    "    if(len(string) == 0):\n",
    "        return 0\n",
    "    if(len(string)%2 != 0):\n",
    "        return -1\n",
    "    s = []\n",
    "    for char in string:\n",
    "        if char == '{':\n",
    "            s.append(char)\n",
    "        else:\n",
    "            if(len(s) > 0 and s[-1] == '{'):\n",
    "                s.pop()\n",
    "            else:\n",
    "                s.append(char)\n",
    "    count = 0\n",
    "    while(len(s) != 0):\n",
    "        c1 = s.pop()\n",
    "        c2 = s.pop()\n",
    "        if c1!=c2:\n",
    "            count+=2\n",
    "        else:\n",
    "            count+=1\n",
    "    return count\n",
    "string = input()\n",
    "ans = countBracketReversals(string)\n",
    "print(ans)"
   ]
  },
  {
   "cell_type": "code",
   "execution_count": 2,
   "metadata": {},
   "outputs": [
    {
     "name": "stdout",
     "output_type": "stream",
     "text": [
      "((a+(b+c)))\n",
      "true\n"
     ]
    }
   ],
   "source": [
    "def checkRedundant(string):\n",
    "    temp=0\n",
    "    l=len(string)\n",
    "    for i in range(l-1):\n",
    "        c=string[i]\n",
    "        n=string[i+1]\n",
    "        if c=='(' and n==')':\n",
    "            return True\n",
    "        elif c=='(' and n=='(':\n",
    "            temp=2\n",
    "        elif c==')' and n==')' and temp==2:\n",
    "            return True\n",
    "    return False\n",
    "#### Implement Your Code Here\n",
    "    \n",
    "\n",
    "string = input()\n",
    "ans = checkRedundant(string)\n",
    "if ans is True:\n",
    "    print('true')\n",
    "else:\n",
    "    print('false')"
   ]
  },
  {
   "cell_type": "code",
   "execution_count": 7,
   "metadata": {},
   "outputs": [
    {
     "name": "stdout",
     "output_type": "stream",
     "text": [
      "8\n",
      "60 70 80 100 90 75 80 120\n",
      "1\n",
      "[1, 2, 0, 0, 0, 0, 0, 0, 0]\n",
      "[1]\n",
      "2\n",
      "[1, 2, 3, 0, 0, 0, 0, 0, 0]\n",
      "[2]\n",
      "3\n",
      "[1, 2, 3, 4, 0, 0, 0, 0, 0]\n",
      "[3]\n",
      "4\n",
      "[1, 2, 3, 4, 1, 0, 0, 0, 0]\n",
      "[3, 4]\n",
      "5\n",
      "[1, 2, 3, 4, 1, 1, 0, 0, 0]\n",
      "[3, 4, 5]\n",
      "6\n",
      "[1, 2, 3, 4, 1, 1, 2, 0, 0]\n",
      "[3, 4, 6]\n",
      "7\n",
      "[1, 2, 3, 4, 1, 1, 2, 8, 0]\n",
      "[7]\n",
      "1 2 3 4 1 1 2 8 "
     ]
    }
   ],
   "source": [
    "\n",
    "def stockSpan(price,S):\n",
    "    n = len(price) \n",
    "    st = []  \n",
    "    st.append(0) \n",
    "    S[0] = 1\n",
    "    for i in range(1, n):  \n",
    "        while( len(st) > 0 and price[st[-1]] < price[i]): \n",
    "            st.pop() \n",
    "  \n",
    "        S[i] = i + 1 if len(st) <= 0 else (i - st[-1]) \n",
    "        st.append(i)  \n",
    "          \n",
    "def printArray(arr, n): \n",
    "    for i in range(0, n): \n",
    "        print (arr[i], end =\" \") \n",
    "  \n",
    "  \n",
    "n = int(input())\n",
    "price = list(int(x) for x in input().split()[:n])  \n",
    "\n",
    "S = [0 for i in range(len(price)+1)] \n",
    "  \n",
    "stockSpan(price, S) \n",
    "  \n",
    "printArray(S, len(price))"
   ]
  }
 ],
 "metadata": {
  "kernelspec": {
   "display_name": "Python 3",
   "language": "python",
   "name": "python3"
  },
  "language_info": {
   "codemirror_mode": {
    "name": "ipython",
    "version": 3
   },
   "file_extension": ".py",
   "mimetype": "text/x-python",
   "name": "python",
   "nbconvert_exporter": "python",
   "pygments_lexer": "ipython3",
   "version": "3.7.3"
  }
 },
 "nbformat": 4,
 "nbformat_minor": 2
}
