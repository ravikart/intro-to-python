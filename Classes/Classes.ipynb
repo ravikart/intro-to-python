{
 "cells": [
  {
   "cell_type": "code",
   "execution_count": 6,
   "metadata": {},
   "outputs": [],
   "source": [
    "class Student:\n",
    "    pass"
   ]
  },
  {
   "cell_type": "code",
   "execution_count": 16,
   "metadata": {},
   "outputs": [
    {
     "name": "stdout",
     "output_type": "stream",
     "text": [
      "Parikh 60\n"
     ]
    }
   ],
   "source": [
    "class Student:\n",
    "    name = \"Parikh\"\n",
    "    def store_details(self):\n",
    "        self.age = 60\n",
    "    def print_details(self):\n",
    "        print(self.name, end=\" \")\n",
    "        print(self.age)\n",
    "s = Student()\n",
    "s.store_details()\n",
    "s.print_details()"
   ]
  },
  {
   "cell_type": "code",
   "execution_count": 1,
   "metadata": {},
   "outputs": [
    {
     "name": "stdout",
     "output_type": "stream",
     "text": [
      "Rohan 20\n"
     ]
    }
   ],
   "source": [
    "class Student:\n",
    "    def __init__(self,name,age):\n",
    "        self.name = \"Rohan\"\n",
    "        self.age = 20\n",
    "\n",
    "    def print_student_details(self):\n",
    "        print(self.name, end= \" \")\n",
    "        print(self.age)\n",
    "s = Student(\"Parikh\",25)\n",
    "s.print_student_details()"
   ]
  },
  {
   "cell_type": "code",
   "execution_count": 21,
   "metadata": {},
   "outputs": [
    {
     "name": "stdout",
     "output_type": "stream",
     "text": [
      "Rohan 60\n"
     ]
    }
   ],
   "source": [
    "class Student:\n",
    "    def __init__(self,name,age):\n",
    "        self.name = name\n",
    "        self.age = age\n",
    "    def print_student_details(self):\n",
    "        print(self.name, end= \" \")\n",
    "        print(self.age)\n",
    "\n",
    "s = Student(\"Rohan\",60)\n",
    "s.print_student_details()"
   ]
  },
  {
   "cell_type": "code",
   "execution_count": 22,
   "metadata": {},
   "outputs": [
    {
     "name": "stdout",
     "output_type": "stream",
     "text": [
      "True\n"
     ]
    }
   ],
   "source": [
    "class Student:\n",
    "    def __init__(self,name,age):\n",
    "        self.name = name\n",
    "        self.age = age\n",
    "    def print_student_details():\n",
    "        print(self.name, end= \" \")\n",
    "        print(self.age)\n",
    "\n",
    "    @staticmethod\n",
    "    def isTeen(age):\n",
    "        return age>16\n",
    "\n",
    "a = Student.isTeen(18)\n",
    "print(a)"
   ]
  },
  {
   "cell_type": "code",
   "execution_count": 3,
   "metadata": {},
   "outputs": [
    {
     "name": "stdout",
     "output_type": "stream",
     "text": [
      "black 5\n"
     ]
    }
   ],
   "source": [
    "class Vehicle:\n",
    "    def __init__(self,color):\n",
    "        self.color = color\n",
    "    def print(self):\n",
    "        print(c.color,end=\" \")\n",
    "class Car(Vehicle):\n",
    "    def __init__(self,color,numGears):\n",
    "        super().__init__(color)\n",
    "        self.numGears = numGears\n",
    "    def print(self):\n",
    "        super().print()\n",
    "        print(c.numGears)\n",
    "c = Car(\"black\",5)\n",
    "c.print()"
   ]
  }
 ],
 "metadata": {
  "kernelspec": {
   "display_name": "Python 3",
   "language": "python",
   "name": "python3"
  },
  "language_info": {
   "codemirror_mode": {
    "name": "ipython",
    "version": 3
   },
   "file_extension": ".py",
   "mimetype": "text/x-python",
   "name": "python",
   "nbconvert_exporter": "python",
   "pygments_lexer": "ipython3",
   "version": "3.7.3"
  }
 },
 "nbformat": 4,
 "nbformat_minor": 2
}
