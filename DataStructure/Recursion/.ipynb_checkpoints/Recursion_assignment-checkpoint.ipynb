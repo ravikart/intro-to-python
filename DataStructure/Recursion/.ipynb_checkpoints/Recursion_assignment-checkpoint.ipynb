{
 "cells": [
  {
   "cell_type": "code",
   "execution_count": 12,
   "metadata": {},
   "outputs": [
    {
     "name": "stdout",
     "output_type": "stream",
     "text": [
      "5\n",
      "1.96875\n"
     ]
    }
   ],
   "source": [
    "def geometricSum(k,n,output):\n",
    "    if n > k:\n",
    "        return output\n",
    "    return geometricSum(k,n+1,(output + (1/(2 ** n))))\n",
    "\n",
    "userInput = int(input())\n",
    "print(\"{0:.5f}\".format(geometricSum(userInput,1,1.00000)))"
   ]
  },
  {
   "cell_type": "code",
   "execution_count": 16,
   "metadata": {},
   "outputs": [
    {
     "name": "stdout",
     "output_type": "stream",
     "text": [
      "madam\n",
      "true\n"
     ]
    }
   ],
   "source": [
    "def pallindromeRecursion(inputString,startIndex,endIndex):\n",
    "    if(endIndex < startIndex):\n",
    "        return True\n",
    "    \n",
    "    if inputString[startIndex] == inputString[endIndex]:\n",
    "        startIndex = startIndex + 1\n",
    "        endIndex = endIndex - 1\n",
    "        return pallindromeRecursion(inputString,startIndex,endIndex)\n",
    "    else:\n",
    "        return False\n",
    "    \n",
    "inputString = input()\n",
    "if(pallindromeRecursion(inputString,0,len(inputString) - 1)):\n",
    "    print('true')\n",
    "else:\n",
    "    print('false')"
   ]
  },
  {
   "cell_type": "code",
   "execution_count": 17,
   "metadata": {},
   "outputs": [
    {
     "name": "stdout",
     "output_type": "stream",
     "text": [
      "12345\n"
     ]
    },
    {
     "data": {
      "text/plain": [
       "15"
      ]
     },
     "execution_count": 17,
     "metadata": {},
     "output_type": "execute_result"
    }
   ],
   "source": [
    "def sumOfDigits(inputData,output,index):\n",
    "    if(index == (len(inputData))):\n",
    "        return output\n",
    "    \n",
    "    return sumOfDigits(inputData,(output + int(inputData[index])),index+1)\n",
    "    \n",
    "inputData = input()\n",
    "print(sumOfDigits(inputData,0,0))\n",
    "    "
   ]
  },
  {
   "cell_type": "code",
   "execution_count": 22,
   "metadata": {},
   "outputs": [
    {
     "name": "stdout",
     "output_type": "stream",
     "text": [
      "2\n",
      "3\n",
      "6\n"
     ]
    }
   ],
   "source": [
    "\n",
    "# Python3 to find Product of \n",
    "# 2 Numbers using Recursion \n",
    "  \n",
    "# recursive function to calculate \n",
    "# multiplication of two numbers  \n",
    "def product( x , y ): \n",
    "    # if x is less than y swap \n",
    "    # the numbers \n",
    "    if x < y: \n",
    "        return product(y, x) \n",
    "      \n",
    "    # iteratively calculate y \n",
    "    # times sum of x \n",
    "    elif y != 0: \n",
    "        return (x + product(x, y - 1)) \n",
    "      \n",
    "    # if any of the two numbers is \n",
    "    # zero return zero \n",
    "    else: \n",
    "        return 0\n",
    "  \n",
    "# Driver code \n",
    "x = int(input())\n",
    "y = int(input())\n",
    "print( product(x, y)) "
   ]
  },
  {
   "cell_type": "code",
   "execution_count": 26,
   "metadata": {},
   "outputs": [
    {
     "name": "stdout",
     "output_type": "stream",
     "text": [
      "1234\n"
     ]
    },
    {
     "data": {
      "text/plain": [
       "1234"
      ]
     },
     "execution_count": 26,
     "metadata": {},
     "output_type": "execute_result"
    }
   ],
   "source": [
    "def stringToInt(inputStirng,integerValue,index):\n",
    "    if(index == len(inputStirng)):\n",
    "        return integerValue\n",
    "    integerValue = integerValue*10 +  int(inputStirng[index])\n",
    "    return stringToInt(inputStirng,integerValue,index+1)\n",
    "\n",
    "userValue = input()\n",
    "print(stringToInt(userValue,0,0))\n"
   ]
  },
  {
   "cell_type": "code",
   "execution_count": 32,
   "metadata": {},
   "outputs": [
    {
     "name": "stdout",
     "output_type": "stream",
     "text": [
      "aaaa\n",
      "a*a*a*a\n"
     ]
    }
   ],
   "source": [
    "#Pair Star\n",
    "def pairStar(inputString,result,index):\n",
    "    if(index == len(inputString)-1):\n",
    "        return result + inputString[index]\n",
    "    \n",
    "    if inputString[index] == inputString[index+1]:\n",
    "        result = result + inputString[index] + '*'\n",
    "        return pairStar(inputString,result,index+1)\n",
    "    else:\n",
    "        result = result + inputString[index]\n",
    "        return pairStar(inputString,result,index+1)\n",
    "    \n",
    "userInput = input()\n",
    "print(pairStar(userInput,'',0))"
   ]
  },
  {
   "cell_type": "code",
   "execution_count": 53,
   "metadata": {},
   "outputs": [
    {
     "name": "stdout",
     "output_type": "stream",
     "text": [
      "abbbb\n",
      "false\n"
     ]
    }
   ],
   "source": [
    "def checkABcondition(userInput,result):\n",
    "    if(len(userInput) == 0):\n",
    "        return True\n",
    "    \n",
    "    if(userInput[0] == 'a'):\n",
    "        result = result + userInput[0]\n",
    "        return checkABcondition(userInput[1:],result)\n",
    "    elif(userInput[0:2] == 'bb'):\n",
    "        if(len(result) > 0 and result[len(result) - 1] == 'a'):\n",
    "            result = result + userInput[0:2] \n",
    "            return checkABcondition(userInput[2:],result)\n",
    "        else:\n",
    "            return False\n",
    "    else:\n",
    "        return False\n",
    "    \n",
    "    \n",
    "    \n",
    "userInput = input()\n",
    "if checkABcondition(userInput,''):\n",
    "    print('true')\n",
    "else:\n",
    "    print('false')"
   ]
  },
  {
   "cell_type": "code",
   "execution_count": 66,
   "metadata": {},
   "outputs": [
    {
     "ename": "SyntaxError",
     "evalue": "invalid syntax (<ipython-input-66-a9c6ed2bd3bc>, line 3)",
     "output_type": "error",
     "traceback": [
      "\u001b[1;36m  File \u001b[1;32m\"<ipython-input-66-a9c6ed2bd3bc>\"\u001b[1;36m, line \u001b[1;32m3\u001b[0m\n\u001b[1;33m    return (value > 0)?value : 0\u001b[0m\n\u001b[1;37m                      ^\u001b[0m\n\u001b[1;31mSyntaxError\u001b[0m\u001b[1;31m:\u001b[0m invalid syntax\n"
     ]
    }
   ],
   "source": [
    "def findStairs(value,listValue):\n",
    "    if value < 3:\n",
    "        if value == 0:\n",
    "            return 0\n",
    "        else:\n",
    "            return value\n",
    "    elif listValue[value] == 0 :\n",
    "        listValue[value] =  findStairs(value-1,listValue) + findStairs(value-2,listValue) + findStairs(value-3,listValue)\n",
    "    else:\n",
    "        return listValue[value]\n",
    "    \n",
    "userData = int(input())\n",
    "listValue = [0] * (userData + 1)\n",
    "print(findStairs(userData,listValue))"
   ]
  }
 ],
 "metadata": {
  "kernelspec": {
   "display_name": "Python 3",
   "language": "python",
   "name": "python3"
  },
  "language_info": {
   "codemirror_mode": {
    "name": "ipython",
    "version": 3
   },
   "file_extension": ".py",
   "mimetype": "text/x-python",
   "name": "python",
   "nbconvert_exporter": "python",
   "pygments_lexer": "ipython3",
   "version": "3.7.3"
  }
 },
 "nbformat": 4,
 "nbformat_minor": 2
}
