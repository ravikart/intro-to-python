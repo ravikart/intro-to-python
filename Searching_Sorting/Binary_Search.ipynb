{
 "cells": [
  {
   "cell_type": "markdown",
   "metadata": {},
   "source": [
    "# Binary Search"
   ]
  },
  {
   "cell_type": "code",
   "execution_count": 12,
   "metadata": {},
   "outputs": [
    {
     "name": "stdout",
     "output_type": "stream",
     "text": [
      "8\n",
      "1 3 5 6 7 8 9 10\n",
      "4\n",
      "-1\n"
     ]
    }
   ],
   "source": [
    "import math\n",
    "\n",
    "sizeOfArray = int(input())\n",
    "listValue = [int(x) for x in input().split()]\n",
    "searchValue = int(input())\n",
    "#doBinarySearch is to search element in the list\n",
    "def doBinarySearch(listValue,searchValue,startValue,endValue):\n",
    "    if endValue >= startValue:\n",
    "        midValue = startValue + (endValue - startValue) // 2;\n",
    "        if listValue[midValue] == searchValue:\n",
    "            return midValue;\n",
    "        elif listValue[midValue] > searchValue:\n",
    "            return doBinarySearch(listValue,searchValue,startValue,midValue-1)\n",
    "        else:\n",
    "            return doBinarySearch(listValue,searchValue,midValue+1,endValue)\n",
    "    else:\n",
    "        return -1\n",
    "print(doBinarySearch(listValue,searchValue,0,sizeOfArray-1))"
   ]
  },
  {
   "cell_type": "code",
   "execution_count": 9,
   "metadata": {},
   "outputs": [
    {
     "data": {
      "text/plain": [
       "11"
      ]
     },
     "execution_count": 9,
     "metadata": {},
     "output_type": "execute_result"
    }
   ],
   "source": [
    "import math\n",
    "\n",
    "value = 10.4\n",
    "math.ceil(value)"
   ]
  },
  {
   "cell_type": "markdown",
   "metadata": {},
   "source": [
    "# Selection Sort"
   ]
  },
  {
   "cell_type": "code",
   "execution_count": 14,
   "metadata": {},
   "outputs": [
    {
     "name": "stdout",
     "output_type": "stream",
     "text": [
      "1 2 9 6 8 7 5 4 0 10\n",
      "[0, 1, 2, 4, 5, 6, 7, 8, 9, 10]\n"
     ]
    }
   ],
   "source": [
    "def selectionSort(listValue):\n",
    "    length = len(listValue)\n",
    "    for iterator in range(length-1):\n",
    "        minIndex = iterator;\n",
    "        for innerIterator in range(iterator+1,length-1):\n",
    "            if listValue[innerIterator] < listValue[minIndex]:\n",
    "                minIndex = innerIterator;\n",
    "        listValue[iterator],listValue[minIndex] = listValue[minIndex],listValue[iterator]\n",
    "    return listValue\n",
    "\n",
    "listValue = [int(x) for x in input().split()]\n",
    "print(selectionSort(listValue))"
   ]
  },
  {
   "cell_type": "markdown",
   "metadata": {},
   "source": [
    "# Bubble Sort"
   ]
  },
  {
   "cell_type": "code",
   "execution_count": 19,
   "metadata": {},
   "outputs": [
    {
     "name": "stdout",
     "output_type": "stream",
     "text": [
      "10\n",
      "1 2 9 6 8 7 5 4 0 10\n",
      "0 9 8 7 6 1 5 4 2 10\n"
     ]
    }
   ],
   "source": [
    "value = int(input())\n",
    "listValue = [int(x) for x in input().split()]\n",
    "\n",
    "def bubbleSort(listValue):\n",
    "    length = len(listValue)\n",
    "    for iterator in range(length-1):\n",
    "        for innerIterator in range(length-iterator-1):\n",
    "            if listValue[innerIterator+1] < listValue[iterator]:\n",
    "                listValue[iterator],listValue[innerIterator+1] = listValue[innerIterator+1],listValue[iterator]\n",
    "    return listValue; \n",
    "    \n",
    "resultList = bubbleSort(listValue)\n",
    "print(*resultList)"
   ]
  },
  {
   "cell_type": "markdown",
   "metadata": {},
   "source": [
    "# Insertion Sort"
   ]
  },
  {
   "cell_type": "code",
   "execution_count": 25,
   "metadata": {},
   "outputs": [
    {
     "name": "stdout",
     "output_type": "stream",
     "text": [
      "9\n",
      "9 8 7 6 5 4 3 2 1\n",
      "1 2 3 4 5 6 7 8 9\n"
     ]
    }
   ],
   "source": [
    "value =  int(input())\n",
    "listValue = [int(x) for x in input().split()]\n",
    "\n",
    "def insertionSort(listValue):\n",
    "    length = len(listValue)\n",
    "    for iterator in range(1,length):\n",
    "        innerIterator = iterator - 1;\n",
    "        tempValue = listValue[iterator]\n",
    "        while(innerIterator >= 0 and listValue[innerIterator] > tempValue):\n",
    "            listValue[innerIterator + 1] = listValue[innerIterator]\n",
    "            innerIterator = innerIterator - 1\n",
    "        listValue[innerIterator + 1] = tempValue\n",
    "    return listValue\n",
    "            \n",
    "    \n",
    "resultValue = insertionSort(listValue)\n",
    "print(*resultValue)"
   ]
  },
  {
   "cell_type": "markdown",
   "metadata": {},
   "source": [
    "# Merge Sort"
   ]
  },
  {
   "cell_type": "code",
   "execution_count": null,
   "metadata": {},
   "outputs": [],
   "source": []
  }
 ],
 "metadata": {
  "kernelspec": {
   "display_name": "Python 3",
   "language": "python",
   "name": "python3"
  },
  "language_info": {
   "codemirror_mode": {
    "name": "ipython",
    "version": 3
   },
   "file_extension": ".py",
   "mimetype": "text/x-python",
   "name": "python",
   "nbconvert_exporter": "python",
   "pygments_lexer": "ipython3",
   "version": "3.7.3"
  }
 },
 "nbformat": 4,
 "nbformat_minor": 2
}
