{
 "cells": [
  {
   "cell_type": "code",
   "execution_count": 10,
   "metadata": {},
   "outputs": [
    {
     "name": "stdout",
     "output_type": "stream",
     "text": [
      "50\n",
      "2\n"
     ]
    }
   ],
   "source": [
    "import math,sys\n",
    "\n",
    "def minSquare(n,dp):\n",
    "    if n == 0:\n",
    "        return 0\n",
    "    \n",
    "    ans = sys.maxsize\n",
    "    root = int(math.sqrt(n))   \n",
    "    for i in range(1,root+1):\n",
    "        if(dp.get(n-(i**2),0) == 0):\n",
    "            currAns = 1 + minSquare(n-(i**2),dp)\n",
    "        else:\n",
    "            currAns = 1 + dp[n-(i**2)]\n",
    "        ans = min(ans,currAns)\n",
    "    dp[n] = ans    \n",
    "    return ans\n",
    "\n",
    "n = int(input())\n",
    "dp = {}\n",
    "ans = minSquare(n,dp)\n",
    "print(ans)"
   ]
  },
  {
   "cell_type": "code",
   "execution_count": 13,
   "metadata": {},
   "outputs": [
    {
     "name": "stdout",
     "output_type": "stream",
     "text": [
      "10000\n",
      "1\n"
     ]
    }
   ],
   "source": [
    "import math,sys\n",
    "\n",
    "def minSquare(n):\n",
    "    dp = [-1 for i in range(n+1)]\n",
    "    dp[0] = 0\n",
    "    \n",
    "    for i in range(1,n+1):\n",
    "        ans = sys.maxsize\n",
    "        root = int(math.sqrt(i))\n",
    "        for j in range(1,root+1):\n",
    "            currAns = 1 + dp[i-(j**2)]\n",
    "            ans = min(ans,currAns)\n",
    "        dp[i] = ans\n",
    "    return dp[n]\n",
    "\n",
    "\n",
    "n = int(input())\n",
    "ans = minSquare(n)\n",
    "print(ans)"
   ]
  }
 ],
 "metadata": {
  "kernelspec": {
   "display_name": "Python 3",
   "language": "python",
   "name": "python3"
  },
  "language_info": {
   "codemirror_mode": {
    "name": "ipython",
    "version": 3
   },
   "file_extension": ".py",
   "mimetype": "text/x-python",
   "name": "python",
   "nbconvert_exporter": "python",
   "pygments_lexer": "ipython3",
   "version": "3.7.3"
  }
 },
 "nbformat": 4,
 "nbformat_minor": 2
}
