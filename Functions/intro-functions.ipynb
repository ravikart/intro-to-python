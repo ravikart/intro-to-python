{
 "cells": [
  {
   "cell_type": "code",
   "execution_count": 8,
   "metadata": {},
   "outputs": [
    {
     "name": "stdout",
     "output_type": "stream",
     "text": [
      "5\n",
      "2\n",
      "5\n",
      "120\n",
      "2\n",
      "2\n",
      "3\n",
      "6\n"
     ]
    }
   ],
   "source": [
    "#Introduction to functions \n",
    "\n",
    "nValue = int(input())\n",
    "rValue = int(input())\n",
    "\n",
    "def findFactorial(number):\n",
    "    print(number);\n",
    "    n_factorial = 1;\n",
    "    for iterator in range(1,number+1):\n",
    "        n_factorial = n_factorial * iterator;\n",
    "    return n_factorial;\n",
    "\n",
    "print(findFactorial(nValue))\n",
    "print(findFactorial(rValue))\n",
    "print(findFactorial(nValue - rValue))\n",
    "    "
   ]
  },
  {
   "cell_type": "code",
   "execution_count": 9,
   "metadata": {},
   "outputs": [
    {
     "name": "stdout",
     "output_type": "stream",
     "text": [
      "5\n"
     ]
    }
   ],
   "source": [
    "def func(a):\n",
    "    a = a + 10\n",
    "    return a\n",
    "a = 5\n",
    "func(a)\n",
    "print(a)"
   ]
  },
  {
   "cell_type": "code",
   "execution_count": 11,
   "metadata": {},
   "outputs": [
    {
     "name": "stdout",
     "output_type": "stream",
     "text": [
      "16\n"
     ]
    }
   ],
   "source": [
    "def square(a):\n",
    "    ans  = a*a\n",
    "    return  ans\n",
    "\n",
    "a = 4\n",
    "a = square(a)\n",
    "print(a)"
   ]
  },
  {
   "cell_type": "code",
   "execution_count": 12,
   "metadata": {},
   "outputs": [
    {
     "name": "stdout",
     "output_type": "stream",
     "text": [
      "14\n"
     ]
    }
   ],
   "source": [
    "a = 14\n",
    "def f():\n",
    "    a=12\n",
    "f()\n",
    "print(a)"
   ]
  },
  {
   "cell_type": "code",
   "execution_count": 15,
   "metadata": {},
   "outputs": [
    {
     "name": "stdout",
     "output_type": "stream",
     "text": [
      "11\n"
     ]
    }
   ],
   "source": [
    "def function(a,b,c=1,d=5):\n",
    "    return a+b+c+d\n",
    "value = function(1,2,d=7)\n",
    "print(value)"
   ]
  }
 ],
 "metadata": {
  "kernelspec": {
   "display_name": "Python 3",
   "language": "python",
   "name": "python3"
  },
  "language_info": {
   "codemirror_mode": {
    "name": "ipython",
    "version": 3
   },
   "file_extension": ".py",
   "mimetype": "text/x-python",
   "name": "python",
   "nbconvert_exporter": "python",
   "pygments_lexer": "ipython3",
   "version": "3.7.3"
  }
 },
 "nbformat": 4,
 "nbformat_minor": 2
}
