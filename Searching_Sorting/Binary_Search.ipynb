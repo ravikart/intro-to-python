{
 "cells": [
  {
   "cell_type": "markdown",
   "metadata": {},
   "source": [
    "# Binary Search"
   ]
  },
  {
   "cell_type": "code",
   "execution_count": 12,
   "metadata": {},
   "outputs": [
    {
     "name": "stdout",
     "output_type": "stream",
     "text": [
      "8\n",
      "1 3 5 6 7 8 9 10\n",
      "4\n",
      "-1\n"
     ]
    }
   ],
   "source": [
    "import math\n",
    "\n",
    "sizeOfArray = int(input())\n",
    "listValue = [int(x) for x in input().split()]\n",
    "searchValue = int(input())\n",
    "#doBinarySearch is to search element in the list\n",
    "def doBinarySearch(listValue,searchValue,startValue,endValue):\n",
    "    if endValue >= startValue:\n",
    "        midValue = startValue + (endValue - startValue) // 2;\n",
    "        if listValue[midValue] == searchValue:\n",
    "            return midValue;\n",
    "        elif listValue[midValue] > searchValue:\n",
    "            return doBinarySearch(listValue,searchValue,startValue,midValue-1)\n",
    "        else:\n",
    "            return doBinarySearch(listValue,searchValue,midValue+1,endValue)\n",
    "    else:\n",
    "        return -1\n",
    "print(doBinarySearch(listValue,searchValue,0,sizeOfArray-1))"
   ]
  },
  {
   "cell_type": "code",
   "execution_count": 9,
   "metadata": {},
   "outputs": [
    {
     "data": {
      "text/plain": [
       "11"
      ]
     },
     "execution_count": 9,
     "metadata": {},
     "output_type": "execute_result"
    }
   ],
   "source": [
    "import math\n",
    "\n",
    "value = 10.4\n",
    "math.ceil(value)"
   ]
  },
  {
   "cell_type": "markdown",
   "metadata": {},
   "source": [
    "# Selection Sort"
   ]
  },
  {
   "cell_type": "code",
   "execution_count": 14,
   "metadata": {},
   "outputs": [
    {
     "name": "stdout",
     "output_type": "stream",
     "text": [
      "1 2 9 6 8 7 5 4 0 10\n",
      "[0, 1, 2, 4, 5, 6, 7, 8, 9, 10]\n"
     ]
    }
   ],
   "source": [
    "def selectionSort(listValue):\n",
    "    length = len(listValue)\n",
    "    for iterator in range(length-1):\n",
    "        minIndex = iterator;\n",
    "        for innerIterator in range(iterator+1,length-1):\n",
    "            if listValue[innerIterator] < listValue[minIndex]:\n",
    "                minIndex = innerIterator;\n",
    "        listValue[iterator],listValue[minIndex] = listValue[minIndex],listValue[iterator]\n",
    "    return listValue\n",
    "\n",
    "listValue = [int(x) for x in input().split()]\n",
    "print(selectionSort(listValue))"
   ]
  },
  {
   "cell_type": "markdown",
   "metadata": {},
   "source": [
    "# Bubble Sort"
   ]
  },
  {
   "cell_type": "code",
   "execution_count": 49,
   "metadata": {},
   "outputs": [
    {
     "name": "stdout",
     "output_type": "stream",
     "text": [
      "10\n",
      "0 9 8 6 5 2 4 6 3 5 6\n",
      "0 9 8 6 5 2 4 6 3 5 6\n"
     ]
    }
   ],
   "source": [
    "value = int(input())\n",
    "listValue = [int(x) for x in input().split()]\n",
    "\n",
    "def bubbleSort(listValue):\n",
    "    length = len(listValue)\n",
    "    for iterator in range(length-1):\n",
    "        for innerIterator in range(length-iterator-1):\n",
    "            if listValue[innerIterator+1] < listValue[iterator]:\n",
    "                listValue[iterator],listValue[innerIterator+1] = listValue[innerIterator+1],listValue[iterator]\n",
    "    return listValue; \n",
    "    \n",
    "resultList = bubbleSort(listValue)\n",
    "print(*resultList)"
   ]
  },
  {
   "cell_type": "markdown",
   "metadata": {},
   "source": [
    "# Insertion Sort"
   ]
  },
  {
   "cell_type": "code",
   "execution_count": 25,
   "metadata": {},
   "outputs": [
    {
     "name": "stdout",
     "output_type": "stream",
     "text": [
      "9\n",
      "9 8 7 6 5 4 3 2 1\n",
      "1 2 3 4 5 6 7 8 9\n"
     ]
    }
   ],
   "source": [
    "value =  int(input())\n",
    "listValue = [int(x) for x in input().split()]\n",
    "\n",
    "def insertionSort(listValue):\n",
    "    length = len(listValue)\n",
    "    for iterator in range(1,length):\n",
    "        innerIterator = iterator - 1;\n",
    "        tempValue = listValue[iterator]\n",
    "        while(innerIterator >= 0 and listValue[innerIterator] > tempValue):\n",
    "            listValue[innerIterator + 1] = listValue[innerIterator]\n",
    "            innerIterator = innerIterator - 1\n",
    "        listValue[innerIterator + 1] = tempValue\n",
    "    return listValue\n",
    "            \n",
    "    \n",
    "resultValue = insertionSort(listValue)\n",
    "print(*resultValue)"
   ]
  },
  {
   "cell_type": "markdown",
   "metadata": {},
   "source": [
    "# Merge Sort"
   ]
  },
  {
   "cell_type": "code",
   "execution_count": 44,
   "metadata": {},
   "outputs": [
    {
     "name": "stdout",
     "output_type": "stream",
     "text": [
      "5\n",
      "1 3 5 7 11\n",
      "4\n",
      "2 4 6 13\n",
      "1 2 3 4 5 6 7 11 13\n"
     ]
    }
   ],
   "source": [
    "sizeOfArray = int(input())\n",
    "firstListValue = [int(x) for x in input().split()]\n",
    "sizeOfSecondArray = int(input())\n",
    "secondListValue = [int(x) for x in input().split()]\n",
    "def mergeSort(firstListValue,secondListValue):\n",
    "    firstListSize = len(firstListValue)\n",
    "    secondListSize = len(secondListValue)\n",
    "    resultList = [0] * (firstListSize + secondListSize)\n",
    "    sortFlag = True;\n",
    "    firstIterator = secondIterator = arraySize = 0\n",
    "    while(firstIterator < firstListSize and secondIterator < secondListSize):\n",
    "        if (firstListValue[firstIterator] <= secondListValue[secondIterator]):\n",
    "            resultList[arraySize] = firstListValue[firstIterator];\n",
    "            firstIterator = firstIterator + 1\n",
    "        else:\n",
    "            resultList[arraySize] = secondListValue[secondIterator];\n",
    "            secondIterator = secondIterator + 1\n",
    "        arraySize = arraySize + 1\n",
    "    \n",
    "    while firstIterator < firstListSize:\n",
    "        resultList[arraySize] = firstListValue[firstIterator]\n",
    "        arraySize = arraySize + 1\n",
    "        firstIterator = firstIterator + 1\n",
    "        \n",
    "    while secondIterator < secondListSize:\n",
    "        resultList[arraySize] = secondListValue[secondIterator]\n",
    "        arraySize = arraySize + 1\n",
    "        secondIterator = secondIterator + 1\n",
    "        \n",
    "    return resultList\n",
    "    \n",
    "\n",
    "result = mergeSort(firstListValue,secondListValue);\n",
    "print(*result)"
   ]
  },
  {
   "cell_type": "markdown",
   "metadata": {},
   "source": [
    "# Push Zero to End"
   ]
  },
  {
   "cell_type": "code",
   "execution_count": 58,
   "metadata": {},
   "outputs": [
    {
     "name": "stdout",
     "output_type": "stream",
     "text": [
      "0 3 0 2 0\n",
      "[3, 2, 0, 0, 0]\n"
     ]
    }
   ],
   "source": [
    "def selectionSort(listValue):\n",
    "    length = len(listValue)\n",
    "    resultList = [0] * length\n",
    "    innerIterator = 0\n",
    "    for iterator in range(length):\n",
    "        if listValue[iterator] != 0:\n",
    "            resultList[innerIterator] = listValue[iterator]\n",
    "            innerIterator = innerIterator + 1\n",
    "    return resultList\n",
    "            \n",
    "                \n",
    "sizeOfArray = int(input())\n",
    "listValue = [int(x) for x in input().split()]\n",
    "result = selectionSort(listValue)\n",
    "print(*result)"
   ]
  },
  {
   "cell_type": "markdown",
   "metadata": {},
   "source": [
    "# Rotate Array"
   ]
  },
  {
   "cell_type": "code",
   "execution_count": 64,
   "metadata": {},
   "outputs": [
    {
     "name": "stdout",
     "output_type": "stream",
     "text": [
      "[1, 2]\n",
      "[3, 4, 5, 6, 7, 1, 2]\n"
     ]
    }
   ],
   "source": [
    "listValue = [1,2,3,4,5,6,7]\n",
    "\n",
    "listOne = listValue[:2]\n",
    "listTwo = listValue[2:]\n",
    "print(listOne)\n",
    "listTwo.extend(listOne)\n",
    "print(listTwo)"
   ]
  },
  {
   "cell_type": "code",
   "execution_count": 71,
   "metadata": {},
   "outputs": [
    {
     "name": "stdout",
     "output_type": "stream",
     "text": [
      "194\n",
      "167 354 92 221 16 448 120 53 339 350 62 189 496 117 257 495 378 488 257 53 232 230 1 270 247 212 258 113 303 490 254 228 453 484 120 498 60 332 450 34 112 438 376 56 492 418 120 228 462 218 9 119 321 34 409 206 47 363 474 155 361 77 435 447 409 211 53 441 278 409 82 445 243 430 371 17 44 494 387 405 115 403 110 297 467 370 341 409 449 322 1 369 342 104 21 365 116 463 362 90 351 46 125 203 97 254 54 260 11 267 84 368 311 362 320 247 49 254 57 325 300 150 166 73 244 499 238 392 134 483 499 103 383 300 45 347 488 488 397 91 99 166 357 380 470 497 15 466 3 381 110 98 435 26 241 376 126 392 194 385 95 269 336 113 326 308 191 90 416 201 444 194 438 427 146 88 365 41 455 465 57 333 180 436 244 405 346 256 489 231 367 429 421 137\n",
      "235\n",
      "376 56 492 418 120 228 462 218 9 119 321 34 409 206 47 363 474 155 361 77 435 447 409 211 53 441 278 409 82 445 243 430 371 17 44 494 387 405 115 403 110 297 467 370 341 409 449 322 1 369 342 104 21 365 116 463 362 90 351 46 125 203 97 254 54 260 11 267 84 368 311 362 320 247 49 254 57 325 300 150 166 73 244 499 238 392 134 483 499 103 383 300 45 347 488 488 397 91 99 166 357 380 470 497 15 466 3 381 110 98 435 26 241 376 126 392 194 385 95 269 336 113 326 308 191 90 416 201 444 194 438 427 146 88 365 41 455 465 57 333 180 436 244 405 346 256 489 231 367 429 421 137 167 354 92 221 16 448 120 53 339 350 62 189 496 117 257 495 378 488 257 53 232 230 1 270 247 212 258 113 303 490 254 228 453 484 120 498 60 332 450 34 112 438\n"
     ]
    }
   ],
   "source": [
    "def Rotate(arr, d):\n",
    "    shiftList = arr[:d]\n",
    "    length = len(arr)\n",
    "    # Please add your code here\n",
    "    innerIterator  = 0;\n",
    "    for iterator in range(d,length):\n",
    "        arr[innerIterator] = arr[iterator]\n",
    "        innerIterator = innerIterator + 1\n",
    "    innerIterator = length - d\n",
    "    for element in shiftList:\n",
    "        arr[innerIterator] = element\n",
    "        innerIterator = innerIterator + 1\n",
    "\n",
    "# Main\n",
    "n=int(input())\n",
    "arr=list(int(i) for i in input().strip().split(' '))\n",
    "d=int(input())\n",
    "Rotate(arr, d)\n",
    "print(*arr)\n"
   ]
  },
  {
   "cell_type": "markdown",
   "metadata": {},
   "source": [
    "# Second Largest Element in Array"
   ]
  },
  {
   "cell_type": "code",
   "execution_count": 79,
   "metadata": {},
   "outputs": [
    {
     "name": "stdout",
     "output_type": "stream",
     "text": [
      "7\n",
      "2 13 4 1 3 6 28\n",
      "13\n"
     ]
    }
   ],
   "source": [
    "sizeOfArray = int(input())\n",
    "listValue = [int(x) for x in input().split()]\n",
    "\n",
    "def findSecondLargetElement(listValue):\n",
    "    length = len(listValue)\n",
    "    if checkAllElementsAreEqual(listValue) :\n",
    "        return -2147483648\n",
    "    else:\n",
    "        listValue.sort()\n",
    "        maxValue = listValue[length - 1]\n",
    "        for iterator in range(length-1,-1,-1):\n",
    "            if listValue[iterator] < maxValue:\n",
    "                return listValue[iterator]\n",
    "    \n",
    "def checkAllElementsAreEqual(listValue):\n",
    "    if listValue.count(listValue[0]) == len(listValue):\n",
    "        return True\n",
    "    else:\n",
    "        return False\n",
    "    \n",
    "print(findSecondLargetElement(listValue))"
   ]
  },
  {
   "cell_type": "code",
   "execution_count": 81,
   "metadata": {},
   "outputs": [
    {
     "name": "stdout",
     "output_type": "stream",
     "text": [
      "6\n",
      "5 6 1 2 3 4\n",
      "2\n"
     ]
    }
   ],
   "source": [
    "sizeOfArray = int(input())\n",
    "listValue = [int(x) for x in input().split()]\n",
    "\n",
    "def getRotateValue(listValue):\n",
    "    minimumValue = min(listValue)\n",
    "    return listValue.index(minimumValue)\n",
    "\n",
    "print(getRotateValue(listValue))"
   ]
  },
  {
   "cell_type": "code",
   "execution_count": 13,
   "metadata": {},
   "outputs": [
    {
     "name": "stdout",
     "output_type": "stream",
     "text": [
      "3\n",
      "8 5 2\n",
      "2\n",
      "1 3\n",
      "0 8 6 5\n"
     ]
    }
   ],
   "source": [
    "## Read input as specified in the question.\n",
    "## Print output as specified in the question.\n",
    "sizeOfFirstArray = int(input())\n",
    "firstArray = [int(x) for x in input().split()]\n",
    "sizeOfSecondArray = int(input())\n",
    "secondArray = [int(x) for x in input().split()]\n",
    "\n",
    "def normalizeList(listValue,difference):\n",
    "    for iterator in range(difference):\n",
    "        listValue.insert(0,0)\n",
    "        \n",
    "difference = sizeOfFirstArray - sizeOfSecondArray\n",
    "if difference < 0:\n",
    "    normalizeList(firstArray,abs(difference))\n",
    "elif difference > 0:\n",
    "    normalizeList(secondArray,abs(difference))\n",
    "else:\n",
    "    pass\n",
    "\n",
    "def calculateSum(firstArray,secondArray,arrayLength):\n",
    "    length = arrayLength + 1\n",
    "    reminder = 0\n",
    "    outputArray = [0] * length\n",
    "    for iterator in range(arrayLength-1,-1,-1):\n",
    "        sumValue = firstArray[iterator] + secondArray[iterator] + reminder\n",
    "        outputArray[iterator+1] = sumValue % 10\n",
    "        reminder = sumValue//10\n",
    "    outputArray[0] = reminder\n",
    "    return outputArray\n",
    "\n",
    "result = calculateSum(firstArray,secondArray,len(secondArray))\n",
    "print(*result)\n",
    "        \n",
    "        \n",
    "    \n",
    "    \n"
   ]
  }
 ],
 "metadata": {
  "kernelspec": {
   "display_name": "Python 3",
   "language": "python",
   "name": "python3"
  },
  "language_info": {
   "codemirror_mode": {
    "name": "ipython",
    "version": 3
   },
   "file_extension": ".py",
   "mimetype": "text/x-python",
   "name": "python",
   "nbconvert_exporter": "python",
   "pygments_lexer": "ipython3",
   "version": "3.7.3"
  }
 },
 "nbformat": 4,
 "nbformat_minor": 2
}
