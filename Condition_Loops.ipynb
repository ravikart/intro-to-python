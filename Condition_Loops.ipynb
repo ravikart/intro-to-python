{
 "cells": [
  {
   "cell_type": "code",
   "execution_count": 4,
   "metadata": {},
   "outputs": [
    {
     "name": "stdout",
     "output_type": "stream",
     "text": [
      "-5\n",
      "Negative\n"
     ]
    }
   ],
   "source": [
    "# Read input as sepcified in the question\n",
    "nValue = int(input())\n",
    "# Print output as specified in the question\n",
    "if nValue > 0:\n",
    "    print(\"Positive\")\n",
    "elif nValue < 0:\n",
    "    print(\"Negative\")\n",
    "else:\n",
    "    print(\"Zero\")"
   ]
  },
  {
   "cell_type": "code",
   "execution_count": 6,
   "metadata": {},
   "outputs": [
    {
     "name": "stdout",
     "output_type": "stream",
     "text": [
      "1\n"
     ]
    }
   ],
   "source": [
    "if 10<0 and 0<-10:\n",
    "    print('0')\n",
    "elif (10>0) or False:\n",
    "    print('1')\n",
    "else:\n",
    "    print('2')"
   ]
  },
  {
   "cell_type": "code",
   "execution_count": 9,
   "metadata": {},
   "outputs": [
    {
     "name": "stdout",
     "output_type": "stream",
     "text": [
      "B\n"
     ]
    }
   ],
   "source": [
    "if True or True:\n",
    "    if False and True or False:\n",
    "        print('A')\n",
    "    elif False and False or True and True:\n",
    "       print('B')\n",
    "    else:\n",
    "      print('C')\n",
    "else:\n",
    "     print('D')"
   ]
  },
  {
   "cell_type": "code",
   "execution_count": 13,
   "metadata": {},
   "outputs": [
    {
     "name": "stdout",
     "output_type": "stream",
     "text": [
      "4\n",
      "10\n"
     ]
    }
   ],
   "source": [
    "# Read input as sepcified in the question\n",
    "nValue = int(input())\n",
    "# Print output as specified in the question\n",
    "sumValue = 0\n",
    "iterator = 1\n",
    "while iterator <= nValue:\n",
    "    sumValue = sumValue + iterator;\n",
    "    iterator = iterator + 1;\n",
    "else:\n",
    "    print(sumValue)"
   ]
  },
  {
   "cell_type": "code",
   "execution_count": 16,
   "metadata": {},
   "outputs": [
    {
     "name": "stdout",
     "output_type": "stream",
     "text": [
      "2\n",
      "2\n"
     ]
    }
   ],
   "source": [
    "## Read input as specified in the question.\n",
    "nValue = int(input())\n",
    "## Print output as specified in the question.\n",
    "iterator = 1\n",
    "sumValue = 0\n",
    "while iterator <= nValue:\n",
    "    if (iterator % 2) == 0:\n",
    "        sumValue = sumValue + iterator;\n",
    "    iterator = iterator + 1;\n",
    "else:\n",
    "    print(sumValue)\n"
   ]
  },
  {
   "cell_type": "code",
   "execution_count": 22,
   "metadata": {},
   "outputs": [
    {
     "name": "stdout",
     "output_type": "stream",
     "text": [
      "29\n",
      "29\n",
      "1\n",
      "-1\n",
      "29   -1.6666666666666667\n"
     ]
    }
   ],
   "source": [
    "# Read input as sepcified in the question\n",
    "startValue = int(input())\n",
    "endValue = int(input())\n",
    "stepSize = int(input())\n",
    "# Print output as specified in the question\n",
    "\n",
    "while startValue <= endValue:\n",
    "    result = ((startValue - 32)*5)/9;\n",
    "    print(int(result))\n",
    "    print(startValue,\" \",result)\n",
    "    startValue = startValue + stepSize;\n",
    "## Note : For printing multiple values in one line, put them inside print separated by space.\n",
    "## You can follow this syntax for printing values of two variables val1 and val2 separaetd by space -\n",
    "##      print(val1, \" \", val2)\n",
    "\n"
   ]
  },
  {
   "cell_type": "code",
   "execution_count": 2,
   "metadata": {},
   "outputs": [
    {
     "name": "stdout",
     "output_type": "stream",
     "text": [
      "6\n",
      "2\n",
      "5\n",
      "0\n"
     ]
    }
   ],
   "source": [
    "# Get User Choice\n",
    "flag = True;\n",
    "while flag:\n",
    "    userChoice = int(input())\n",
    "\n",
    "    if userChoice > 6:\n",
    "        print(\"Invalid Operation\")\n",
    "    else:\n",
    "        firstData = int(input())\n",
    "        secondData = int(input())\n",
    "        result = 0;\n",
    "        if userChoice == 1:\n",
    "            result = firstData + secondData;\n",
    "        elif userChoice == 2:\n",
    "            result = firstData - secondData;\n",
    "        elif userChoice == 3:\n",
    "            result = firstData * secondData;\n",
    "        elif userChoice == 4:\n",
    "            result = firstData / secondData;\n",
    "        elif userChoice == 5:\n",
    "            result = firstData % secondData;\n",
    "        else:\n",
    "            flag = False;\n",
    "    print(result);    "
   ]
  },
  {
   "cell_type": "code",
   "execution_count": 5,
   "metadata": {},
   "outputs": [
    {
     "name": "stdout",
     "output_type": "stream",
     "text": [
      "1980\n",
      "0891\n"
     ]
    }
   ],
   "source": [
    "\n",
    "def reverse(n):\n",
    "    result = ''\n",
    "    while (n > 0) :\n",
    "        result = result + str(n % 10)\n",
    "        n = int(n/10)\n",
    "    return result\n",
    "\n",
    "n=int(input())\n",
    "result = reverse(n)\n",
    "print(result)"
   ]
  },
  {
   "cell_type": "code",
   "execution_count": 12,
   "metadata": {},
   "outputs": [
    {
     "name": "stdout",
     "output_type": "stream",
     "text": [
      "4\n",
      "3\n"
     ]
    }
   ],
   "source": [
    "userData = int(input())\n",
    "f0,f1 = 0,1\n",
    "if userData == 0 :\n",
    "    print(0)\n",
    "else:\n",
    "    iterator = 0\n",
    "    seriesValue = 0;\n",
    "    z = 0\n",
    "    while (iterator <= userData) :\n",
    "        seriesValue = f0\n",
    "        z = f0 + f1\n",
    "        f0 = f1\n",
    "        f1 = z\n",
    "        iterator = iterator + 1\n",
    "    print(seriesValue)\n",
    "        "
   ]
  }
 ],
 "metadata": {
  "kernelspec": {
   "display_name": "Python 3",
   "language": "python",
   "name": "python3"
  },
  "language_info": {
   "codemirror_mode": {
    "name": "ipython",
    "version": 3
   },
   "file_extension": ".py",
   "mimetype": "text/x-python",
   "name": "python",
   "nbconvert_exporter": "python",
   "pygments_lexer": "ipython3",
   "version": "3.7.3"
  }
 },
 "nbformat": 4,
 "nbformat_minor": 2
}
