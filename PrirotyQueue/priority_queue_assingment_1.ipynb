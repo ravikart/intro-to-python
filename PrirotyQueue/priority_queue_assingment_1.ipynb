{
 "cells": [
  {
   "cell_type": "code",
   "execution_count": 2,
   "metadata": {},
   "outputs": [
    {
     "name": "stdout",
     "output_type": "stream",
     "text": [
      "10\n",
      "98404 77913 46653 55811 70118 44019 9465 18138 11969 90209 \n",
      "false\n"
     ]
    }
   ],
   "source": [
    "import heapq\n",
    "def checkMaxHeap(lst):\n",
    "    parentIndex = 0\n",
    "    leftChildIndex = 2*parentIndex + 1\n",
    "    rightChildIndex = 2*parentIndex + 2\n",
    "    length = len(lst)\n",
    "    while leftChildIndex < length:\n",
    "        if(lst[leftChildIndex] > lst[parentIndex]):\n",
    "            return False\n",
    "        elif((rightChildIndex < length) and (lst[rightChildIndex] > lst[parentIndex])):\n",
    "            return False\n",
    "        else:\n",
    "            parentIndex = parentIndex + 1\n",
    "            leftChildIndex = 2*parentIndex + 1\n",
    "            rightChildIndex = 2*parentIndex + 2\n",
    "    return True        \n",
    "\n",
    "\n",
    "# Main Code\n",
    "n=int(input())\n",
    "lst=list(int(i) for i in input().strip().split(' '))\n",
    "print('true') if checkMaxHeap(lst) else print('false')\n"
   ]
  }
 ],
 "metadata": {
  "kernelspec": {
   "display_name": "Python 3",
   "language": "python",
   "name": "python3"
  },
  "language_info": {
   "codemirror_mode": {
    "name": "ipython",
    "version": 3
   },
   "file_extension": ".py",
   "mimetype": "text/x-python",
   "name": "python",
   "nbconvert_exporter": "python",
   "pygments_lexer": "ipython3",
   "version": "3.7.3"
  }
 },
 "nbformat": 4,
 "nbformat_minor": 2
}
