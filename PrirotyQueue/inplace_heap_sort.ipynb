{
 "cells": [
  {
   "cell_type": "code",
   "execution_count": 3,
   "metadata": {},
   "outputs": [
    {
     "name": "stdout",
     "output_type": "stream",
     "text": [
      "6\n",
      "1 2 3 4 5 6\n",
      "6 5 4 3 2 1 "
     ]
    }
   ],
   "source": [
    "#building heap\n",
    "def downHeapify(arr,i,n):\n",
    "    parentIndex = i\n",
    "    leftChildIndex = 2*parentIndex + 1\n",
    "    rightChildIndex = 2*parentIndex + 2\n",
    "    \n",
    "    while( leftChildIndex < n):\n",
    "        minIndex = parentIndex\n",
    "        if arr[minIndex] > arr[leftChildIndex]:\n",
    "            minIndex = leftChildIndex\n",
    "        if rightChildIndex < n and arr[minIndex] > arr[rightChildIndex]:\n",
    "            minIndex = rightChildIndex\n",
    "            \n",
    "        if minIndex == parentIndex:\n",
    "            return \n",
    "        arr[minIndex],arr[parentIndex] = arr[parentIndex],arr[minIndex]\n",
    "        parentIndex = minIndex\n",
    "        leftChildIndex = 2*parentIndex + 1\n",
    "        rightChildIndex = 2*parentIndex + 2\n",
    "        \n",
    "    return \n",
    "\n",
    "def buildHeap(arr):\n",
    "    n = len(arr)\n",
    "    for i in range(n//2 - 1,-1,-1):\n",
    "        downHeapify(arr,i,n)\n",
    "        \n",
    "\n",
    "def heapSort(arr):\n",
    "    buildHeap(arr);\n",
    "    n = len(arr)\n",
    "    for i in range(n-1,0,-1):\n",
    "        arr[0],arr[i] = arr[i],arr[0]\n",
    "        downHeapify(arr,0,i)\n",
    "        \n",
    "    return\n",
    "\n",
    "size = int(input())\n",
    "arr = [int(ele) for ele in input().split()]\n",
    "heapSort(arr)\n",
    "for ele in arr:\n",
    "    print(ele,end=\" \")"
   ]
  },
  {
   "cell_type": "code",
   "execution_count": 6,
   "metadata": {},
   "outputs": [
    {
     "name": "stdout",
     "output_type": "stream",
     "text": [
      "[1, 2, 4, 5, 7, 6, 10, 8]\n"
     ]
    }
   ],
   "source": [
    "#inbuild heapq\n",
    "\n",
    "import heapq\n",
    "\n",
    "li = [10,5,4,8,7,6,1]\n",
    "\n",
    "heapq.heapify(li)\n",
    "heapq.heappush(li,2)\n",
    "print(li)"
   ]
  },
  {
   "cell_type": "code",
   "execution_count": 9,
   "metadata": {
    "scrolled": true
   },
   "outputs": [
    {
     "name": "stdout",
     "output_type": "stream",
     "text": [
      "13\n",
      "2 12 9 16 10 5 3 20 25 11 1 8 6\n",
      "4\n",
      "[16, 12, 9, 2]\n",
      "5 2 3 1\n"
     ]
    }
   ],
   "source": [
    "import heapq\n",
    "def kSmallest(lst, k):\n",
    "    firstResult = lst[:k]\n",
    "    heapq._heapify_max(firstResult)\n",
    "    #print(firstResult)\n",
    "    for element in lst[k:]:\n",
    "        if(element < firstResult[0]):\n",
    "            heapq._heapreplace_max(firstResult,element)\n",
    "            \n",
    "    return firstResult\n",
    "\n",
    "# Main\n",
    "n=int(input())\n",
    "lst=list(int(i) for i in input().strip().split(' '))\n",
    "k=int(input())\n",
    "ans=kSmallest(lst, k)\n",
    "print(*ans)"
   ]
  },
  {
   "cell_type": "code",
   "execution_count": 21,
   "metadata": {},
   "outputs": [
    {
     "name": "stdout",
     "output_type": "stream",
     "text": [
      "13\n",
      "2 12 9 16 10 5 3 20 25 11 1 8 6 \n",
      "4\n",
      "[25, 20, 9, 16, 11, 8, 3, 12, 2, 10, 1, 5, 6]\n",
      "[9, 16, 25, 20]\n",
      "9\n",
      "11\n",
      "11\n",
      "11\n",
      "12\n",
      "12\n",
      "12\n",
      "12\n",
      "12\n",
      "12 16 25 20\n"
     ]
    }
   ],
   "source": [
    "import heapq\n",
    "def kSmallest(lst, k):\n",
    "    heapq._heapify_max(lst)\n",
    "    #print(lst)\n",
    "    firstResult = lst[:k]\n",
    "    heapq.heapify(firstResult)\n",
    "    #print(firstResult)\n",
    "    for element in lst[k:]:\n",
    "        #print(firstResult[0])\n",
    "        if(element > firstResult[0]):\n",
    "            heapq.heapreplace(firstResult,element)\n",
    "            heapq.heapify(firstResult)\n",
    "            \n",
    "    return firstResult\n",
    "\n",
    "# Main\n",
    "n=int(input())\n",
    "lst=list(int(i) for i in input().strip().split(' '))\n",
    "k=int(input())\n",
    "ans=kSmallest(lst, k)\n",
    "print(*ans,sep='\\n')"
   ]
  },
  {
   "cell_type": "code",
   "execution_count": null,
   "metadata": {},
   "outputs": [],
   "source": []
  }
 ],
 "metadata": {
  "kernelspec": {
   "display_name": "Python 3",
   "language": "python",
   "name": "python3"
  },
  "language_info": {
   "codemirror_mode": {
    "name": "ipython",
    "version": 3
   },
   "file_extension": ".py",
   "mimetype": "text/x-python",
   "name": "python",
   "nbconvert_exporter": "python",
   "pygments_lexer": "ipython3",
   "version": "3.7.3"
  }
 },
 "nbformat": 4,
 "nbformat_minor": 2
}
