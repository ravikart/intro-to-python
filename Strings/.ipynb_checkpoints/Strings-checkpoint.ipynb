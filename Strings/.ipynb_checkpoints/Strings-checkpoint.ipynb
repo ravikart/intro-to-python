{
 "cells": [
  {
   "cell_type": "code",
   "execution_count": 1,
   "metadata": {},
   "outputs": [
    {
     "ename": "TypeError",
     "evalue": "'str' object does not support item assignment",
     "output_type": "error",
     "traceback": [
      "\u001b[1;31m---------------------------------------------------------------------------\u001b[0m",
      "\u001b[1;31mTypeError\u001b[0m                                 Traceback (most recent call last)",
      "\u001b[1;32m<ipython-input-1-1be48fe55b0b>\u001b[0m in \u001b[0;36m<module>\u001b[1;34m\u001b[0m\n\u001b[0;32m      1\u001b[0m \u001b[0ms\u001b[0m\u001b[1;33m=\u001b[0m\u001b[1;34m\"abcd\"\u001b[0m\u001b[1;33m\u001b[0m\u001b[1;33m\u001b[0m\u001b[0m\n\u001b[1;32m----> 2\u001b[1;33m \u001b[0ms\u001b[0m\u001b[1;33m[\u001b[0m\u001b[1;36m0\u001b[0m\u001b[1;33m]\u001b[0m\u001b[1;33m=\u001b[0m\u001b[1;34m'c'\u001b[0m\u001b[1;33m\u001b[0m\u001b[1;33m\u001b[0m\u001b[0m\n\u001b[0m\u001b[0;32m      3\u001b[0m \u001b[0mprint\u001b[0m\u001b[1;33m(\u001b[0m\u001b[0ms\u001b[0m\u001b[1;33m)\u001b[0m\u001b[1;33m\u001b[0m\u001b[1;33m\u001b[0m\u001b[0m\n",
      "\u001b[1;31mTypeError\u001b[0m: 'str' object does not support item assignment"
     ]
    }
   ],
   "source": [
    "s=\"abcd\"\n",
    "s[0]='c'\n",
    "print(s) "
   ]
  },
  {
   "cell_type": "code",
   "execution_count": 5,
   "metadata": {},
   "outputs": [
    {
     "name": "stdout",
     "output_type": "stream",
     "text": [
      "They are same\n"
     ]
    }
   ],
   "source": [
    "s =\"abcd\"\n",
    "a = \"abcd\"\n",
    "if id(s) == id(a):\n",
    "    print(\"They are same\")\n",
    "else:\n",
    "    print(\"They are not same\")"
   ]
  },
  {
   "cell_type": "code",
   "execution_count": 7,
   "metadata": {},
   "outputs": [
    {
     "name": "stdout",
     "output_type": "stream",
     "text": [
      "abcd\n"
     ]
    }
   ],
   "source": [
    "s = \"abcd\"\n",
    "b = s + \"ef\"\n",
    "print(s)"
   ]
  },
  {
   "cell_type": "code",
   "execution_count": 18,
   "metadata": {},
   "outputs": [
    {
     "name": "stdout",
     "output_type": "stream",
     "text": [
      "['Ravi', 'Kumar']\n",
      "ivaR ramuK "
     ]
    }
   ],
   "source": [
    "value = \"Ravi Kumar\"\n",
    "valueList = value.split(\" \")\n",
    "print(valueList)\n",
    "for element in valueList:\n",
    "    print(element[-1::-1],end=\" \")"
   ]
  },
  {
   "cell_type": "code",
   "execution_count": 19,
   "metadata": {},
   "outputs": [
    {
     "name": "stdout",
     "output_type": "stream",
     "text": [
      "cdef\n"
     ]
    }
   ],
   "source": [
    "s = \"abcdef\"\n",
    "print (s[2:])"
   ]
  },
  {
   "cell_type": "code",
   "execution_count": 20,
   "metadata": {},
   "outputs": [
    {
     "name": "stdout",
     "output_type": "stream",
     "text": [
      "ed\n"
     ]
    }
   ],
   "source": [
    "s = \"abcdef\"\n",
    "print (s[4:2:-1])"
   ]
  },
  {
   "cell_type": "code",
   "execution_count": 21,
   "metadata": {},
   "outputs": [
    {
     "name": "stdout",
     "output_type": "stream",
     "text": [
      "abcdcba\n",
      "true\n"
     ]
    }
   ],
   "source": [
    "value = input()\n",
    "reversedString = value[-1::-1]\n",
    "\n",
    "if value == reversedString:\n",
    "    print(\"true\")\n",
    "else:\n",
    "    print(\"false\")"
   ]
  },
  {
   "cell_type": "code",
   "execution_count": 22,
   "metadata": {},
   "outputs": [
    {
     "name": "stdout",
     "output_type": "stream",
     "text": [
      "False\n"
     ]
    }
   ],
   "source": [
    "a = \"abcdef\" == \"abcd\"\n",
    "print(a)"
   ]
  },
  {
   "cell_type": "code",
   "execution_count": 23,
   "metadata": {},
   "outputs": [
    {
     "name": "stdout",
     "output_type": "stream",
     "text": [
      "True\n"
     ]
    }
   ],
   "source": [
    "a = \"abcdef\" >= \"abcd\"\n",
    "print(a)"
   ]
  },
  {
   "cell_type": "code",
   "execution_count": 24,
   "metadata": {},
   "outputs": [
    {
     "name": "stdout",
     "output_type": "stream",
     "text": [
      "True\n"
     ]
    }
   ],
   "source": [
    "a = \"abce\" >= \"abcdef\"\n",
    "print(a)"
   ]
  },
  {
   "cell_type": "code",
   "execution_count": 3,
   "metadata": {},
   "outputs": [
    {
     "name": "stdout",
     "output_type": "stream",
     "text": [
      "3\n",
      "1 5 3\n",
      "5 1 3 None\n"
     ]
    }
   ],
   "source": [
    "def swappairwise(a):\n",
    "  i = 0\n",
    "  l = len(a)\n",
    "  if (l%2==0):\n",
    "        a[1:l:2],a[:l:2] = a[:l:2],a[1:l:2]\n",
    "  else:\n",
    "    a[1:l-1:2],a[:l-1:2] = a[:l-1:2],a[1:l-1:2]\n",
    "  for i in range(len(a)):\n",
    "    print(a[i], end=\" \")\n",
    "  return\n",
    "n = int(input())\n",
    "li = [int(x) for x in input().split()][:n]\n",
    "c = swappairwise(li)\n",
    "print(c)"
   ]
  },
  {
   "cell_type": "code",
   "execution_count": 12,
   "metadata": {},
   "outputs": [
    {
     "name": "stdout",
     "output_type": "stream",
     "text": [
      "baabbsbbahsahbahshhbhsjjjj\n",
      "\n",
      "b\n",
      "b\n",
      "\n",
      "\n",
      "\n",
      "\n",
      "\n",
      "\n",
      "\n",
      "\n",
      "h\n",
      "\n",
      "\n",
      "bbsbahsahbahshbhsj\n"
     ]
    }
   ],
   "source": [
    "## Read input as specified in the question.\n",
    "## Print output as specified in the question.\n",
    "userString = input()\n",
    "\n",
    "def removeConsecutiveDuplicate(userString):\n",
    "    length = len(userString)\n",
    "    resultStringData = ''\n",
    "    if length < 2:\n",
    "        return userString\n",
    "    iterator = 0;\n",
    "    tempChar = ''\n",
    "    while(iterator < (length - 1)):\n",
    "        if(userString[iterator] == userString[iterator+1]):\n",
    "            tempChar = userString[iterator]\n",
    "            iterator += 1\n",
    "        else:\n",
    "            print(tempChar)\n",
    "            resultStringData = resultStringData + tempChar\n",
    "            resultStringData = resultStringData + userString[iterator]\n",
    "            tempChar = ''\n",
    "        iterator += 1\n",
    "    else:\n",
    "        resultStringData = resultStringData + tempChar\n",
    "    return resultStringData\n",
    "\n",
    "print(removeConsecutiveDuplicate(userString))\n",
    "        "
   ]
  },
  {
   "cell_type": "code",
   "execution_count": 15,
   "metadata": {},
   "outputs": [
    {
     "name": "stdout",
     "output_type": "stream",
     "text": [
      "Welcome to Coding Ninjas\n"
     ]
    },
    {
     "data": {
      "text/plain": [
       "'emocleW ot gnidoC sajniN'"
      ]
     },
     "execution_count": 15,
     "metadata": {},
     "output_type": "execute_result"
    }
   ],
   "source": [
    "userInput = input()\n",
    "\n",
    "def reverseWord(userInput):\n",
    "    listValue = userInput.split(\" \")\n",
    "    resultString = \"\"\n",
    "    iterator = 0\n",
    "    for element in listValue:\n",
    "        if iterator != 0:\n",
    "            resultString = resultString + \" \"\n",
    "        resultString = resultString + element[-1::-1]\n",
    "        iterator += 1\n",
    "    return resultString\n",
    "\n",
    "reverseWord(userInput)"
   ]
  },
  {
   "cell_type": "code",
   "execution_count": 19,
   "metadata": {},
   "outputs": [
    {
     "name": "stdout",
     "output_type": "stream",
     "text": [
      "welcome to coding ninjas\n",
      "o\n",
      "welcme t cding ninjas\n"
     ]
    }
   ],
   "source": [
    "userInput = input()\n",
    "userCharacter = input()\n",
    "\n",
    "def removeCharacter(userInput,character):\n",
    "    return userInput.replace(character,'')\n",
    "\n",
    "print(removeCharacter(userInput,userCharacter))"
   ]
  },
  {
   "cell_type": "code",
   "execution_count": 22,
   "metadata": {},
   "outputs": [
    {
     "name": "stdout",
     "output_type": "stream",
     "text": [
      "abdefgbabfba\n",
      "b\n"
     ]
    }
   ],
   "source": [
    "userInput = input()\n",
    "\n",
    "def getMaxCountCharacter(userInput): \n",
    "    count = 0\n",
    "    char = ''\n",
    "    for element in userInput:\n",
    "        elementCount = userInput.count(element)\n",
    "        if(elementCount > count):\n",
    "            count = elementCount\n",
    "            char = element\n",
    "            \n",
    "    return char\n",
    "        \n",
    "print(getMaxCountCharacter(userInput))"
   ]
  },
  {
   "cell_type": "code",
   "execution_count": 24,
   "metadata": {},
   "outputs": [
    {
     "name": "stdout",
     "output_type": "stream",
     "text": [
      "aaabbccdsa\n"
     ]
    },
    {
     "data": {
      "text/plain": [
       "'a3b2c2dsa'"
      ]
     },
     "execution_count": 24,
     "metadata": {},
     "output_type": "execute_result"
    }
   ],
   "source": [
    "def compress(string):\n",
    "    res = \"\"\n",
    "    count = 1\n",
    "    #Add in first character\n",
    "    res += string[0]\n",
    "    #Iterate through loop, skipping last one\n",
    "    for i in range(len(string)-1):\n",
    "        if(string[i] == string[i+1]):\n",
    "            count+=1\n",
    "        else:\n",
    "            if(count > 1):\n",
    "                #Ignore if no repeats\n",
    "                res += str(count)\n",
    "            res += string[i+1]\n",
    "            count = 1\n",
    "    #print last one\n",
    "    if(count > 1):\n",
    "        res += str(count)\n",
    "    return res\n",
    "\n",
    "userInput = input()\n",
    "compress(userInput)"
   ]
  },
  {
   "cell_type": "code",
   "execution_count": null,
   "metadata": {},
   "outputs": [],
   "source": []
  }
 ],
 "metadata": {
  "kernelspec": {
   "display_name": "Python 3",
   "language": "python",
   "name": "python3"
  },
  "language_info": {
   "codemirror_mode": {
    "name": "ipython",
    "version": 3
   },
   "file_extension": ".py",
   "mimetype": "text/x-python",
   "name": "python",
   "nbconvert_exporter": "python",
   "pygments_lexer": "ipython3",
   "version": "3.7.3"
  }
 },
 "nbformat": 4,
 "nbformat_minor": 2
}
