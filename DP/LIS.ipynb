{
 "cells": [
  {
   "cell_type": "code",
   "execution_count": 9,
   "metadata": {},
   "outputs": [
    {
     "name": "stdout",
     "output_type": "stream",
     "text": [
      "7\n",
      "6 3 1 2 0 7 9\n",
      "3\n"
     ]
    }
   ],
   "source": [
    "def lis(li,i,n):\n",
    "    if i == n:\n",
    "        return 0,0\n",
    "    \n",
    "    including_max = 1\n",
    "    for j in range(i+1,n):\n",
    "        if li[j] >= li[i]:\n",
    "            further_including_max = lis(li,j+1,n)[0]\n",
    "            including_max = max(including_max,1 + further_including_max)\n",
    "        \n",
    "        \n",
    "    excluding_max = lis(li,i+1,n)[1]\n",
    "    overallMax = max(including_max,excluding_max)\n",
    "    return including_max,overallMax\n",
    "\n",
    "\n",
    "length = int(input())\n",
    "n = [int(x) for x in input().split()]\n",
    "ans = lis(n,0,length)[1]\n",
    "print(ans)"
   ]
  },
  {
   "cell_type": "code",
   "execution_count": 10,
   "metadata": {},
   "outputs": [
    {
     "name": "stdout",
     "output_type": "stream",
     "text": [
      "7\n",
      "6 3 1 2 0 7 9\n",
      "4\n"
     ]
    }
   ],
   "source": [
    "def lis(li): \n",
    "    dp = [[0 for j in range(2)] for i in range(n+1)]\n",
    "    \n",
    "    for i in range(n-1,-1,-1):\n",
    "        including_max = 1\n",
    "        for j in range(i+1,n):\n",
    "            if li[j] > li[i]:\n",
    "                including_max = max(including_max,1+dp[j][0])\n",
    "        dp[i][0] = including_max\n",
    "        exluding_max = dp[i+1][1]\n",
    "        overallMax = max(exluding_max,including_max)\n",
    "        dp[i][1] = overallMax\n",
    "    \n",
    "    return dp[0][1]\n",
    "    \n",
    "       \n",
    "n = int(input())\n",
    "li = [int(ele) for ele in input().split()]\n",
    "print(lis(li))"
   ]
  }
 ],
 "metadata": {
  "kernelspec": {
   "display_name": "Python 3",
   "language": "python",
   "name": "python3"
  },
  "language_info": {
   "codemirror_mode": {
    "name": "ipython",
    "version": 3
   },
   "file_extension": ".py",
   "mimetype": "text/x-python",
   "name": "python",
   "nbconvert_exporter": "python",
   "pygments_lexer": "ipython3",
   "version": "3.7.3"
  }
 },
 "nbformat": 4,
 "nbformat_minor": 2
}
