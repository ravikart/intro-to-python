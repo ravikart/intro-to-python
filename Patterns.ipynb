{
 "cells": [
  {
   "cell_type": "code",
   "execution_count": 1,
   "metadata": {},
   "outputs": [
    {
     "name": "stdout",
     "output_type": "stream",
     "text": [
      "4\n",
      "****\n",
      "****\n",
      "****\n",
      "****\n"
     ]
    }
   ],
   "source": [
    "number  = int(input())\n",
    "iterator = 0\n",
    "while iterator < number:\n",
    "    innerIterator = 0\n",
    "    while innerIterator < number:\n",
    "        print(number,end=\"\")\n",
    "        innerIterator  = innerIterator +1;\n",
    "    iterator = iterator + 1;\n",
    "    print()\n",
    "    "
   ]
  },
  {
   "cell_type": "code",
   "execution_count": null,
   "metadata": {},
   "outputs": [],
   "source": []
  },
  {
   "cell_type": "code",
   "execution_count": 3,
   "metadata": {},
   "outputs": [
    {
     "name": "stdout",
     "output_type": "stream",
     "text": [
      "5\n",
      "1\n",
      "22\n",
      "333\n",
      "4444\n",
      "55555\n"
     ]
    }
   ],
   "source": [
    "number = int(input())\n",
    "iterator = 1\n",
    "while iterator <= number:\n",
    "    innerIterator = 1\n",
    "    while innerIterator <= iterator:\n",
    "        print(iterator,end=\"\")\n",
    "        innerIterator = innerIterator + 1;\n",
    "    print()\n",
    "    iterator = iterator + 1"
   ]
  },
  {
   "cell_type": "code",
   "execution_count": 4,
   "metadata": {},
   "outputs": [
    {
     "name": "stdout",
     "output_type": "stream",
     "text": [
      "5\n",
      "1\n",
      "21\n",
      "321\n",
      "4321\n",
      "54321\n"
     ]
    }
   ],
   "source": [
    "number  = int(input())\n",
    "iterator = 1\n",
    "while iterator <= number:\n",
    "    innerIterator = iterator\n",
    "    while innerIterator >= 1:\n",
    "        print(innerIterator,end=\"\")\n",
    "        innerIterator  = innerIterator - 1\n",
    "    print()\n",
    "    iterator = iterator + 1"
   ]
  },
  {
   "cell_type": "code",
   "execution_count": 14,
   "metadata": {},
   "outputs": [
    {
     "name": "stdout",
     "output_type": "stream",
     "text": [
      "27\n",
      "ABCDEFGHIJKLMNOPQRSTUVWXYZ[\n",
      "ABCDEFGHIJKLMNOPQRSTUVWXYZ[\n",
      "ABCDEFGHIJKLMNOPQRSTUVWXYZ[\n",
      "ABCDEFGHIJKLMNOPQRSTUVWXYZ[\n",
      "ABCDEFGHIJKLMNOPQRSTUVWXYZ[\n",
      "ABCDEFGHIJKLMNOPQRSTUVWXYZ[\n",
      "ABCDEFGHIJKLMNOPQRSTUVWXYZ[\n",
      "ABCDEFGHIJKLMNOPQRSTUVWXYZ[\n",
      "ABCDEFGHIJKLMNOPQRSTUVWXYZ[\n",
      "ABCDEFGHIJKLMNOPQRSTUVWXYZ[\n",
      "ABCDEFGHIJKLMNOPQRSTUVWXYZ[\n",
      "ABCDEFGHIJKLMNOPQRSTUVWXYZ[\n",
      "ABCDEFGHIJKLMNOPQRSTUVWXYZ[\n",
      "ABCDEFGHIJKLMNOPQRSTUVWXYZ[\n",
      "ABCDEFGHIJKLMNOPQRSTUVWXYZ[\n",
      "ABCDEFGHIJKLMNOPQRSTUVWXYZ[\n",
      "ABCDEFGHIJKLMNOPQRSTUVWXYZ[\n",
      "ABCDEFGHIJKLMNOPQRSTUVWXYZ[\n",
      "ABCDEFGHIJKLMNOPQRSTUVWXYZ[\n",
      "ABCDEFGHIJKLMNOPQRSTUVWXYZ[\n",
      "ABCDEFGHIJKLMNOPQRSTUVWXYZ[\n",
      "ABCDEFGHIJKLMNOPQRSTUVWXYZ[\n",
      "ABCDEFGHIJKLMNOPQRSTUVWXYZ[\n",
      "ABCDEFGHIJKLMNOPQRSTUVWXYZ[\n",
      "ABCDEFGHIJKLMNOPQRSTUVWXYZ[\n",
      "ABCDEFGHIJKLMNOPQRSTUVWXYZ[\n",
      "ABCDEFGHIJKLMNOPQRSTUVWXYZ[\n"
     ]
    }
   ],
   "source": [
    "number  = int(input())\n",
    "iterator = 0\n",
    "A_CONSTANT = 65\n",
    "while iterator < number:\n",
    "    innerIterator = 0\n",
    "    while innerIterator < number:\n",
    "        print(chr(A_CONSTANT+innerIterator),end=\"\")\n",
    "        innerIterator = innerIterator + 1\n",
    "    print()\n",
    "    iterator = iterator + 1"
   ]
  },
  {
   "cell_type": "code",
   "execution_count": 15,
   "metadata": {},
   "outputs": [
    {
     "name": "stdout",
     "output_type": "stream",
     "text": [
      "4\n",
      "ABCD\n",
      "BCDE\n",
      "CDEF\n",
      "DEFG\n"
     ]
    }
   ],
   "source": [
    "number  = int(input())\n",
    "iterator = 0\n",
    "A_CONSTANT = 65\n",
    "while iterator < number:\n",
    "    innerIterator = 0\n",
    "    while innerIterator < number:\n",
    "        print(chr(A_CONSTANT+innerIterator),end=\"\")\n",
    "        innerIterator = innerIterator + 1\n",
    "    print()\n",
    "    A_CONSTANT = A_CONSTANT + 1\n",
    "    iterator = iterator + 1"
   ]
  },
  {
   "cell_type": "code",
   "execution_count": null,
   "metadata": {},
   "outputs": [],
   "source": []
  },
  {
   "cell_type": "code",
   "execution_count": 16,
   "metadata": {},
   "outputs": [
    {
     "name": "stdout",
     "output_type": "stream",
     "text": [
      "4\n",
      "A\n",
      "BC\n",
      "CDE\n",
      "DEFG\n"
     ]
    }
   ],
   "source": [
    "number  = int(input())\n",
    "iterator = 0\n",
    "A_CONSTANT = 65\n",
    "while iterator < number:\n",
    "    innerIterator = 0\n",
    "    while innerIterator <= iterator:\n",
    "        print(chr(A_CONSTANT+innerIterator),end=\"\")\n",
    "        innerIterator = innerIterator + 1\n",
    "    print()\n",
    "    A_CONSTANT = A_CONSTANT + 1\n",
    "    iterator = iterator + 1"
   ]
  },
  {
   "cell_type": "code",
   "execution_count": 22,
   "metadata": {},
   "outputs": [
    {
     "name": "stdout",
     "output_type": "stream",
     "text": [
      "8\n",
      "H\n",
      "GH\n",
      "FGH\n",
      "EFGH\n",
      "DEFGH\n",
      "CDEFGH\n",
      "BCDEFGH\n",
      "ABCDEFGH\n"
     ]
    }
   ],
   "source": [
    "number  = int(input())\n",
    "ALPHA_CONSTANT = 65 + (number)\n",
    "iterator = 1\n",
    "while iterator <= number:\n",
    "    innerIterator = iterator\n",
    "    printValue = ALPHA_CONSTANT \n",
    "    while innerIterator >= 1:\n",
    "        print(chr(ALPHA_CONSTANT - innerIterator),end=\"\")\n",
    "        innerIterator  = innerIterator - 1\n",
    "    print()\n",
    "    iterator = iterator + 1"
   ]
  },
  {
   "cell_type": "code",
   "execution_count": 24,
   "metadata": {},
   "outputs": [
    {
     "name": "stdout",
     "output_type": "stream",
     "text": [
      "5\n",
      "1\n",
      "11\n",
      "111\n",
      "1111\n",
      "11111\n"
     ]
    }
   ],
   "source": [
    "number  = int(input())\n",
    "iterator = 0\n",
    "while iterator < number:\n",
    "    innerIterator = 0\n",
    "    while innerIterator <= iterator:\n",
    "        print('1',end=\"\")\n",
    "        innerIterator = innerIterator + 1\n",
    "    print()\n",
    "    iterator = iterator + 1"
   ]
  },
  {
   "cell_type": "code",
   "execution_count": 28,
   "metadata": {},
   "outputs": [
    {
     "name": "stdout",
     "output_type": "stream",
     "text": [
      "5\n",
      "12345\n",
      "1234\n",
      "123\n",
      "12\n",
      "1\n"
     ]
    }
   ],
   "source": [
    "number  = int(input())\n",
    "while number >= 1:\n",
    "    innerIterator = 1\n",
    "    while innerIterator <= number:\n",
    "        print(innerIterator,end=\"\")\n",
    "        innerIterator = innerIterator + 1\n",
    "    print()\n",
    "    number = number - 1"
   ]
  },
  {
   "cell_type": "code",
   "execution_count": 29,
   "metadata": {},
   "outputs": [
    {
     "name": "stdout",
     "output_type": "stream",
     "text": [
      "5\n",
      "A\n",
      "BB\n",
      "CCC\n",
      "DDDD\n",
      "EEEEE\n"
     ]
    }
   ],
   "source": [
    "number  = int(input())\n",
    "iterator = 0\n",
    "while iterator < number:\n",
    "    innerIterator = 0\n",
    "    printValue = 65 + iterator\n",
    "    while innerIterator <= iterator:\n",
    "        print(chr(printValue),end=\"\")\n",
    "        innerIterator = innerIterator + 1\n",
    "    print()\n",
    "    iterator = iterator + 1"
   ]
  },
  {
   "cell_type": "code",
   "execution_count": 31,
   "metadata": {},
   "outputs": [
    {
     "name": "stdout",
     "output_type": "stream",
     "text": [
      "5\n",
      "1\n",
      "11\n",
      "202\n",
      "3003\n",
      "40004\n"
     ]
    }
   ],
   "source": [
    "number  = int(input())\n",
    "iterator = 0\n",
    "while(iterator < number):\n",
    "    innerIterator = 0\n",
    "    while(innerIterator <= iterator):\n",
    "        if iterator == 0:\n",
    "            print((iterator+1),end=\"\")\n",
    "        else:\n",
    "            if (innerIterator == 0) or (innerIterator == iterator):\n",
    "                print(iterator,end=\"\")\n",
    "            else:\n",
    "                print(\"0\",end=\"\")\n",
    "        innerIterator = innerIterator + 1\n",
    "    print()\n",
    "    iterator = iterator + 1\n",
    "\n",
    "    "
   ]
  },
  {
   "cell_type": "code",
   "execution_count": 37,
   "metadata": {},
   "outputs": [
    {
     "name": "stdout",
     "output_type": "stream",
     "text": [
      "4\n",
      "1\n",
      "11\n",
      "121\n",
      "1221\n"
     ]
    }
   ],
   "source": [
    "## Read input as specified in the question.\n",
    "number  = int(input())\n",
    "iterator = 0\n",
    "if number != 0 :\n",
    "    while(iterator < number):\n",
    "        innerIterator = 0\n",
    "        while(innerIterator <= iterator):\n",
    "            if (innerIterator == 0) or (innerIterator == iterator):\n",
    "                print(\"1\",end=\"\")\n",
    "            else:\n",
    "                print(\"2\",end=\"\")\n",
    "            innerIterator = innerIterator + 1\n",
    "        print()\n",
    "        iterator = iterator + 1"
   ]
  },
  {
   "cell_type": "code",
   "execution_count": 2,
   "metadata": {},
   "outputs": [
    {
     "name": "stdout",
     "output_type": "stream",
     "text": [
      "5\n",
      "12345\n",
      "1234\n",
      "123\n",
      "12\n",
      "1\n"
     ]
    }
   ],
   "source": [
    "number = int(input())\n",
    "\n",
    "iterator = 1\n",
    "while iterator <= number:\n",
    "    innerIterator = 1\n",
    "    while innerIterator <= (number - iterator + 1) :\n",
    "        print(innerIterator,end=\"\")\n",
    "        innerIterator = innerIterator + 1;\n",
    "    print()\n",
    "    iterator = iterator + 1\n",
    "    "
   ]
  },
  {
   "cell_type": "code",
   "execution_count": 3,
   "metadata": {},
   "outputs": [
    {
     "name": "stdout",
     "output_type": "stream",
     "text": [
      "5\n",
      "55555\n",
      "4444\n",
      "333\n",
      "22\n",
      "1\n"
     ]
    }
   ],
   "source": [
    "number = int(input())\n",
    "\n",
    "iterator = number\n",
    "while iterator >= 1:\n",
    "    innerIterator = 1\n",
    "    while innerIterator <= iterator :\n",
    "        print(iterator,end=\"\")\n",
    "        innerIterator = innerIterator + 1;\n",
    "    print()\n",
    "    iterator = iterator - 1"
   ]
  },
  {
   "cell_type": "code",
   "execution_count": 10,
   "metadata": {},
   "outputs": [
    {
     "name": "stdout",
     "output_type": "stream",
     "text": [
      "5\n",
      "    1\n",
      "   12\n",
      "  123\n",
      " 1234\n",
      "12345\n"
     ]
    }
   ],
   "source": [
    "number  = int(input())\n",
    "iterator = 1\n",
    "while iterator <= number:\n",
    "    spaceIterator = 1\n",
    "    while spaceIterator <= number - iterator:\n",
    "        print(\" \",end=\"\")\n",
    "        spaceIterator = spaceIterator + 1\n",
    "    \n",
    "    starIterator = 1\n",
    "    while starIterator <= iterator:\n",
    "        print(starIterator,end=\"\")\n",
    "        starIterator = starIterator + 1\n",
    "    print()\n",
    "    iterator = iterator + 1\n",
    "        "
   ]
  },
  {
   "cell_type": "code",
   "execution_count": 11,
   "metadata": {},
   "outputs": [
    {
     "name": "stdout",
     "output_type": "stream",
     "text": [
      "5\n",
      "    1\n",
      "   121\n",
      "  12321\n",
      " 1234321\n",
      "123454321\n"
     ]
    }
   ],
   "source": [
    "number  = int(input())\n",
    "iterator = 1\n",
    "while iterator <= number:\n",
    "    spaceIterator = 1\n",
    "    while spaceIterator <= number - iterator:\n",
    "        print(\" \",end=\"\")\n",
    "        spaceIterator = spaceIterator + 1\n",
    "    \n",
    "    starIterator = 1\n",
    "    while starIterator <= iterator:\n",
    "        print(starIterator,end=\"\")\n",
    "        starIterator = starIterator + 1\n",
    "    decreasingIterator = iterator - 1\n",
    "    while decreasingIterator >= 1:\n",
    "        print(decreasingIterator , end=\"\")\n",
    "        decreasingIterator = decreasingIterator - 1\n",
    "    print()\n",
    "    iterator = iterator + 1"
   ]
  },
  {
   "cell_type": "code",
   "execution_count": 12,
   "metadata": {},
   "outputs": [
    {
     "name": "stdout",
     "output_type": "stream",
     "text": [
      "5\n",
      "    *\n",
      "   ***\n",
      "  *****\n",
      " *******\n",
      "*********\n"
     ]
    }
   ],
   "source": [
    "number  = int(input())\n",
    "iterator = 1\n",
    "while iterator <= number:\n",
    "    spaceIterator = 1\n",
    "    while spaceIterator <= number - iterator:\n",
    "        print(\" \",end=\"\")\n",
    "        spaceIterator = spaceIterator + 1\n",
    "    \n",
    "    starIterator = 1\n",
    "    while starIterator <= iterator:\n",
    "        print(\"*\",end=\"\")\n",
    "        starIterator = starIterator + 1\n",
    "    decreasingIterator = iterator - 1\n",
    "    while decreasingIterator >= 1:\n",
    "        print(\"*\" , end=\"\")\n",
    "        decreasingIterator = decreasingIterator - 1\n",
    "    print()\n",
    "    iterator = iterator + 1"
   ]
  },
  {
   "cell_type": "code",
   "execution_count": 23,
   "metadata": {},
   "outputs": [
    {
     "name": "stdout",
     "output_type": "stream",
     "text": [
      "2\n",
      " 1\n",
      "232\n"
     ]
    }
   ],
   "source": [
    "number  = int(input())\n",
    "iterator = 1\n",
    "while iterator <= number:\n",
    "    startValue = iterator\n",
    "    spaceIterator = 1\n",
    "    while spaceIterator <= number - iterator:\n",
    "        print(\" \",end=\"\")\n",
    "        spaceIterator = spaceIterator + 1\n",
    "    \n",
    "    starIterator = 1\n",
    "    while starIterator <= iterator:\n",
    "        print(startValue,end=\"\")\n",
    "        startValue = startValue + 1\n",
    "        starIterator = starIterator + 1\n",
    "    decreasingIterator = iterator - 1\n",
    "    startValue = startValue - 2\n",
    "    while decreasingIterator >= 1:\n",
    "        print(startValue , end=\"\")\n",
    "        startValue = startValue - 1\n",
    "        decreasingIterator = decreasingIterator - 1\n",
    "    print()\n",
    "    iterator = iterator + 1"
   ]
  },
  {
   "cell_type": "code",
   "execution_count": 41,
   "metadata": {},
   "outputs": [
    {
     "name": "stdout",
     "output_type": "stream",
     "text": [
      "5\n",
      "  *\n",
      " ***\n",
      "*****\n",
      "*****\n",
      " ***\n",
      "  *\n"
     ]
    }
   ],
   "source": [
    "number  = int(input())\n",
    "iterator = 1\n",
    "midValue = (number//2 + 1)\n",
    "while iterator <= midValue:\n",
    "    spaceIterator = midValue - iterator\n",
    "    while spaceIterator >= 1:\n",
    "        print(\" \",end=\"\")\n",
    "        spaceIterator = spaceIterator - 1\n",
    "    \n",
    "    starIterator = 1\n",
    "    while starIterator <= iterator:\n",
    "        print('*',end=\"\")\n",
    "        starIterator = starIterator + 1\n",
    "        \n",
    "    decreasingIterator = iterator - 1\n",
    "    while decreasingIterator >= 1:\n",
    "        print('*' , end=\"\")\n",
    "        decreasingIterator = decreasingIterator - 1\n",
    "    print()\n",
    "    iterator = iterator + 1\n",
    "else :\n",
    "    iterator = midValue\n",
    "    while iterator >= 1:\n",
    "        spaceIterator = midValue - iterator\n",
    "        while spaceIterator >= 1:\n",
    "            print(\" \",end=\"\")\n",
    "            spaceIterator = spaceIterator - 1\n",
    "    \n",
    "        starIterator = 1\n",
    "        while starIterator <= iterator:\n",
    "            print('*',end=\"\")\n",
    "            starIterator = starIterator + 1\n",
    "        \n",
    "        decreasingIterator = iterator - 1\n",
    "        while decreasingIterator >= 1:\n",
    "            print('*' , end=\"\")\n",
    "            decreasingIterator = decreasingIterator - 1\n",
    "        print()\n",
    "        iterator = iterator- 1\n",
    "        "
   ]
  },
  {
   "cell_type": "markdown",
   "metadata": {},
   "source": [
    "5//2"
   ]
  },
  {
   "cell_type": "code",
   "execution_count": 47,
   "metadata": {},
   "outputs": [
    {
     "name": "stdout",
     "output_type": "stream",
     "text": [
      "3\n",
      "1    1\n",
      "12  21\n",
      "123321\n"
     ]
    }
   ],
   "source": [
    "number  = int(input())\n",
    "iterator = 1\n",
    "while iterator <= number:\n",
    "    innerIterator = 1\n",
    "    numberCount = 1\n",
    "    while innerIterator <= (number * 2):\n",
    "        if innerIterator <= number:\n",
    "            if innerIterator <= iterator:\n",
    "                print(numberCount ,end=\"\")\n",
    "            else:\n",
    "                print(\" \" ,end=\"\")\n",
    "            innerIterator = innerIterator + 1\n",
    "            numberCount = numberCount + 1\n",
    "        else:\n",
    "            numberCount = numberCount - 1\n",
    "            if numberCount <= iterator:\n",
    "                print(numberCount ,end=\"\")\n",
    "            else:\n",
    "                print(\" \" ,end=\"\")\n",
    "            innerIterator = innerIterator + 1\n",
    "    print()\n",
    "    iterator = iterator + 1"
   ]
  },
  {
   "cell_type": "code",
   "execution_count": 1,
   "metadata": {},
   "outputs": [
    {
     "name": "stdout",
     "output_type": "stream",
     "text": [
      "5\n",
      "*0000*0000*\n",
      "0*000*000*0\n",
      "00*00*00*00\n",
      "000*0*0*000\n",
      "0000***0000\n"
     ]
    }
   ],
   "source": [
    "number  = int(input())\n",
    "iterator = 1\n",
    "columnValue = (number * 2) + 1\n",
    "midValue = (columnValue //2) + 1\n",
    "while iterator <= number:\n",
    "    innerIterator = 1\n",
    "    numberCount = 1\n",
    "    while innerIterator <= (columnValue):\n",
    "        if iterator == number:\n",
    "            if (innerIterator >= (midValue - 1)) and (innerIterator <= (midValue + 1)):\n",
    "                print('*',end=\"\")\n",
    "            else:\n",
    "                print('0',end=\"\")\n",
    "        else:\n",
    "            if innerIterator > midValue :\n",
    "                if (numberCount - 2) == iterator :\n",
    "                    print('*',end=\"\")\n",
    "                else:\n",
    "                    print('0',end=\"\")\n",
    "                numberCount = numberCount - 1\n",
    "            else:\n",
    "                if (numberCount == iterator) or (numberCount == midValue):\n",
    "                    print('*',end=\"\")\n",
    "                else:\n",
    "                    print('0',end=\"\")\n",
    "                numberCount = numberCount + 1\n",
    "        innerIterator = innerIterator + 1\n",
    "    print()\n",
    "    iterator = iterator + 1"
   ]
  },
  {
   "cell_type": "code",
   "execution_count": 12,
   "metadata": {},
   "outputs": [
    {
     "name": "stdout",
     "output_type": "stream",
     "text": [
      "5\n",
      "    1\n",
      "   212\n",
      "  32123\n",
      " 4321234\n",
      "543212345\n"
     ]
    }
   ],
   "source": [
    "number = int(input())\n",
    "\n",
    "iterator = 1\n",
    "while iterator <= number:\n",
    "    numberCount = number\n",
    "    innerIterator = 1\n",
    "    while innerIterator <= ((number * 2) - 1):\n",
    "        if innerIterator > number :\n",
    "            if (numberCount + 2) <= iterator:\n",
    "                print(numberCount + 2,end=\"\")\n",
    "            numberCount = numberCount + 1\n",
    "        else:\n",
    "            if numberCount <= iterator:\n",
    "                print(numberCount,end=\"\")\n",
    "            else:\n",
    "                print(\" \",end=\"\")\n",
    "            numberCount = numberCount - 1\n",
    "        innerIterator = innerIterator + 1\n",
    "    print()\n",
    "    iterator = iterator + 1\n",
    "            "
   ]
  },
  {
   "cell_type": "code",
   "execution_count": 46,
   "metadata": {},
   "outputs": [
    {
     "name": "stdout",
     "output_type": "stream",
     "text": [
      "6\n",
      "* \n",
      " * * \n",
      "  * * * \n",
      "  * * * \n",
      " * * \n",
      "* \n"
     ]
    }
   ],
   "source": [
    "userData = int(input())\n",
    "\n",
    "iterator  = 1\n",
    "startRowCount = 0\n",
    "if (userData % 2) == 0 :\n",
    "    number = userData//2;\n",
    "else:\n",
    "    number = (userData//2) + 1;\n",
    "while iterator <= (number) :\n",
    "    innerIterator = 1\n",
    "    while innerIterator <= (iterator + startRowCount):\n",
    "        if innerIterator >= iterator:\n",
    "            print(\"* \",end=\"\")\n",
    "        else:\n",
    "            print(\" \",end=\"\")\n",
    "        innerIterator  = innerIterator + 1;\n",
    "    print()\n",
    "    startRowCount = startRowCount + 1;\n",
    "    iterator = iterator + 1;\n",
    "    \n",
    "iterator = userData // 2\n",
    "while iterator >= 1:\n",
    "    innerIterator = 1\n",
    "    while innerIterator <= ((iterator*2)  - 1):\n",
    "        if innerIterator < iterator:\n",
    "            print(\" \",end=\"\")\n",
    "        else:\n",
    "            print(\"* \",end=\"\")\n",
    "        innerIterator  = innerIterator + 1;\n",
    "    print()\n",
    "    iterator = iterator - 1;\n",
    "        \n",
    "        \n",
    "        "
   ]
  },
  {
   "cell_type": "code",
   "execution_count": 6,
   "metadata": {},
   "outputs": [
    {
     "name": "stdout",
     "output_type": "stream",
     "text": [
      "5\n",
      "11111\n",
      "0000\n",
      "111\n",
      "00\n",
      "1\n"
     ]
    }
   ],
   "source": [
    "number  = int(input())\n",
    "value = ''\n",
    "while number >= 1:\n",
    "    if value == '':\n",
    "        value = '1'\n",
    "    else:\n",
    "        if value == '1':\n",
    "            value = '0'\n",
    "        else :\n",
    "            value = '1'\n",
    "    innerIterator = 1\n",
    "    while innerIterator <= number:\n",
    "        print(value,end=\"\")\n",
    "        innerIterator = innerIterator + 1\n",
    "    print()\n",
    "    number = number - 1"
   ]
  },
  {
   "cell_type": "code",
   "execution_count": 13,
   "metadata": {},
   "outputs": [
    {
     "name": "stdout",
     "output_type": "stream",
     "text": [
      "7\n",
      "1234567\n",
      " 234567\n",
      "  34567\n",
      "   4567\n",
      "    567\n",
      "     67\n",
      "      7\n",
      "     67\n",
      "    567\n",
      "   4567\n",
      "  34567\n",
      " 234567\n",
      "1234567\n",
      "1234567\n"
     ]
    }
   ],
   "source": [
    "number  = int(input())\n",
    "iterator  = 1\n",
    "while iterator <= number:\n",
    "    innerIterator = 1\n",
    "    while innerIterator <= number:\n",
    "        if innerIterator >= iterator:\n",
    "            print(innerIterator,end=\"\")\n",
    "        else:\n",
    "            print(\" \",end=\"\")\n",
    "        innerIterator = innerIterator + 1\n",
    "    print()\n",
    "    iterator = iterator + 1\n",
    "    \n",
    "iterator = 1;\n",
    "numberValue = number - 1;\n",
    "while iterator <= number:\n",
    "    innerIterator = 1\n",
    "    while innerIterator <= number:\n",
    "        if innerIterator < numberValue:\n",
    "            print(\" \",end=\"\")\n",
    "        else:\n",
    "            print(innerIterator,end=\"\")\n",
    "        innerIterator = innerIterator + 1\n",
    "    print()\n",
    "    iterator = iterator + 1\n",
    "    numberValue = numberValue - 1"
   ]
  },
  {
   "cell_type": "code",
   "execution_count": 21,
   "metadata": {},
   "outputs": [
    {
     "name": "stdout",
     "output_type": "stream",
     "text": [
      "5\n",
      "  ***\n",
      "   **\n",
      "    *\n",
      "     \n",
      "     \n"
     ]
    }
   ],
   "source": [
    "number = int(input())\n",
    "iterator = 1\n",
    "starLocation = 0\n",
    "while iterator <= ((number//2)+ 1):\n",
    "    innerIterator = 1;\n",
    "    while innerIterator <= number:\n",
    "        if innerIterator >= (((number//2) + 1) - starLocation) :\n",
    "            print(\"*\",end=\"\")\n",
    "        else :\n",
    "            print(\" \",end=\"\")\n",
    "        innerIterator = innerIterator + 1\n",
    "    print()\n",
    "    iterator = iterator + 1\n",
    "            \n",
    "            "
   ]
  },
  {
   "cell_type": "code",
   "execution_count": 1,
   "metadata": {},
   "outputs": [
    {
     "name": "stdout",
     "output_type": "stream",
     "text": [
      "    *\n",
      "   ***\n",
      "  *****\n",
      " *******\n",
      "*********\n",
      " *******\n",
      "  *****\n",
      "   ***\n",
      "    *\n"
     ]
    }
   ],
   "source": [
    "def Diamond(rows): \n",
    "    n = 0\n",
    "    for i in range(1, rows + 1): \n",
    "        # loop to print spaces \n",
    "        for j in range (1, (rows - i) + 1): \n",
    "            print(end = \" \") \n",
    "          \n",
    "        # loop to print star \n",
    "        while n != (2 * i - 1): \n",
    "            print(\"*\", end = \"\") \n",
    "            n = n + 1\n",
    "        n = 0\n",
    "          \n",
    "        # line break \n",
    "        print()  \n",
    "  \n",
    "    k = 1\n",
    "    n = 1\n",
    "    for i in range(1, rows): \n",
    "        # loop to print spaces \n",
    "        for j in range (1, k + 1): \n",
    "            print(end = \" \") \n",
    "        k = k + 1\n",
    "          \n",
    "        # loop to print star \n",
    "        while n <= (2 * (rows - i) - 1): \n",
    "            print(\"*\", end = \"\") \n",
    "            n = n + 1\n",
    "        n = 1\n",
    "        print() \n",
    "  \n",
    "# Driver Code \n",
    "# number of rows input \n",
    "rows = 5\n",
    "Diamond(rows) \n",
    "    \n",
    "    "
   ]
  },
  {
   "cell_type": "code",
   "execution_count": 18,
   "metadata": {},
   "outputs": [
    {
     "name": "stdout",
     "output_type": "stream",
     "text": [
      "11\n",
      "     *\n",
      "    ***\n",
      "   *****\n",
      "  *******\n",
      " *********\n",
      "***********\n",
      " *********\n",
      "  *******\n",
      "   *****\n",
      "    ***\n",
      "     *\n"
     ]
    }
   ],
   "source": [
    "number = int(input())\n",
    "\n",
    "starCount = 0\n",
    "for iterator in range(1,((number//2) + 2)):\n",
    "    for innerIterator in range(1,(((number//2) + 2) - iterator)):\n",
    "        print(\" \",end=\"\")\n",
    "    starCount = 0\n",
    "    while ((iterator * 2) - 1) != starCount:\n",
    "        print(\"*\",end=\"\")\n",
    "        starCount = starCount + 1\n",
    "    print()\n",
    "    \n",
    "startStartCount = ((number//2) + 1)\n",
    "startStartValue = 0\n",
    "for iterator in range(1,startStartCount):\n",
    "    for innerIterator in range(1,(iterator + 1)):\n",
    "        print(\" \",end=\"\")\n",
    "    startStartValue = 0\n",
    "    while (number - (iterator * 2)) != startStartValue : \n",
    "        print(\"*\",end=\"\")\n",
    "        startStartValue = startStartValue + 1\n",
    "    print()\n",
    "    "
   ]
  },
  {
   "cell_type": "code",
   "execution_count": 44,
   "metadata": {},
   "outputs": [
    {
     "name": "stdout",
     "output_type": "stream",
     "text": [
      "11\n",
      "1 2 3 4 5 6 7 8 9 10 11 \n",
      "23 24 25 26 27 28 29 30 31 32 33 \n",
      "45 46 47 48 49 50 51 52 53 54 55 \n",
      "67 68 69 70 71 72 73 74 75 76 77 \n",
      "89 90 91 92 93 94 95 96 97 98 99 \n",
      "111 112 113 114 115 116 117 118 119 120 121 \n",
      "100 101 102 103 104 105 106 107 108 109 110 \n",
      "78 79 80 81 82 83 84 85 86 87 88 \n",
      "56 57 58 59 60 61 62 63 64 65 66 \n",
      "34 35 36 37 38 39 40 41 42 43 44 \n",
      "12 13 14 15 16 17 18 19 20 21 22 \n"
     ]
    }
   ],
   "source": [
    "number = int(input())\n",
    "\n",
    "squareValue = number*number;\n",
    "value = 1\n",
    "for iterator in range(1,(squareValue + 1),((number*2))):\n",
    "    for innerIterator in range(iterator,((iterator + number))):\n",
    "        print(innerIterator,end=\" \")\n",
    "    print()\n",
    "    value = value + 1\n",
    "\n",
    "if (number % 2) == 0:\n",
    "    startValue = (squareValue - number) + 1\n",
    "else:\n",
    "    startValue = (squareValue - (number * 2)) + 1\n",
    "for iterator in range(startValue,(number),(-(number*2))):\n",
    "    for innerIterator in range(iterator,((iterator + number))):\n",
    "        print(innerIterator,end=\" \")\n",
    "    print()\n",
    "    "
   ]
  },
  {
   "cell_type": "code",
   "execution_count": 92,
   "metadata": {},
   "outputs": [
    {
     "name": "stdout",
     "output_type": "stream",
     "text": [
      "9\n",
      "9 9 9 9 9 9 9 9 9 9 9 9 9 9 9 9 9 \n",
      "9 8 8 8 8 8 8 8 8 8 8 8 8 8 8 8 9 \n",
      "9 8 7 7 7 7 7 7 7 7 7 7 7 7 7 8 9 \n",
      "9 8 7 6 6 6 6 6 6 6 6 6 6 6 7 8 9 \n",
      "9 8 7 6 5 5 5 5 5 5 5 5 5 6 7 8 9 \n",
      "9 8 7 6 5 4 4 4 4 4 4 4 5 6 7 8 9 \n",
      "9 8 7 6 5 4 3 3 3 3 3 4 5 6 7 8 9 \n",
      "9 8 7 6 5 4 3 2 2 2 3 4 5 6 7 8 9 \n",
      "9 8 7 6 5 4 3 2 1 2 3 4 5 6 7 8 9 \n",
      "9 8 7 6 5 4 3 2 2 2 3 4 5 6 7 8 9 \n",
      "9 8 7 6 5 4 3 3 3 3 3 4 5 6 7 8 9 \n",
      "9 8 7 6 5 4 4 4 4 4 4 4 5 6 7 8 9 \n",
      "9 8 7 6 5 5 5 5 5 5 5 5 5 6 7 8 9 \n",
      "9 8 7 6 6 6 6 6 6 6 6 6 6 6 7 8 9 \n",
      "9 8 7 7 7 7 7 7 7 7 7 7 7 7 7 8 9 \n",
      "9 8 8 8 8 8 8 8 8 8 8 8 8 8 8 8 9 \n",
      "9 9 9 9 9 9 9 9 9 9 9 9 9 9 9 9 9 \n"
     ]
    }
   ],
   "source": [
    "#Rectangular Pattern\n",
    "number = int(input())\n",
    "colCount = 0\n",
    "previousValue = 0\n",
    "for iterator in range(0,number,1):\n",
    "    for innerIterator in range(0,number,1):\n",
    "        if (iterator != 0 and (colCount == 0 or innerIterator < iterator)):\n",
    "            colCount = innerIterator\n",
    "        if (innerIterator == iterator) :\n",
    "            colCount = iterator\n",
    "        print(number - (1 * colCount),end=\" \")\n",
    "        previousValue = number - (1 * colCount)\n",
    "    colCount = 0\n",
    "    \n",
    "    for innerIterator in range(2,number+1,1):\n",
    "        if innerIterator < previousValue:\n",
    "            print(previousValue,end=\" \")\n",
    "        else:\n",
    "            print(innerIterator,end=\" \")\n",
    "    print()\n",
    "    \n",
    "colCount = 0\n",
    "for iterator in range(number-1,0,-1):\n",
    "    for innerIterator in range(0,number,1):\n",
    "        if innerIterator < iterator:\n",
    "            colCount = innerIterator\n",
    "        print((number - (1*colCount)),end=\" \")\n",
    "        previousValue = (number - (1*colCount))\n",
    "        \n",
    "    for innerIterator in range(2,number+1,1):\n",
    "        if innerIterator < previousValue:\n",
    "            print(previousValue,end=\" \")\n",
    "        else:\n",
    "            print(innerIterator,end=\" \") \n",
    "    print()"
   ]
  }
 ],
 "metadata": {
  "kernelspec": {
   "display_name": "Python 3",
   "language": "python",
   "name": "python3"
  },
  "language_info": {
   "codemirror_mode": {
    "name": "ipython",
    "version": 3
   },
   "file_extension": ".py",
   "mimetype": "text/x-python",
   "name": "python",
   "nbconvert_exporter": "python",
   "pygments_lexer": "ipython3",
   "version": "3.7.3"
  }
 },
 "nbformat": 4,
 "nbformat_minor": 2
}
