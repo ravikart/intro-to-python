{
 "cells": [
  {
   "cell_type": "code",
   "execution_count": 1,
   "metadata": {},
   "outputs": [
    {
     "name": "stdout",
     "output_type": "stream",
     "text": [
      "[[9223372036854775807, 9223372036854775807, 9223372036854775807, 9223372036854775807], [9223372036854775807, 9223372036854775807, 9223372036854775807, 9223372036854775807], [9223372036854775807, 9223372036854775807, 9223372036854775807, 9223372036854775807], [9223372036854775807, 9223372036854775807, 9223372036854775807, 9223372036854775807], [9223372036854775807, 9223372036854775807, 9223372036854775807, 9223372036854775807]]\n",
      "[[30, 39, 48, 9223372036854775807], [29, 34, 37, 9223372036854775807], [23, 21, 25, 9223372036854775807], [49, 34, 18, 9223372036854775807], [9223372036854775807, 9223372036854775807, 9223372036854775807, 9223372036854775807]]\n",
      "30\n"
     ]
    }
   ],
   "source": [
    "import sys\n",
    "\n",
    "def minCostIterative(cost,n,m):\n",
    "    dp = [[sys.maxsize for j in range(m+1)] for i in range(n+1)]\n",
    "    #print(dp)\n",
    "    for i in range(n-1,-1,-1):\n",
    "        for j in range(m-1,-1,-1):\n",
    "            if i == n-1 and j==m-1:\n",
    "                dp[i][j] = cost[i][j]\n",
    "            else:\n",
    "                ans1 = dp[i+1][j]\n",
    "                ans2 = dp[i][j+1]\n",
    "                ans3 = dp[i+1][j+1]\n",
    "                dp[i][j] = cost[i][j] + min(ans1,ans2,ans3)\n",
    "    #print(dp)\n",
    "    return dp[0][0]\n",
    "\n",
    "sizeList = [int(i) for i in input().split()]\n",
    "m,n = sizeList[0],sizeList[1]\n",
    "dataList = list()\n",
    "for i in range(m):\n",
    "    rowValue = [int(x) for x in input().split()]\n",
    "    dataList.append(rowValue)\n",
    "print(dataList)\n",
    "ans = minCostIterative(dataList,n,m)\n",
    "print(ans)"
   ]
  }
 ],
 "metadata": {
  "kernelspec": {
   "display_name": "Python 3",
   "language": "python",
   "name": "python3"
  },
  "language_info": {
   "codemirror_mode": {
    "name": "ipython",
    "version": 3
   },
   "file_extension": ".py",
   "mimetype": "text/x-python",
   "name": "python",
   "nbconvert_exporter": "python",
   "pygments_lexer": "ipython3",
   "version": "3.7.3"
  }
 },
 "nbformat": 4,
 "nbformat_minor": 2
}
