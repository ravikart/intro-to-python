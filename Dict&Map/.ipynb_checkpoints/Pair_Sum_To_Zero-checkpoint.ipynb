{
 "cells": [
  {
   "cell_type": "code",
   "execution_count": 7,
   "metadata": {},
   "outputs": [
    {
     "name": "stdout",
     "output_type": "stream",
     "text": [
      "5\n",
      "2 1 -2 2 3\n",
      "-2 2 \n",
      "-2 2 \n"
     ]
    }
   ],
   "source": [
    "def pairSum0(l):\n",
    "    l.sort()\n",
    "    dictValue = {}\n",
    "    for element in l:\n",
    "        dictValue[element] = dictValue.get(element,0) + 1\n",
    "    listValue = list()\n",
    "    for dictElement in dictValue:\n",
    "        negativeCount = dictValue.get(dictElement*-1 , 0)\n",
    "        if negativeCount != 0 and (dictElement*-1) not in listValue:\n",
    "            listValue.append(dictElement)\n",
    "            loopCount = dictValue.get(dictElement) * negativeCount\n",
    "            for iterator in range(loopCount):\n",
    "                print(dictElement,dictElement*-1,end=\" \")\n",
    "                print()\n",
    "            listValue.append(dictElement*-1)\n",
    "            \n",
    "\n",
    "\n",
    "n=int(input())\n",
    "l=list(int(i) for i in input().strip().split(' '))\n",
    "pairSum0(l)"
   ]
  }
 ],
 "metadata": {
  "kernelspec": {
   "display_name": "Python 3",
   "language": "python",
   "name": "python3"
  },
  "language_info": {
   "codemirror_mode": {
    "name": "ipython",
    "version": 3
   },
   "file_extension": ".py",
   "mimetype": "text/x-python",
   "name": "python",
   "nbconvert_exporter": "python",
   "pygments_lexer": "ipython3",
   "version": "3.7.3"
  }
 },
 "nbformat": 4,
 "nbformat_minor": 2
}
