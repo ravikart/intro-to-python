{
 "cells": [
  {
   "cell_type": "code",
   "execution_count": 5,
   "metadata": {},
   "outputs": [
    {
     "name": "stdout",
     "output_type": "stream",
     "text": [
      "8\n",
      "2 6 10 11 13 4 1 20\n",
      "4\n",
      "20\n",
      "13\n",
      "11\n",
      "10\n"
     ]
    }
   ],
   "source": [
    "import heapq\n",
    "def kthLargest(lst, k):\n",
    "    heapq._heapify_max(lst)\n",
    "    iterator  = 0\n",
    "    while(iterator < (k-1)):\n",
    "        heapq._heappop_max(lst)\n",
    "        iterator = iterator + 1\n",
    "        \n",
    "    return heapq._heappop_max(lst)\n",
    "\n",
    "# Main Code\n",
    "n=int(input())\n",
    "lst=list(int(i) for i in input().strip().split(' '))\n",
    "k=int(input())\n",
    "ans=kthLargest(lst, k)\n",
    "print(ans)\n"
   ]
  },
  {
   "cell_type": "code",
   "execution_count": null,
   "metadata": {},
   "outputs": [],
   "source": [
    "import heapq\n",
    "def kthLargest(lst, k):\n",
    "    kthValue = lst[k]\n",
    "    dataList = lst\n",
    "    heapq._heapify_max(dataList)\n",
    "    iteratorFlag = false\n",
    "    while(!iteratorFlag):\n",
    "        heapq._heappop_max(lst)\n",
    "        iterator = iterator + 1\n",
    "        \n",
    "    return heapq._heappop_max(lst)\n",
    "\n",
    "# Main Code\n",
    "n=int(input())\n",
    "lst=list(int(i) for i in input().strip().split(' '))\n",
    "k=int(input())\n",
    "ans=kthLargest(lst, k)\n",
    "print(ans)\n"
   ]
  }
 ],
 "metadata": {
  "kernelspec": {
   "display_name": "Python 3",
   "language": "python",
   "name": "python3"
  },
  "language_info": {
   "codemirror_mode": {
    "name": "ipython",
    "version": 3
   },
   "file_extension": ".py",
   "mimetype": "text/x-python",
   "name": "python",
   "nbconvert_exporter": "python",
   "pygments_lexer": "ipython3",
   "version": "3.7.3"
  }
 },
 "nbformat": 4,
 "nbformat_minor": 2
}
