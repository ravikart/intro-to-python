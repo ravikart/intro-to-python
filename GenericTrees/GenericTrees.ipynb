{
 "cells": [
  {
   "cell_type": "code",
   "execution_count": 6,
   "metadata": {},
   "outputs": [],
   "source": [
    "class TreeNode:\n",
    "    def __init__(self,data):\n",
    "        self.data = data\n",
    "        self.children = list()\n"
   ]
  },
  {
   "cell_type": "code",
   "execution_count": 7,
   "metadata": {},
   "outputs": [],
   "source": [
    "def printTreeStructure(root):\n",
    "    if root is None:\n",
    "        return\n",
    "    \n",
    "    print(root.data,\":\",end=\"\")\n",
    "    for child in root.children:\n",
    "        print(child.data,\",\",end=\"\")\n",
    "        \n",
    "    print()\n",
    "    \n",
    "    for child in root.children:\n",
    "        printTree(child)\n",
    "        "
   ]
  },
  {
   "cell_type": "code",
   "execution_count": 5,
   "metadata": {},
   "outputs": [],
   "source": [
    "def printTree(root):\n",
    "    if root is None:\n",
    "        return\n",
    "    \n",
    "    print(root.data)\n",
    "    for child in root.children:\n",
    "        printTree(child)\n",
    "        "
   ]
  },
  {
   "cell_type": "code",
   "execution_count": 8,
   "metadata": {},
   "outputs": [],
   "source": [
    "def treeInput():\n",
    "    print(\"Enter root Data:  \")\n",
    "    rootData = int(input())\n",
    "    if rootData == -1:\n",
    "        return None\n",
    "    root = TreeNode(rootData)\n",
    "    \n",
    "    print(\"Enter No. Of Children: \",rootData)\n",
    "    childCount = int(input())\n",
    "    for i in range(childCount):\n",
    "        child = treeInput()\n",
    "        root.children.append(child)\n",
    "        \n",
    "    return root"
   ]
  },
  {
   "cell_type": "code",
   "execution_count": 13,
   "metadata": {},
   "outputs": [],
   "source": [
    "def numNodes(root):\n",
    "    if root is None:\n",
    "        return 0\n",
    "    \n",
    "    count = 1\n",
    "    \n",
    "    for child in root.children:\n",
    "        count = count + numNodes(child)\n",
    "        \n",
    "    return count\n",
    "    "
   ]
  },
  {
   "cell_type": "code",
   "execution_count": 14,
   "metadata": {},
   "outputs": [
    {
     "name": "stdout",
     "output_type": "stream",
     "text": [
      "Enter root Data:  \n",
      "5\n",
      "Enter No. Of Children:  5\n",
      "4\n",
      "Enter root Data:  \n",
      "2\n",
      "Enter No. Of Children:  2\n",
      "0\n",
      "Enter root Data:  \n",
      "3\n",
      "Enter No. Of Children:  3\n",
      "0\n",
      "Enter root Data:  \n",
      "4\n",
      "Enter No. Of Children:  4\n",
      "0\n",
      "Enter root Data:  \n",
      "5\n",
      "Enter No. Of Children:  5\n",
      "0\n",
      "5 :2 ,3 ,4 ,5 ,\n",
      "2\n",
      "3\n",
      "4\n",
      "5\n",
      "5\n"
     ]
    }
   ],
   "source": [
    "root  = treeInput()\n",
    "printTreeStructure(root)\n",
    "print(numNodes(root))"
   ]
  }
 ],
 "metadata": {
  "kernelspec": {
   "display_name": "Python 3",
   "language": "python",
   "name": "python3"
  },
  "language_info": {
   "codemirror_mode": {
    "name": "ipython",
    "version": 3
   },
   "file_extension": ".py",
   "mimetype": "text/x-python",
   "name": "python",
   "nbconvert_exporter": "python",
   "pygments_lexer": "ipython3",
   "version": "3.7.3"
  }
 },
 "nbformat": 4,
 "nbformat_minor": 2
}
