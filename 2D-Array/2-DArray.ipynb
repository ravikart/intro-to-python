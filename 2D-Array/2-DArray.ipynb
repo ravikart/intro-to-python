{
 "cells": [
  {
   "cell_type": "code",
   "execution_count": 1,
   "metadata": {},
   "outputs": [
    {
     "name": "stdout",
     "output_type": "stream",
     "text": [
      "[0, 1, 4, 9, 16]\n"
     ]
    }
   ],
   "source": [
    "li = [ele**2 for ele in range(5)]\n",
    "print(li)"
   ]
  },
  {
   "cell_type": "code",
   "execution_count": 2,
   "metadata": {},
   "outputs": [
    {
     "name": "stdout",
     "output_type": "stream",
     "text": [
      "[0, 9, 36, 81]\n"
     ]
    }
   ],
   "source": [
    "li = [ele**2 for ele in range(10) if ele%3 ==0]\n",
    "print(li)"
   ]
  },
  {
   "cell_type": "code",
   "execution_count": 3,
   "metadata": {},
   "outputs": [
    {
     "name": "stdout",
     "output_type": "stream",
     "text": [
      "[[0, 0, 0, 0], [0, 1, 2, 3], [0, 2, 4, 6]]\n"
     ]
    }
   ],
   "source": [
    "li = [[ i*j for j in range(4)] for i in range(3)]\n",
    "print(li)"
   ]
  },
  {
   "cell_type": "code",
   "execution_count": 6,
   "metadata": {},
   "outputs": [
    {
     "name": "stdout",
     "output_type": "stream",
     "text": [
      "4 2\n",
      "1 2 3 4 5 6 7 8\n",
      "[3, 7, 11, 15]\n"
     ]
    },
    {
     "ename": "TypeError",
     "evalue": "print() argument after * must be an iterable, not NoneType",
     "output_type": "error",
     "traceback": [
      "\u001b[1;31m---------------------------------------------------------------------------\u001b[0m",
      "\u001b[1;31mTypeError\u001b[0m                                 Traceback (most recent call last)",
      "\u001b[1;32m<ipython-input-6-e1bf27c6e0d4>\u001b[0m in \u001b[0;36m<module>\u001b[1;34m\u001b[0m\n\u001b[0;32m     17\u001b[0m \u001b[0marr\u001b[0m \u001b[1;33m=\u001b[0m \u001b[1;33m[\u001b[0m \u001b[1;33m[\u001b[0m \u001b[0ml\u001b[0m\u001b[1;33m[\u001b[0m\u001b[1;33m(\u001b[0m\u001b[0mj\u001b[0m\u001b[1;33m*\u001b[0m\u001b[0mn\u001b[0m\u001b[1;33m)\u001b[0m\u001b[1;33m+\u001b[0m\u001b[0mi\u001b[0m\u001b[1;33m]\u001b[0m \u001b[1;32mfor\u001b[0m \u001b[0mi\u001b[0m \u001b[1;32min\u001b[0m \u001b[0mrange\u001b[0m\u001b[1;33m(\u001b[0m\u001b[0mn\u001b[0m\u001b[1;33m)\u001b[0m\u001b[1;33m]\u001b[0m \u001b[1;32mfor\u001b[0m \u001b[0mj\u001b[0m \u001b[1;32min\u001b[0m \u001b[0mrange\u001b[0m\u001b[1;33m(\u001b[0m\u001b[0mm\u001b[0m\u001b[1;33m)\u001b[0m\u001b[1;33m]\u001b[0m\u001b[1;33m\u001b[0m\u001b[1;33m\u001b[0m\u001b[0m\n\u001b[0;32m     18\u001b[0m \u001b[0ml\u001b[0m\u001b[1;33m=\u001b[0m\u001b[0mrowWiseSum\u001b[0m\u001b[1;33m(\u001b[0m\u001b[0marr\u001b[0m\u001b[1;33m)\u001b[0m\u001b[1;33m\u001b[0m\u001b[1;33m\u001b[0m\u001b[0m\n\u001b[1;32m---> 19\u001b[1;33m \u001b[0mprint\u001b[0m\u001b[1;33m(\u001b[0m\u001b[1;33m*\u001b[0m\u001b[0ml\u001b[0m\u001b[1;33m)\u001b[0m\u001b[1;33m\u001b[0m\u001b[1;33m\u001b[0m\u001b[0m\n\u001b[0m",
      "\u001b[1;31mTypeError\u001b[0m: print() argument after * must be an iterable, not NoneType"
     ]
    }
   ],
   "source": [
    "def rowWiseSum(arr):\n",
    "    # Please add your code here\n",
    "    resultArray = []\n",
    "    \n",
    "    for iterator in arr:\n",
    "        count = 0\n",
    "        for innerIterator in iterator:\n",
    "            count = count + innerIterator\n",
    "        resultArray.append(count)\n",
    "    return resultArray\n",
    "\n",
    "#Main\n",
    "m, n=(int(i) for i in input().strip().split(' '))\n",
    "l=[int(i) for i in input().strip().split(' ')]\n",
    "arr = [ [ l[(j*n)+i] for i in range(n)] for j in range(m)]\n",
    "l=rowWiseSum(arr)\n",
    "print(*l)\n"
   ]
  },
  {
   "cell_type": "code",
   "execution_count": 8,
   "metadata": {},
   "outputs": [
    {
     "name": "stdout",
     "output_type": "stream",
     "text": [
      "159261037114812"
     ]
    }
   ],
   "source": [
    "li=[[1,2,3,4],[5,6,7,8],[9,10,11,12]]\n",
    "for j in range(4):\n",
    "    for ele in li:\n",
    "        print(ele[j],end = \"\" \"\")"
   ]
  },
  {
   "cell_type": "code",
   "execution_count": 11,
   "metadata": {},
   "outputs": [
    {
     "name": "stdout",
     "output_type": "stream",
     "text": [
      "3 3 \n",
      "3 6 9 1 4 7 2 8 9\n",
      "column 2 25\n"
     ]
    }
   ],
   "source": [
    "def largestRow(arr):\n",
    "    sumValue = 0\n",
    "    resultValue = [-1,-1]\n",
    "    iterator = 0\n",
    "    for rowIterator in arr:\n",
    "        sumValue = 0\n",
    "        for columnIterator in rowIterator:\n",
    "            sumValue = sumValue + columnIterator\n",
    "        if sumValue > resultValue[1]:\n",
    "            resultValue[1] = sumValue\n",
    "            resultValue[0] = iterator\n",
    "        iterator += 1\n",
    "    return resultValue\n",
    "\n",
    "def largestColumn(arr):\n",
    "    columnValue = len(arr[0])\n",
    "    resultValue = [-1,-1]\n",
    "    sumValue = -1\n",
    "    iterator = 0\n",
    "    for columnIterator in range(columnValue):\n",
    "        sumValue = 0\n",
    "        for element in arr:\n",
    "            sumValue = sumValue + element[columnIterator]\n",
    "        if sumValue > resultValue[1]:\n",
    "            resultValue[1] = sumValue\n",
    "            resultValue[0] = iterator\n",
    "        iterator += 1\n",
    "    return resultValue\n",
    "\n",
    "\n",
    "def largestRowCol(arr):\n",
    "    rowResult = largestRow(arr)\n",
    "    columnResult = largestColumn(arr)\n",
    "    if rowResult[1] >= columnResult[1]:\n",
    "        rowResult.insert(0,'row')\n",
    "        return rowResult\n",
    "    else:\n",
    "        columnResult.insert(0,'column')\n",
    "        return columnResult\n",
    "\n",
    "\n",
    "\n",
    "#Main\n",
    "m, n=(int(i) for i in input().strip().split(' '))\n",
    "l=[int(i) for i in input().strip().split(' ')]\n",
    "arr = [ [ l[(j*n)+i] for i in range(n)] for j in range(m)]\n",
    "l=largestRowCol(arr)\n",
    "print(*l)\n"
   ]
  },
  {
   "cell_type": "code",
   "execution_count": 19,
   "metadata": {},
   "outputs": [
    {
     "name": "stdout",
     "output_type": "stream",
     "text": [
      "3 4 1 2 3 4 5 6 7 8 9 10 11 12\n",
      "1 5 9 10 6 2 3 7 11 12 8 4\n"
     ]
    }
   ],
   "source": [
    "def wavePrint(arr):\n",
    "    # Please add your code here\n",
    "    result = []\n",
    "    columnValue = len(arr[0])\n",
    "    iterator  = 0\n",
    "    rowValue = len(arr) - 1\n",
    "    while(iterator < columnValue):\n",
    "        for rowElement in arr:\n",
    "            result.append(rowElement[iterator])\n",
    "        iterator += 1\n",
    "        if iterator < columnValue:      \n",
    "            rowValue = len(arr) - 1\n",
    "            for rowValue in range(rowValue,-1,-1):\n",
    "                result.append(arr[rowValue][iterator])\n",
    "            iterator += 1\n",
    "    print(*result)\n",
    "\n",
    "#Main\n",
    "l=[int(i) for i in input().strip().split(' ')]\n",
    "m, n=l[0], l[1]\n",
    "arr = [ [ l[(j*n)+i+2] for i in range(n)] for j in range(m)]\n",
    "wavePrint(arr)\n"
   ]
  },
  {
   "cell_type": "code",
   "execution_count": 23,
   "metadata": {},
   "outputs": [
    {
     "name": "stdout",
     "output_type": "stream",
     "text": [
      "4 4 1 2 3 4 5 6 7 8 9 10 11 12 13 14 15 16\n",
      "1 2 3 4 8 12 16 15 14 13 9 5 6 7 11 10 "
     ]
    }
   ],
   "source": [
    "def spiralPrint(arr):\n",
    "    # Please add your code here\n",
    "    startRowIndex = 0\n",
    "    startColumnIndex = len(arr[0])\n",
    "    endRowIndex = len(arr)\n",
    "    endColumnIndex = 0\n",
    "    while((startRowIndex < endRowIndex) and (startColumnIndex > endColumnIndex)):\n",
    "        #print left to right row wise\n",
    "        for iterator in range(endColumnIndex, startColumnIndex):\n",
    "            print(arr[startRowIndex][iterator],end=\" \");\n",
    "        startRowIndex += 1\n",
    "        \n",
    "        #print top to bottom column wise\n",
    "        for iterator in range(startRowIndex,endRowIndex):\n",
    "            print(arr[iterator][startColumnIndex-1],end=\" \")\n",
    "        startColumnIndex -= 1\n",
    "        \n",
    "        if startRowIndex < endRowIndex :\n",
    "            for iterator in range(startColumnIndex-1,(endColumnIndex-1),-1):\n",
    "                print(arr[endRowIndex-1][iterator],end=\" \")\n",
    "            endRowIndex -= 1\n",
    "            \n",
    "        if endColumnIndex < startColumnIndex:\n",
    "            for iterator in range(endRowIndex-1,startRowIndex-1,-1):\n",
    "                print(arr[iterator][endColumnIndex],end=\" \")\n",
    "            endColumnIndex += 1\n",
    "        \n",
    "        \n",
    "        \n",
    "\n",
    "#Main\n",
    "l=[int(i) for i in input().strip().split(' ')]\n",
    "m, n=l[0], l[1]\n",
    "arr = [ [ l[(j*n)+i+2] for i in range(n)] for j in range(m)]\n",
    "spiralPrint(arr)\n"
   ]
  }
 ],
 "metadata": {
  "kernelspec": {
   "display_name": "Python 3",
   "language": "python",
   "name": "python3"
  },
  "language_info": {
   "codemirror_mode": {
    "name": "ipython",
    "version": 3
   },
   "file_extension": ".py",
   "mimetype": "text/x-python",
   "name": "python",
   "nbconvert_exporter": "python",
   "pygments_lexer": "ipython3",
   "version": "3.7.3"
  }
 },
 "nbformat": 4,
 "nbformat_minor": 2
}
