{
 "cells": [
  {
   "cell_type": "code",
   "execution_count": 7,
   "metadata": {},
   "outputs": [
    {
     "name": "stdout",
     "output_type": "stream",
     "text": [
      "7\n",
      "1 2 3 4 5 6 7\n",
      "[1, 2, 3]\n",
      "[1]\n",
      "[]\n",
      "[]\n",
      "[5]\n",
      "[]\n",
      "[]\n",
      "4 2 1 3 6 5 7 "
     ]
    }
   ],
   "source": [
    "import queue\n",
    "class BinaryTreeNode:\n",
    "    def __init__(self, data):\n",
    "        self.data = data\n",
    "        self.left = None\n",
    "        self.right = None\n",
    "\n",
    "def constructBST(lst):\n",
    "    length = len(lst)\n",
    "    if length <= 0:\n",
    "        return None\n",
    "    index = 0\n",
    "    if length%2 == 0:\n",
    "        index = length//2 - 1\n",
    "    else:\n",
    "        index = length//2\n",
    "    \n",
    "    root  = BinaryTreeNode(lst[index])\n",
    "    leftNode = constructBST(lst[:index])\n",
    "    rightNode = constructBST(lst[index+1:])\n",
    "    root.left = leftNode\n",
    "    root.right = rightNode\n",
    "    return root\n",
    "\n",
    "def preOrder(root):\n",
    "    # Given a binary tree, print the preorder traversal of given tree. Pre-order\n",
    "    # traversal is: Root LeftChild RightChild\n",
    "    if root==None:\n",
    "        return\n",
    "    print(root.data, end=' ')\n",
    "    preOrder(root.left)\n",
    "    preOrder(root.right)\n",
    "\n",
    "# Main\n",
    "n=int(input())\n",
    "lst=[int(i) for i in input().strip().split()]\n",
    "root=constructBST(lst)\n",
    "preOrder(root)\n"
   ]
  },
  {
   "cell_type": "code",
   "execution_count": 3,
   "metadata": {},
   "outputs": [
    {
     "data": {
      "text/plain": [
       "3"
      ]
     },
     "execution_count": 3,
     "metadata": {},
     "output_type": "execute_result"
    }
   ],
   "source": [
    "7//2"
   ]
  }
 ],
 "metadata": {
  "kernelspec": {
   "display_name": "Python 3",
   "language": "python",
   "name": "python3"
  },
  "language_info": {
   "codemirror_mode": {
    "name": "ipython",
    "version": 3
   },
   "file_extension": ".py",
   "mimetype": "text/x-python",
   "name": "python",
   "nbconvert_exporter": "python",
   "pygments_lexer": "ipython3",
   "version": "3.7.3"
  }
 },
 "nbformat": 4,
 "nbformat_minor": 2
}
