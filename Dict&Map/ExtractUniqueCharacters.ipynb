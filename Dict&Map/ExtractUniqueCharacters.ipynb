{
 "cells": [
  {
   "cell_type": "code",
   "execution_count": 1,
   "metadata": {},
   "outputs": [
    {
     "name": "stdout",
     "output_type": "stream",
     "text": [
      "ababacd\n",
      "abcdNone\n"
     ]
    }
   ],
   "source": [
    "def uniqueChars(string):\n",
    "    dictValue = {}\n",
    "    for character in string:\n",
    "        characterCount = dictValue.get(character,0)\n",
    "        if characterCount == 0:\n",
    "            print(character,end=\"\")\n",
    "        dictValue[character] = characterCount + 1\n",
    "        \n",
    "\n",
    "# Main\n",
    "string = input()\n",
    "uniqueChars(string)\n"
   ]
  }
 ],
 "metadata": {
  "kernelspec": {
   "display_name": "Python 3",
   "language": "python",
   "name": "python3"
  },
  "language_info": {
   "codemirror_mode": {
    "name": "ipython",
    "version": 3
   },
   "file_extension": ".py",
   "mimetype": "text/x-python",
   "name": "python",
   "nbconvert_exporter": "python",
   "pygments_lexer": "ipython3",
   "version": "3.7.3"
  }
 },
 "nbformat": 4,
 "nbformat_minor": 2
}
