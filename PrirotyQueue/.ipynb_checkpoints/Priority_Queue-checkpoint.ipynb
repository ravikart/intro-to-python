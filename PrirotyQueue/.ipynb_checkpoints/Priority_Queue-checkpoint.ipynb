{
 "cells": [
  {
   "cell_type": "code",
   "execution_count": null,
   "metadata": {},
   "outputs": [],
   "source": [
    "class PriorityQueueNode:\n",
    "    def __init__(self,value,priority):\n",
    "        self.value = value\n",
    "        self.priority = priority\n",
    "\n",
    "\n",
    "class PriorityQueue:\n",
    "    \n",
    "    def __init__():\n",
    "        self.pq = []\n",
    "        \n",
    "    def getMin():\n",
    "        if self.isEmpty() is True:\n",
    "            return None\n",
    "        return self.pq[0].value\n",
    "    \n",
    "    def getSize():\n",
    "        return len(self.pq)\n",
    "    \n",
    "    def isEmpty():\n",
    "        return self.getSize() == 0\n",
    "    \n",
    "    def __percolateUp(self):\n",
    "        childIndex = self.getSize() - 1\n",
    "        while (childIndex > 0):\n",
    "            parentIndex = (childIndex - 1)//2\n",
    "            if self.pq[childIndex].priority < self.pq[parentIndex].priority:\n",
    "                self.pq[childIndex],self.pq[parentIndex] = self.pq[parentIndex],self.pq[childIndex]\n",
    "                childIndex = parentIndex\n",
    "            else:\n",
    "                break\n",
    "    \n",
    "    def insert(self,value,priority):\n",
    "        pqNode = PriorityQueueNode(value,priority)\n",
    "        self.pq.append(pqNode)\n",
    "        self.__percolateUp()\n",
    "        \n",
    "    \n",
    "    def remove(self):\n",
    "        pass\n",
    "    \n",
    "    "
   ]
  }
 ],
 "metadata": {
  "kernelspec": {
   "display_name": "Python 3",
   "language": "python",
   "name": "python3"
  },
  "language_info": {
   "codemirror_mode": {
    "name": "ipython",
    "version": 3
   },
   "file_extension": ".py",
   "mimetype": "text/x-python",
   "name": "python",
   "nbconvert_exporter": "python",
   "pygments_lexer": "ipython3",
   "version": "3.7.3"
  }
 },
 "nbformat": 4,
 "nbformat_minor": 2
}
