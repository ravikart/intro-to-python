{
 "cells": [
  {
   "cell_type": "code",
   "execution_count": 4,
   "metadata": {},
   "outputs": [
    {
     "name": "stdout",
     "output_type": "stream",
     "text": [
      "1 2 3 4 5 -1\n",
      "3\n",
      "2\n",
      "3 4 5 1 2 \n"
     ]
    }
   ],
   "source": [
    "class Node:\n",
    "    def __init__(self, data):\n",
    "        self.data = data\n",
    "        self.next = None\n",
    "        \n",
    "        \n",
    "def length(head):\n",
    "    if head is None:\n",
    "        return 0\n",
    "    return 1 + length(head.next)\n",
    "\n",
    "def append_LinkedList(head,n) :\n",
    "    if n == 0:\n",
    "        return None\n",
    "    \n",
    "    pos = length(head) - n\n",
    "    curr = head\n",
    "    prev = head\n",
    "    \n",
    "    for i in range(1,pos):\n",
    "        curr = curr.next\n",
    "    last = curr\n",
    "    temp = curr.next\n",
    "    head = temp\n",
    "    \n",
    "    while curr.next is not None:\n",
    "        curr = curr.next\n",
    "    curr.next = prev\n",
    "    last.next = None\n",
    "    \n",
    "    return head\n",
    "\n",
    "def ll(arr):\n",
    "    if len(arr)==0:\n",
    "        return None\n",
    "    head = Node(arr[0])\n",
    "    last = head\n",
    "    for data in arr[1:]:\n",
    "        last.next = Node(data)\n",
    "        last = last.next\n",
    "    return head\n",
    "\n",
    "def printll(head):\n",
    "    while head:\n",
    "        print(head.data, end=' ')\n",
    "        head = head.next\n",
    "    print()\n",
    "\n",
    "# Main\n",
    "# Read the link list elements including -1\n",
    "arr=list(int(i) for i in input().strip().split(' '))\n",
    "# Create a Linked list after removing -1 from list\n",
    "l = ll(arr[:-1])\n",
    "i=int(input())\n",
    "l = append_LinkedList(l, i)\n",
    "printll(l)\n"
   ]
  }
 ],
 "metadata": {
  "kernelspec": {
   "display_name": "Python 3",
   "language": "python",
   "name": "python3"
  },
  "language_info": {
   "codemirror_mode": {
    "name": "ipython",
    "version": 3
   },
   "file_extension": ".py",
   "mimetype": "text/x-python",
   "name": "python",
   "nbconvert_exporter": "python",
   "pygments_lexer": "ipython3",
   "version": "3.7.3"
  }
 },
 "nbformat": 4,
 "nbformat_minor": 2
}
