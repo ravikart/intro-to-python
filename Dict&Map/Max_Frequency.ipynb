{
 "cells": [
  {
   "cell_type": "code",
   "execution_count": 1,
   "metadata": {},
   "outputs": [
    {
     "name": "stdout",
     "output_type": "stream",
     "text": [
      "10\n",
      "675 28 -429 -290 444 -949 992 -850 280 810\n",
      "675\n"
     ]
    }
   ],
   "source": [
    "def maxFreq(l):\n",
    "    dictValue = {}\n",
    "    maxCount = 0\n",
    "    resultValue = None\n",
    "    for element in l:\n",
    "        dictValue[element] = dictValue.get(element,0) + 1\n",
    "        if maxCount < dictValue[element]:\n",
    "            maxCount = dictValue[element]\n",
    "            resultValue = element\n",
    "               \n",
    "    return resultValue\n",
    "# Main\n",
    "n=int(input())\n",
    "l=list(int(i) for i in input().strip().split(' '))\n",
    "print(maxFreq(l))\n"
   ]
  }
 ],
 "metadata": {
  "kernelspec": {
   "display_name": "Python 3",
   "language": "python",
   "name": "python3"
  },
  "language_info": {
   "codemirror_mode": {
    "name": "ipython",
    "version": 3
   },
   "file_extension": ".py",
   "mimetype": "text/x-python",
   "name": "python",
   "nbconvert_exporter": "python",
   "pygments_lexer": "ipython3",
   "version": "3.7.3"
  }
 },
 "nbformat": 4,
 "nbformat_minor": 2
}
