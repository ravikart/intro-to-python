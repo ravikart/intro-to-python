{
 "cells": [
  {
   "cell_type": "code",
   "execution_count": 8,
   "metadata": {},
   "outputs": [
    {
     "name": "stdout",
     "output_type": "stream",
     "text": [
      "20\n",
      "4\n"
     ]
    }
   ],
   "source": [
    "import sys\n",
    "\n",
    "def minStepsTo1(n,dp):\n",
    "    if n == 1:\n",
    "        return 0\n",
    "    \n",
    "    ans1 = sys.maxsize\n",
    "    if n%3 == 0:\n",
    "        if dp[n//3] == -1:\n",
    "            ans1 = minStepsTo1(n//3,dp)\n",
    "            dp[n//3] = ans1\n",
    "        else:\n",
    "            ans1 = dp[n//3]\n",
    "        \n",
    "    ans2 = sys.maxsize    \n",
    "    if n%2 == 0:\n",
    "        if dp[n//2] == -1: \n",
    "            ans2 = minStepsTo1(n//2,dp)\n",
    "            dp[n//2] = ans2\n",
    "        else:\n",
    "            ans2 = dp[n//2]\n",
    "        \n",
    "    if dp[n-1] == -1:\n",
    "        ans3 = minStepsTo1(n - 1,dp)\n",
    "        dp[n-1] = ans3\n",
    "    else:\n",
    "        ans3 = dp[n-1]\n",
    "    ans = 1 + min(ans1,ans2,ans3)\n",
    "    \n",
    "    return ans\n",
    "    \n",
    "    \n",
    "    \n",
    "    \n",
    "n = int(input())\n",
    "dp = [-1 for i in range(n+1)]\n",
    "ans=minStepsTo1(n,dp)\n",
    "print(ans)"
   ]
  },
  {
   "cell_type": "code",
   "execution_count": null,
   "metadata": {},
   "outputs": [],
   "source": [
    "import sys\n",
    "def minSteps(n):\n",
    "    dp = [-1 for i in range(n+1)]\n",
    "    dp[1] = 0\n",
    "    dp[0] = 0\n",
    "    for i in range(2, n+1):\n",
    "        \n",
    "        if dp[i] == -1:\n",
    "            ans1 = dp[i-1]\n",
    "        \n",
    "        if i%2 == 0:\n",
    "            x = i//2\n",
    "            if dp[i//2] == -1:\n",
    "                ans2 = 1 + dp[x//2]\n",
    "            else:\n",
    "                ans2 = dp[i//2]\n",
    "        else:\n",
    "            ans2 = sys.maxsize\n",
    "            \n",
    "        if i%3 == 0:\n",
    "            y = i//3\n",
    "            if dp[i//3] == -1:\n",
    "                ans2 = 1 + dp[y//3]\n",
    "            else:\n",
    "                ans3 = dp[i//3]      \n",
    "        else:\n",
    "            ans3 = sys.maxsize\n",
    "            \n",
    "        ans = 1+min(ans1,ans2,ans3)\n",
    "        dp[i] = ans\n",
    "    return dp[n]\n",
    "\n",
    "n = int(input())        \n",
    "print(minSteps(n))"
   ]
  }
 ],
 "metadata": {
  "kernelspec": {
   "display_name": "Python 3",
   "language": "python",
   "name": "python3"
  },
  "language_info": {
   "codemirror_mode": {
    "name": "ipython",
    "version": 3
   },
   "file_extension": ".py",
   "mimetype": "text/x-python",
   "name": "python",
   "nbconvert_exporter": "python",
   "pygments_lexer": "ipython3",
   "version": "3.7.3"
  }
 },
 "nbformat": 4,
 "nbformat_minor": 2
}
