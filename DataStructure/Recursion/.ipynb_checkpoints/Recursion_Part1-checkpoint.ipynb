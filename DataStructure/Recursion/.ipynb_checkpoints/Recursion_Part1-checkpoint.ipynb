{
 "cells": [
  {
   "cell_type": "code",
   "execution_count": 15,
   "metadata": {},
   "outputs": [
    {
     "name": "stdout",
     "output_type": "stream",
     "text": [
      "2 5\n",
      "32\n"
     ]
    }
   ],
   "source": [
    "def calculatePower(value,power,multiValue):\n",
    "    if power == 0:\n",
    "        return value\n",
    "    else:\n",
    "        value = value * multiValue \n",
    "    return calculatePower(value,power,multiValue);\n",
    "    \n",
    "value = [int(x) for x in input().split()]\n",
    "print(calculatePower(value[0],value[1],value[0]))"
   ]
  }
 ],
 "metadata": {
  "kernelspec": {
   "display_name": "Python 3",
   "language": "python",
   "name": "python3"
  },
  "language_info": {
   "codemirror_mode": {
    "name": "ipython",
    "version": 3
   },
   "file_extension": ".py",
   "mimetype": "text/x-python",
   "name": "python",
   "nbconvert_exporter": "python",
   "pygments_lexer": "ipython3",
   "version": "3.7.3"
  }
 },
 "nbformat": 4,
 "nbformat_minor": 2
}
