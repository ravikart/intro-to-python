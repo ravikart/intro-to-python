{
 "cells": [
  {
   "cell_type": "code",
   "execution_count": 18,
   "metadata": {},
   "outputs": [
    {
     "name": "stdout",
     "output_type": "stream",
     "text": [
      "4 0\n",
      "1\n"
     ]
    }
   ],
   "source": [
    "def calculatePower(value,power,multiValue,iterator):\n",
    "    if value == 0:\n",
    "        return 1\n",
    "    elif power == 0:\n",
    "        return 1\n",
    "    elif iterator == power:\n",
    "        return value\n",
    "    else:\n",
    "        value = value * multiValue\n",
    "    return calculatePower(value,power,multiValue,iterator+1);\n",
    "    \n",
    "value = [int(x) for x in input().split()]\n",
    "print(calculatePower(value[0],value[1],value[0],1))"
   ]
  }
 ],
 "metadata": {
  "kernelspec": {
   "display_name": "Python 3",
   "language": "python",
   "name": "python3"
  },
  "language_info": {
   "codemirror_mode": {
    "name": "ipython",
    "version": 3
   },
   "file_extension": ".py",
   "mimetype": "text/x-python",
   "name": "python",
   "nbconvert_exporter": "python",
   "pygments_lexer": "ipython3",
   "version": "3.7.3"
  }
 },
 "nbformat": 4,
 "nbformat_minor": 2
}
